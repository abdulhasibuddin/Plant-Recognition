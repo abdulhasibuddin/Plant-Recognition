{
  "nbformat": 4,
  "nbformat_minor": 0,
  "metadata": {
    "colab": {
      "name": "Layer_Activation_Visualization.ipynb",
      "provenance": [],
      "collapsed_sections": [
        "Ef6j77WsBhYq",
        "ktdie3scBFeV"
      ]
    },
    "kernelspec": {
      "display_name": "Python 3",
      "name": "python3"
    },
    "language_info": {
      "name": "python"
    }
  },
  "cells": [
    {
      "cell_type": "markdown",
      "metadata": {
        "id": "TcEI8iWij_Z3"
      },
      "source": [
        "#Import Libraries:"
      ]
    },
    {
      "cell_type": "code",
      "metadata": {
        "id": "cWgae7yJpO6v"
      },
      "source": [
        "import tensorflow\n",
        "from tensorflow.keras.datasets import mnist\n",
        "from tensorflow.keras.models import Sequential\n",
        "from tensorflow.keras.layers import Dense, Dropout, Flatten\n",
        "from tensorflow.keras.layers import Conv2D, MaxPooling2D\n",
        "from tensorflow.keras import backend as K\n",
        "from tensorflow.keras import activations\n",
        "\n",
        "from tensorflow.keras.layers import *\n",
        "from tensorflow.keras.models import Model, load_model\n",
        "from tensorflow.keras import models\n",
        "from tensorflow.keras import layers\n",
        "\n",
        "import numpy as np\n",
        "from tqdm import tqdm\n",
        "import math\n",
        "\n",
        "import matplotlib.pyplot as plt"
      ],
      "execution_count": 368,
      "outputs": []
    },
    {
      "cell_type": "markdown",
      "metadata": {
        "id": "Ef6j77WsBhYq"
      },
      "source": [
        "# Dataset:"
      ]
    },
    {
      "cell_type": "code",
      "metadata": {
        "id": "HWwcWHIKpO_6"
      },
      "source": [
        "# Load MNIST dataset\n",
        "(input_train, target_train), (input_test, target_test) = mnist.load_data()\n",
        "#(input_train, target_train), (input_test, target_test) = tensorflow.keras.datasets.cifar10.load_data()"
      ],
      "execution_count": 260,
      "outputs": []
    },
    {
      "cell_type": "code",
      "metadata": {
        "id": "Odw8T4J2pqGU",
        "colab": {
          "base_uri": "https://localhost:8080/"
        },
        "outputId": "3935cd17-a183-4fd3-eb20-383ca2e22e9f"
      },
      "source": [
        "input_train = input_train / 255\n",
        "input_test = input_test / 255\n",
        "\n",
        "print(f\"input_train.shape = {input_train.shape}\")\n",
        "print(f\"input_test.shape = {input_test.shape}\")"
      ],
      "execution_count": 261,
      "outputs": [
        {
          "output_type": "stream",
          "text": [
            "input_train.shape = (60000, 28, 28)\n",
            "input_test.shape = (10000, 28, 28)\n"
          ],
          "name": "stdout"
        }
      ]
    },
    {
      "cell_type": "code",
      "metadata": {
        "colab": {
          "base_uri": "https://localhost:8080/"
        },
        "id": "luezOA85CKuR",
        "outputId": "b82c896d-0b2f-4909-a246-0a6599bc7c4d"
      },
      "source": [
        "if len(input_test.shape) == 3:\n",
        "    input_train = np.expand_dims(input_train, axis=3)\n",
        "    input_test = np.expand_dims(input_test, axis=3)\n",
        "\n",
        "    print(f\"input_train.shape = {input_train.shape}\")\n",
        "    print(f\"input_test.shape = {input_test.shape}\")\n",
        "else:\n",
        "    print(f\"len(input_test.shape) = {len(input_test.shape)}\")"
      ],
      "execution_count": 262,
      "outputs": [
        {
          "output_type": "stream",
          "text": [
            "input_train.shape = (60000, 28, 28, 1)\n",
            "input_test.shape = (10000, 28, 28, 1)\n"
          ],
          "name": "stdout"
        }
      ]
    },
    {
      "cell_type": "code",
      "metadata": {
        "colab": {
          "base_uri": "https://localhost:8080/"
        },
        "id": "WEzwyCbTgIZe",
        "outputId": "8b9b4597-391c-4834-ea2e-d1b7243b39b5"
      },
      "source": [
        "num_classes = np.unique(target_test).shape[0]\n",
        "num_classes"
      ],
      "execution_count": 263,
      "outputs": [
        {
          "output_type": "execute_result",
          "data": {
            "text/plain": [
              "10"
            ]
          },
          "metadata": {
            "tags": []
          },
          "execution_count": 263
        }
      ]
    },
    {
      "cell_type": "code",
      "metadata": {
        "id": "J4lmZoECfshp"
      },
      "source": [
        "target_train = tensorflow.keras.utils.to_categorical(target_train, num_classes)\n",
        "target_test = tensorflow.keras.utils.to_categorical(target_test, num_classes)"
      ],
      "execution_count": 264,
      "outputs": []
    },
    {
      "cell_type": "code",
      "metadata": {
        "colab": {
          "base_uri": "https://localhost:8080/"
        },
        "id": "x_-gvBdKgY6C",
        "outputId": "2c745073-f942-4b59-b7fb-dfb371e610ea"
      },
      "source": [
        "print(f\"target_train.shape = {target_train.shape}\")\n",
        "print(f\"target_test.shape = {target_test.shape}\")"
      ],
      "execution_count": 265,
      "outputs": [
        {
          "output_type": "stream",
          "text": [
            "target_train.shape = (60000, 10)\n",
            "target_test.shape = (10000, 10)\n"
          ],
          "name": "stdout"
        }
      ]
    },
    {
      "cell_type": "code",
      "metadata": {
        "colab": {
          "base_uri": "https://localhost:8080/",
          "height": 265
        },
        "id": "aPVjov2zetQc",
        "outputId": "2d6cc6ba-3209-453b-8432-7d0d73cdfa77"
      },
      "source": [
        "import matplotlib.pyplot as plt\n",
        "if input_test.shape[-1] == 1:\n",
        "    plt.imshow(input_train[0,:,:,0])\n",
        "else:\n",
        "    plt.imshow(input_train[0,:,:,:])\n",
        "plt.show()"
      ],
      "execution_count": 266,
      "outputs": [
        {
          "output_type": "display_data",
          "data": {
            "image/png": "[encoded data removed]",
            "text/plain": [
              "<Figure size 432x288 with 1 Axes>"
            ]
          },
          "metadata": {
            "tags": [],
            "needs_background": "light"
          }
        }
      ]
    },
    {
      "cell_type": "markdown",
      "metadata": {
        "id": "041SDwi3qMRE"
      },
      "source": [
        "# Model:"
      ]
    },
    {
      "cell_type": "code",
      "metadata": {
        "id": "hivPCYiNpO9R"
      },
      "source": [
        "# Model configuration\n",
        "batch_size = 250\n",
        "no_epochs = 1"
      ],
      "execution_count": 406,
      "outputs": []
    },
    {
      "cell_type": "code",
      "metadata": {
        "colab": {
          "base_uri": "https://localhost:8080/"
        },
        "id": "b2pSLBOmvjJs",
        "outputId": "afcae23d-f289-4f0e-fc17-bb5941e10016"
      },
      "source": [
        "input_train.shape"
      ],
      "execution_count": 407,
      "outputs": [
        {
          "output_type": "execute_result",
          "data": {
            "text/plain": [
              "(60000, 28, 28, 1)"
            ]
          },
          "metadata": {
            "tags": []
          },
          "execution_count": 407
        }
      ]
    },
    {
      "cell_type": "code",
      "metadata": {
        "colab": {
          "base_uri": "https://localhost:8080/"
        },
        "id": "rNA8KbOpvYPa",
        "outputId": "b79a2f5a-5ca4-4bbb-a548-e432b55bec77"
      },
      "source": [
        "inputs = Input(input_train.shape[1:])\n",
        "x = inputs\n",
        "\n",
        "x = Conv2D(6, kernel_size=(5, 5), activation='relu', name='L1_Conv2D_1')(x)\n",
        "x = MaxPooling2D(pool_size=(2, 2), name='L2_MaxPooling2D_1')(x)\n",
        "x = Conv2D(10, kernel_size=(5, 5), activation='relu', name='L3_Conv2D_2')(x)\n",
        "x = Conv2D(256, kernel_size=(5, 5), activation='relu', name='L4_Conv2D_3')(x)\n",
        "\n",
        "x = Flatten(name='L4_Flatten_1')(x)\n",
        "x = Dense(256, activation='relu', name='L5_Dense_1')(x)\n",
        "x = Dense(4096, activation='relu', name='L6_Dense_2')(x)\n",
        "\n",
        "outputs = Dense(num_classes, activation='softmax', name='L7_Dense_2')(x)\n",
        "\n",
        "model=Model(inputs=inputs,outputs=outputs)\n",
        "model.summary()"
      ],
      "execution_count": 408,
      "outputs": [
        {
          "output_type": "stream",
          "text": [
            "Model: \"model_10\"\n",
            "_________________________________________________________________\n",
            "Layer (type)                 Output Shape              Param #   \n",
            "=================================================================\n",
            "input_11 (InputLayer)        [(None, 28, 28, 1)]       0         \n",
            "_________________________________________________________________\n",
            "L1_Conv2D_1 (Conv2D)         (None, 24, 24, 6)         156       \n",
            "_________________________________________________________________\n",
            "L2_MaxPooling2D_1 (MaxPoolin (None, 12, 12, 6)         0         \n",
            "_________________________________________________________________\n",
            "L3_Conv2D_2 (Conv2D)         (None, 8, 8, 10)          1510      \n",
            "_________________________________________________________________\n",
            "L4_Conv2D_3 (Conv2D)         (None, 4, 4, 256)         64256     \n",
            "_________________________________________________________________\n",
            "L4_Flatten_1 (Flatten)       (None, 4096)              0         \n",
            "_________________________________________________________________\n",
            "L5_Dense_1 (Dense)           (None, 256)               1048832   \n",
            "_________________________________________________________________\n",
            "L6_Dense_2 (Dense)           (None, 4096)              1052672   \n",
            "_________________________________________________________________\n",
            "L7_Dense_2 (Dense)           (None, 10)                40970     \n",
            "=================================================================\n",
            "Total params: 2,208,396\n",
            "Trainable params: 2,208,396\n",
            "Non-trainable params: 0\n",
            "_________________________________________________________________\n"
          ],
          "name": "stdout"
        }
      ]
    },
    {
      "cell_type": "code",
      "metadata": {
        "colab": {
          "base_uri": "https://localhost:8080/",
          "height": 656
        },
        "id": "slV_u-fgMn7f",
        "outputId": "0db47e31-990b-4987-f646-9ec13a0a10fe"
      },
      "source": [
        "#'''\n",
        "tensorflow.keras.utils.plot_model(\n",
        "    model, to_file='model.png', show_shapes=True, show_dtype=False,\n",
        "    show_layer_names=True, rankdir='TB', expand_nested=True, dpi=64\n",
        ")\n",
        "#'''"
      ],
      "execution_count": 409,
      "outputs": [
        {
          "output_type": "execute_result",
          "data": {
            "image/png": "[encoded data removed]",
            "text/plain": [
              "<IPython.core.display.Image object>"
            ]
          },
          "metadata": {
            "tags": []
          },
          "execution_count": 409
        }
      ]
    },
    {
      "cell_type": "code",
      "metadata": {
        "id": "uOTOo_OssYZA"
      },
      "source": [
        "# Compile the model\n",
        "model.compile(loss=tensorflow.keras.losses.categorical_crossentropy,\n",
        "              optimizer=tensorflow.keras.optimizers.Adam(),\n",
        "              metrics=['accuracy'])\n"
      ],
      "execution_count": 410,
      "outputs": []
    },
    {
      "cell_type": "code",
      "metadata": {
        "colab": {
          "base_uri": "https://localhost:8080/"
        },
        "id": "-tiMRYxWpqOY",
        "outputId": "4a7b04da-c06e-4bf6-a5c1-a0d94b234238"
      },
      "source": [
        "# Fit data to model\n",
        "model.fit(input_train, target_train,\n",
        "          batch_size=batch_size,\n",
        "          epochs=no_epochs,\n",
        "          verbose=1,\n",
        "          #validation_split=validation_split,\n",
        "          validation_data=(input_test, target_test)\n",
        "          )"
      ],
      "execution_count": 411,
      "outputs": [
        {
          "output_type": "stream",
          "text": [
            "240/240 [==============================] - 50s 205ms/step - loss: 0.2782 - accuracy: 0.9125 - val_loss: 0.0736 - val_accuracy: 0.9760\n"
          ],
          "name": "stdout"
        },
        {
          "output_type": "execute_result",
          "data": {
            "text/plain": [
              "<tensorflow.python.keras.callbacks.History at 0x7f56486be8d0>"
            ]
          },
          "metadata": {
            "tags": []
          },
          "execution_count": 411
        }
      ]
    },
    {
      "cell_type": "code",
      "metadata": {
        "colab": {
          "base_uri": "https://localhost:8080/"
        },
        "id": "RsnL9zGEpqQ0",
        "outputId": "e0279586-f333-48e6-c908-376b8b99c65e"
      },
      "source": [
        "# Generate generalization metrics \n",
        "score = model.evaluate(input_test, target_test, verbose=1)\n",
        "print(f'Test loss: {score[0]} / Test accuracy: {score[1]}')"
      ],
      "execution_count": 412,
      "outputs": [
        {
          "output_type": "stream",
          "text": [
            "313/313 [==============================] - 4s 13ms/step - loss: 0.0736 - accuracy: 0.9760\n",
            "Test loss: 0.07362323254346848 / Test accuracy: 0.9760000109672546\n"
          ],
          "name": "stdout"
        }
      ]
    },
    {
      "cell_type": "code",
      "metadata": {
        "id": "dYbgvDJfsdqy"
      },
      "source": [
        ""
      ],
      "execution_count": 412,
      "outputs": []
    },
    {
      "cell_type": "markdown",
      "metadata": {
        "id": "-Y6GNd6uqzOV"
      },
      "source": [
        "# Generating layer output visualizations"
      ]
    },
    {
      "cell_type": "code",
      "metadata": {
        "id": "1JAz5fZnbaLS"
      },
      "source": [
        "layer_outputs = [layer.output for layer in model.layers]\n",
        "activation_model = models.Model(inputs=model.input, outputs=layer_outputs)\n",
        "activations = activation_model.predict(input_test)"
      ],
      "execution_count": 413,
      "outputs": []
    },
    {
      "cell_type": "code",
      "metadata": {
        "colab": {
          "base_uri": "https://localhost:8080/"
        },
        "id": "e-12IFyJbaUs",
        "outputId": "8adb0f6a-1faf-48a5-d7f5-8734157e70d8"
      },
      "source": [
        "print(f\"Total number of layers = {len(activations)}\")\n",
        "print(f\"Number of images fed into model = {len(activations[0])}\")"
      ],
      "execution_count": 414,
      "outputs": [
        {
          "output_type": "stream",
          "text": [
            "Total number of layers = 9\n",
            "Number of images fed into model = 10000\n"
          ],
          "name": "stdout"
        }
      ]
    },
    {
      "cell_type": "code",
      "metadata": {
        "id": "MkrcIDvYbaag"
      },
      "source": [
        "# Getting Activations of first layer\n",
        "first_layer_activation = activations[0]"
      ],
      "execution_count": 415,
      "outputs": []
    },
    {
      "cell_type": "code",
      "metadata": {
        "colab": {
          "base_uri": "https://localhost:8080/"
        },
        "id": "0vJ37I08bae1",
        "outputId": "2a953073-62c7-437d-b3e5-384bdc69e5cc"
      },
      "source": [
        "# shape of first layer activation\n",
        "print(first_layer_activation.shape)"
      ],
      "execution_count": 416,
      "outputs": [
        {
          "output_type": "stream",
          "text": [
            "(10000, 28, 28, 1)\n"
          ],
          "name": "stdout"
        }
      ]
    },
    {
      "cell_type": "code",
      "metadata": {
        "colab": {
          "base_uri": "https://localhost:8080/",
          "height": 312
        },
        "id": "sz-x2aHhbah1",
        "outputId": "4dc16f1e-94d7-4a9c-f415-8bad64cbcf6a"
      },
      "source": [
        "if  input_test.shape[-1] == 3:\n",
        "    print(f\"Case-1: input_test.shape[-1] = {input_test.shape[-1]}\\n\")\n",
        "    plt.matshow(first_layer_activation[0, :, :, 2], cmap ='viridis')\n",
        "    #plt.matshow(first_layer_activation[0, :, :, :], cmap ='viridis')\n",
        "else:\n",
        "    print(f\"Case-2: input_test.shape[-1] = {input_test.shape[-1]}\\n\")\n",
        "    plt.matshow(first_layer_activation[0, :, :, 0], cmap ='viridis')\n",
        "plt.show()"
      ],
      "execution_count": 417,
      "outputs": [
        {
          "output_type": "stream",
          "text": [
            "Case-2: input_test.shape[-1] = 1\n",
            "\n"
          ],
          "name": "stdout"
        },
        {
          "output_type": "display_data",
          "data": {
            "image/png": "[encoded data removed]",
            "text/plain": [
              "<Figure size 288x288 with 1 Axes>"
            ]
          },
          "metadata": {
            "tags": [],
            "needs_background": "light"
          }
        }
      ]
    },
    {
      "cell_type": "markdown",
      "metadata": {
        "id": "pYpt3Ju0j31V"
      },
      "source": [
        "#Model Layers:"
      ]
    },
    {
      "cell_type": "code",
      "metadata": {
        "colab": {
          "base_uri": "https://localhost:8080/"
        },
        "id": "kMPdMN0bba1c",
        "outputId": "187a1f70-2279-4e84-ffd3-03b2d145f245"
      },
      "source": [
        "layer_names = []\n",
        "\n",
        "for layer in model.layers:\n",
        "  layer_names.append(layer.name)\n",
        "print(layer_names)"
      ],
      "execution_count": 418,
      "outputs": [
        {
          "output_type": "stream",
          "text": [
            "['input_11', 'L1_Conv2D_1', 'L2_MaxPooling2D_1', 'L3_Conv2D_2', 'L4_Conv2D_3', 'L4_Flatten_1', 'L5_Dense_1', 'L6_Dense_2', 'L7_Dense_2']\n"
          ],
          "name": "stdout"
        }
      ]
    },
    {
      "cell_type": "markdown",
      "metadata": {
        "id": "HGuU7zXr_sbh"
      },
      "source": [
        "#Visualize Activation Output Images in between a Range:"
      ]
    },
    {
      "cell_type": "code",
      "metadata": {
        "colab": {
          "base_uri": "https://localhost:8080/",
          "height": 809
        },
        "id": "JLWMfAlUadEB",
        "outputId": "28f567c6-20aa-42bc-f449-3f0af41d9e7d"
      },
      "source": [
        "layer_no = 4 # starts from 0\n",
        "current_layer = activations[layer_no]\n",
        "print(f\"image_dimension = {current_layer.shape[1:][:-1]}\\nnum_neurons = {current_layer.shape[1:][-1]}\\n\")\n",
        "\n",
        "sub_fig_num_rows = 10 # current_layer.shape[0]\n",
        "sub_fig_num_cols = 10 # current_layer.shape[-1] # total number of activations in a layer\n",
        "fig_heigth = 10\n",
        "fig_width = 10\n",
        "\n",
        "if len(current_layer.shape) == 4:\n",
        "    fig, axes = plt.subplots(sub_fig_num_rows,sub_fig_num_cols, figsize=(fig_width,fig_heigth))\n",
        "    plt.suptitle(f\"Layer {str(layer_no+1)}: {layer_names[layer_no]} {str(current_layer.shape[1:])}\", fontsize=20, y=1.1)\n",
        "\n",
        "    for i,ax in tqdm(enumerate(axes.flat)):\n",
        "        row = i//sub_fig_num_cols\n",
        "        col = i%sub_fig_num_cols\n",
        "        \n",
        "        ax.imshow(current_layer[row, :, :, col], cmap ='viridis')\n",
        "        ax.set_xticks([])\n",
        "        ax.set_yticks([])\n",
        "        if col == 0:\n",
        "            ax.set_ylabel(f\"image {str(row+1)}\")\n",
        "        if row == 0:\n",
        "            ax.set_xlabel(f\"activation {str(col+1)}\", rotation=90, ha='right')\n",
        "            ax.xaxis.set_label_position('top') \n",
        "        ax.set_aspect('auto')\n",
        "    #fig.tight_layout()    \n",
        "    plt.subplots_adjust(wspace=0, hspace=0.05)\n",
        "else:\n",
        "    print(f\"Error: len(current_layer.shape) = {len(current_layer.shape)}. However, it has to be 4.\")"
      ],
      "execution_count": 338,
      "outputs": [
        {
          "output_type": "stream",
          "text": [
            "image_dimension = (4, 4)\n",
            "num_neurons = 256\n",
            "\n"
          ],
          "name": "stdout"
        },
        {
          "output_type": "stream",
          "text": [
            "100it [00:00, 1258.86it/s]\n"
          ],
          "name": "stderr"
        },
        {
          "output_type": "display_data",
          "data": {
            "image/png": "[encoded data removed]",
            "text/plain": [
              "<Figure size 720x720 with 100 Axes>"
            ]
          },
          "metadata": {
            "tags": []
          }
        }
      ]
    },
    {
      "cell_type": "code",
      "metadata": {
        "id": "hH2Qk9c7adGm"
      },
      "source": [
        ""
      ],
      "execution_count": null,
      "outputs": []
    },
    {
      "cell_type": "markdown",
      "metadata": {
        "id": "ktdie3scBFeV"
      },
      "source": [
        "#Visualize Certain Activation Output Images:"
      ]
    },
    {
      "cell_type": "code",
      "metadata": {
        "id": "DSAjHtSzadJg",
        "colab": {
          "base_uri": "https://localhost:8080/",
          "height": 719
        },
        "outputId": "f0c8e9b0-1fc4-496c-fa17-6e2deff88ecb"
      },
      "source": [
        "layer_no = 2 # starts from 0\n",
        "current_layer = activations[layer_no]\n",
        "print(f\"image_dimension = {current_layer.shape[1:][:-1]}\\nnum_neurons = {current_layer.shape[1:][-1]}\\n\")\n",
        "\n",
        "image_index_list = [0, 9, 99, 999, 9999]\n",
        "sub_fig_num_rows = len(image_index_list) # current_layer.shape[0]\n",
        "sub_fig_num_cols = current_layer.shape[-1] # total number of activations in a layer\n",
        "fig_heigth = 10\n",
        "fig_width = 12\n",
        "\n",
        "if len(current_layer.shape) == 4:\n",
        "    fig, axes = plt.subplots(sub_fig_num_rows,sub_fig_num_cols, figsize=(fig_width,fig_heigth))\n",
        "    plt.suptitle(f\"Layer {str(layer_no+1)}: {layer_names[layer_no]} {str(current_layer.shape[1:])}\", fontsize=20, y=1)\n",
        "\n",
        "    for i,ax in enumerate(axes.flat):\n",
        "        row = i//sub_fig_num_cols\n",
        "        col = i%sub_fig_num_cols\n",
        "        \n",
        "        image_index = image_index_list[row]\n",
        "        ax.imshow(current_layer[image_index, :, :, col], cmap ='viridis')\n",
        "        ax.set_xticks([])\n",
        "        ax.set_yticks([])\n",
        "        if col == 0:\n",
        "            ax.set_ylabel(f\"image {str(image_index+1)}\")\n",
        "        if row == 0:\n",
        "            ax.set_xlabel(f\"activation {str(col+1)}\", rotation=45, ha='right')\n",
        "            ax.xaxis.set_label_position('top') \n",
        "        ax.set_aspect('auto')\n",
        "    #fig.tight_layout()    \n",
        "    plt.subplots_adjust(wspace=0, hspace=0.02)\n",
        "else:\n",
        "    print(f\"Error: len(current_layer.shape) = {len(current_layer.shape)}. However, it has to be 4.\")"
      ],
      "execution_count": 339,
      "outputs": [
        {
          "output_type": "stream",
          "text": [
            "image_dimension = (12, 12)\n",
            "num_neurons = 6\n",
            "\n"
          ],
          "name": "stdout"
        },
        {
          "output_type": "display_data",
          "data": {
            "image/png": "[encoded data removed]",
            "text/plain": [
              "<Figure size 864x720 with 30 Axes>"
            ]
          },
          "metadata": {
            "tags": []
          }
        }
      ]
    },
    {
      "cell_type": "code",
      "metadata": {
        "id": "ghq902UpadMD"
      },
      "source": [
        ""
      ],
      "execution_count": 285,
      "outputs": []
    },
    {
      "cell_type": "markdown",
      "metadata": {
        "id": "XFPqDVxgji6_"
      },
      "source": [
        "#Dense Activation Output Visualization:"
      ]
    },
    {
      "cell_type": "code",
      "metadata": {
        "id": "4BZF7zEJadO3",
        "colab": {
          "base_uri": "https://localhost:8080/"
        },
        "outputId": "78259f67-95a5-4323-c79b-2f2200997d0e"
      },
      "source": [
        "layer_no = -2 # starts from 0\n",
        "current_layer = activations[layer_no]\n",
        "print(f\"image_dimension = {current_layer.shape}\")\n",
        "print(f\"image_dimension = {current_layer.shape[1:]}\")\n",
        "print(f\"num_neurons = {current_layer.shape[1]}\\n\")"
      ],
      "execution_count": 419,
      "outputs": [
        {
          "output_type": "stream",
          "text": [
            "image_dimension = (10000, 4096)\n",
            "image_dimension = (4096,)\n",
            "num_neurons = 4096\n",
            "\n"
          ],
          "name": "stdout"
        }
      ]
    },
    {
      "cell_type": "code",
      "metadata": {
        "id": "6pc67XJFadRq",
        "colab": {
          "base_uri": "https://localhost:8080/"
        },
        "outputId": "af77030a-a03a-4c83-9b99-1372f9bd7e18"
      },
      "source": [
        "dense_output = current_layer[0]\n",
        "print(f\"type(dense_output) = {type(dense_output)}\")\n",
        "print(f\"dense_output.shape = {dense_output.shape}\")"
      ],
      "execution_count": 420,
      "outputs": [
        {
          "output_type": "stream",
          "text": [
            "type(dense_output) = <class 'numpy.ndarray'>\n",
            "dense_output.shape = (4096,)\n"
          ],
          "name": "stdout"
        }
      ]
    },
    {
      "cell_type": "code",
      "metadata": {
        "id": "vj5FNY4madXS",
        "colab": {
          "base_uri": "https://localhost:8080/"
        },
        "outputId": "9e5da063-d5cd-469b-b604-00aa04ae7048"
      },
      "source": [
        "num_sqrt = math.floor(math.sqrt(dense_output.shape[0]))\n",
        "img_shape = (num_sqrt,num_sqrt)\n",
        "print(f\"img_shape = {img_shape}\")\n",
        "print(f\"Total pixels counted = {num_sqrt*num_sqrt}\")"
      ],
      "execution_count": 425,
      "outputs": [
        {
          "output_type": "stream",
          "text": [
            "img_shape = (64, 64)\n",
            "Total pixels counted = 4096\n"
          ],
          "name": "stdout"
        }
      ]
    },
    {
      "cell_type": "code",
      "metadata": {
        "colab": {
          "base_uri": "https://localhost:8080/"
        },
        "id": "B0vh0SmlsavR",
        "outputId": "f6d12c5a-2557-4b94-e3ec-e85a3abf0ce5"
      },
      "source": [
        "dense_output_trunc = dense_output[:(num_sqrt*num_sqrt)]\n",
        "num_pixel_loss = dense_output.shape[0]-len(dense_output_trunc)\n",
        "\n",
        "print(f\"dense_output_trunc.shape = {dense_output_trunc.shape}\")\n",
        "print(f\"num_pixel_loss = {num_pixel_loss}\")"
      ],
      "execution_count": 424,
      "outputs": [
        {
          "output_type": "stream",
          "text": [
            "dense_output_trunc.shape = (4096,)\n",
            "num_pixel_loss = 0\n"
          ],
          "name": "stdout"
        }
      ]
    },
    {
      "cell_type": "code",
      "metadata": {
        "id": "jxuLrHA4u6x4",
        "colab": {
          "base_uri": "https://localhost:8080/"
        },
        "outputId": "1150acc6-256f-42b8-feaf-d7c8aa6767ef"
      },
      "source": [
        "reshaped_output = np.reshape(dense_output_trunc, img_shape)\n",
        "reshaped_output.shape"
      ],
      "execution_count": 426,
      "outputs": [
        {
          "output_type": "execute_result",
          "data": {
            "text/plain": [
              "(64, 64)"
            ]
          },
          "metadata": {
            "tags": []
          },
          "execution_count": 426
        }
      ]
    },
    {
      "cell_type": "code",
      "metadata": {
        "id": "_D8oMEJRu66c",
        "colab": {
          "base_uri": "https://localhost:8080/",
          "height": 293
        },
        "outputId": "cc20ce17-369f-41fa-f85b-f691f1498758"
      },
      "source": [
        "#plt.matshow(np.array([dense_output]), cmap ='viridis')\n",
        "plt.matshow(reshaped_output, cmap ='viridis')"
      ],
      "execution_count": 427,
      "outputs": [
        {
          "output_type": "execute_result",
          "data": {
            "text/plain": [
              "<matplotlib.image.AxesImage at 0x7f55ea56d050>"
            ]
          },
          "metadata": {
            "tags": []
          },
          "execution_count": 427
        },
        {
          "output_type": "display_data",
          "data": {
            "image/png": "[encoded data removed]",
            "text/plain": [
              "<Figure size 288x288 with 1 Axes>"
            ]
          },
          "metadata": {
            "tags": [],
            "needs_background": "light"
          }
        }
      ]
    },
    {
      "cell_type": "code",
      "metadata": {
        "id": "O_074RXdu7Ao"
      },
      "source": [
        ""
      ],
      "execution_count": 285,
      "outputs": []
    }
  ]
}