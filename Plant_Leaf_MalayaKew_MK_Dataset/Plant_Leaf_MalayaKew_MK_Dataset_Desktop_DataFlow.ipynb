{
 "cells": [
  {
   "cell_type": "code",
   "execution_count": 1,
   "metadata": {
    "colab": {
     "base_uri": "https://localhost:8080/"
    },
    "id": "w35zPOcMyNwJ",
    "outputId": "18a8bddc-92d7-4c9b-bb65-665fe14a9b00"
   },
   "outputs": [
    {
     "data": {
      "text/plain": [
       "\"\\nfrom google.colab import drive \\ndrive.mount('/content/drive', force_remount=True)\\n#\""
      ]
     },
     "execution_count": 1,
     "metadata": {},
     "output_type": "execute_result"
    }
   ],
   "source": [
    "'''\n",
    "from google.colab import drive \n",
    "drive.mount('/content/drive', force_remount=True)\n",
    "#'''"
   ]
  },
  {
   "cell_type": "code",
   "execution_count": 2,
   "metadata": {
    "id": "ph-qNIaajXGT"
   },
   "outputs": [],
   "source": [
    "#drive.flush_and_unmount(timeout_ms=24)"
   ]
  },
  {
   "cell_type": "code",
   "execution_count": 3,
   "metadata": {
    "id": "9xc7MvTxyQd7"
   },
   "outputs": [],
   "source": [
    "\n",
    "import numpy as np\n",
    "import pandas as pd\n",
    "import pickle\n",
    "import numpy as np\n",
    "import random\n",
    "import time\n",
    "import os\n",
    "#os.environ[\"OPENCV_IO_MAX_IMAGE_PIXELS\"] = pow(2,40).__str__()\n",
    "import cv2\n",
    "from tqdm import tqdm\n",
    "\n",
    "import tensorflow as tf\n",
    "from tensorflow.python.keras import Sequential\n",
    "from tensorflow.keras import layers, optimizers\n",
    "from tensorflow.keras.applications import DenseNet121\n",
    "from tensorflow.keras.applications.resnet50 import ResNet50\n",
    "from tensorflow.keras.layers import *\n",
    "from tensorflow.keras.models import Model, load_model\n",
    "from tensorflow.keras.initializers import glorot_uniform\n",
    "from tensorflow.keras.utils import plot_model\n",
    "from tensorflow.keras.callbacks import ReduceLROnPlateau, EarlyStopping, ModelCheckpoint, LearningRateScheduler\n",
    "from IPython.display import display\n",
    "from tensorflow.keras import backend as K\n",
    "import matplotlib.pyplot as plt\n",
    "import matplotlib.image as mpimg\n",
    "from sklearn.model_selection import train_test_split\n",
    "from keras import optimizers\n",
    "from sklearn.metrics import classification_report, confusion_matrix\n",
    "from keras.callbacks import CSVLogger, LambdaCallback\n",
    "from tensorflow.keras.preprocessing.image import ImageDataGenerator"
   ]
  },
  {
   "cell_type": "code",
   "execution_count": 29,
   "metadata": {},
   "outputs": [
    {
     "name": "stdout",
     "output_type": "stream",
     "text": [
      "Num GPUs Available:  1\n"
     ]
    }
   ],
   "source": [
    "print(\"Num GPUs Available: \", len(tf.config.list_physical_devices('GPU')))"
   ]
  },
  {
   "cell_type": "code",
   "execution_count": 4,
   "metadata": {
    "id": "LLy6y_e1yQhC"
   },
   "outputs": [],
   "source": [
    "base_dir = 'D:/DATASET_COLLECTION/Dataset_Leaf/MalayaKew_MK/MK/D2/'\n",
    "\n",
    "train_dir = os.path.join(base_dir, 'train_patch')\n",
    "test_dir = os.path.join(base_dir, 'test_patch')\n",
    "\n",
    "#dataset_dir = \"drive/My Drive/Plant_Leaf_MalayaKew_MK_Dataset/MK/D2/\"\n",
    "work_dir = \"D:/DATASET_COLLECTION/Dataset_Leaf/MalayaKew_MK/Records/\"\n",
    "#data_instance = 64 # 64 256\n",
    "color_type = 'rgb' # rgb, grayscale"
   ]
  },
  {
   "cell_type": "code",
   "execution_count": 5,
   "metadata": {
    "id": "LnYytOrbKGMH"
   },
   "outputs": [],
   "source": [
    "train_datagen = ImageDataGenerator(rescale=1./255)\n",
    "test_datagen = ImageDataGenerator(rescale=1./255)"
   ]
  },
  {
   "cell_type": "code",
   "execution_count": 6,
   "metadata": {
    "id": "3mgmPRJEKk3r"
   },
   "outputs": [],
   "source": [
    "BATCH_SIZE = 4"
   ]
  },
  {
   "cell_type": "code",
   "execution_count": 7,
   "metadata": {
    "colab": {
     "base_uri": "https://localhost:8080/"
    },
    "id": "rga2byZPKPQt",
    "outputId": "633a37f7-3969-4186-f45c-3ac8e27ee14f"
   },
   "outputs": [
    {
     "name": "stdout",
     "output_type": "stream",
     "text": [
      "Found 34672 images belonging to 44 classes.\n"
     ]
    }
   ],
   "source": [
    "train_generator = train_datagen.flow_from_directory(\n",
    "        train_dir,\n",
    "        batch_size=BATCH_SIZE,\n",
    "        color_mode=color_type, # grayscale, rgb\n",
    "        class_mode='categorical')"
   ]
  },
  {
   "cell_type": "code",
   "execution_count": 8,
   "metadata": {
    "colab": {
     "base_uri": "https://localhost:8080/"
    },
    "id": "uwy6M8sgK1KT",
    "outputId": "726aa5ae-f6d5-41cb-e06e-47e3204f6e9f"
   },
   "outputs": [
    {
     "name": "stdout",
     "output_type": "stream",
     "text": [
      "total_train_data = 34672\n",
      "train_generator.image_shape = (256, 256, 3)\n",
      "num_classes = 44\n"
     ]
    }
   ],
   "source": [
    "num_classes = train_generator.num_classes\n",
    "total_train_data = train_generator.samples\n",
    "\n",
    "print(f\"total_train_data = {total_train_data}\")\n",
    "print(f\"train_generator.image_shape = {train_generator.image_shape}\")\n",
    "print(f\"num_classes = {num_classes}\")"
   ]
  },
  {
   "cell_type": "code",
   "execution_count": 9,
   "metadata": {
    "colab": {
     "base_uri": "https://localhost:8080/"
    },
    "id": "YsvrZgrALXMl",
    "outputId": "c20e507b-4811-49de-b0a9-368ea84545e0"
   },
   "outputs": [
    {
     "name": "stdout",
     "output_type": "stream",
     "text": [
      "Found 8800 images belonging to 44 classes.\n"
     ]
    }
   ],
   "source": [
    "test_generator = test_datagen.flow_from_directory(\n",
    "        test_dir,\n",
    "        batch_size=BATCH_SIZE,\n",
    "        color_mode=color_type, # grayscale, rgb\n",
    "        class_mode='categorical')"
   ]
  },
  {
   "cell_type": "code",
   "execution_count": 10,
   "metadata": {
    "colab": {
     "base_uri": "https://localhost:8080/"
    },
    "id": "HxU0D6TuOOOL",
    "outputId": "454ec5b5-bb0c-4e91-b23c-02555bcb36cd"
   },
   "outputs": [
    {
     "name": "stdout",
     "output_type": "stream",
     "text": [
      "total_test_data = 8800\n"
     ]
    }
   ],
   "source": [
    "total_test_data = test_generator.samples\n",
    "print(f\"total_test_data = {total_test_data}\")"
   ]
  },
  {
   "cell_type": "code",
   "execution_count": null,
   "metadata": {
    "id": "roidu5RmFRJq"
   },
   "outputs": [],
   "source": []
  },
  {
   "cell_type": "code",
   "execution_count": 11,
   "metadata": {
    "id": "XRwynF9xPBWy"
   },
   "outputs": [],
   "source": [
    "# DenseNet121 ResNet101 ResNet50 DenseNet201 InceptionV3 Xception NASNetLarge ResNet152V2 InceptionResNetV2 EfficientNetB7\n",
    "impl_type = \"Custom.\" # TransferLearning3D, Custom\n",
    "dataset = f\"MalayaKew.Original.{color_type}.{train_generator.image_shape[:2]}.DataFlow\" # +str(img_size)+\"p\""
   ]
  },
  {
   "cell_type": "code",
   "execution_count": 12,
   "metadata": {
    "id": "rLVsewD-O3gl"
   },
   "outputs": [],
   "source": [
    "#'''\n",
    "count_no_improvement = 0\n",
    "epoch_initial = True\n",
    "#'''"
   ]
  },
  {
   "cell_type": "code",
   "execution_count": 13,
   "metadata": {
    "colab": {
     "base_uri": "https://localhost:8080/"
    },
    "id": "OxppPm7hO3l8",
    "outputId": "47f1c98b-e4b2-4928-e841-11bfb6ed66f0"
   },
   "outputs": [
    {
     "name": "stdout",
     "output_type": "stream",
     "text": [
      "checkpointer_name = weights.MalayaKew.Original.rgb.(256, 256).DataFlow.pad0.Custom..wInit..TrainableAfter.allDefault.Dense.512.1024.2048.actF.elu.opt.Adam.drop.0.5.batch4.Flatten.run_1.hdf5\n",
      "log_name = log.MalayaKew.Original.rgb.(256, 256).DataFlow.pad0.Custom..wInit..TrainableAfter.allDefault.Dense.512.1024.2048.actF.elu.opt.Adam.drop.0.5.batch4.Flatten.run_1.log\n"
     ]
    }
   ],
   "source": [
    "NUM_NEURONS = 32\n",
    "#NUM_LAYERS = 3\n",
    "#BATCH_SIZE = 16 # 10\n",
    "NUM_EPOCHS = 300\n",
    "epochs_completed = 0\n",
    "LEARNING_RATE = 0.00001\n",
    "EPSILON = 1e-4\n",
    "early_stop_after_epochs = 20\n",
    "DROPOUT = 0.5 # 0.5 0.0\n",
    "pad = 0\n",
    "\n",
    "LOSS = 'categorical_crossentropy'\n",
    "ACTIVATION_FUNCTION = 'elu' # relu sigmoid elu\n",
    "FINAL_ACTIVATION_FUNCTION = 'softmax'\n",
    "validation_split = 0.1\n",
    "kernel_size=(1,1)\n",
    "pointTrainableAfter = \"allDefault\" # \"allDefault\" 160 170\n",
    "OPTIMIZER = \"Adam\" # Adam SGD RMSProp\n",
    "init_weights = \"\" # \"imagenet\" None\n",
    "modelExt = \".Dense.512.1024.2048\" # .Dense.128.256.512, .512.512.512, .Dense.512.512.512.512.Res, .Dense.512.1024.2048\n",
    "l2_val = 0.001 # 0.001, \n",
    "\n",
    "# +\"_kernel\"+str(kernel_size)+\"_lr\"+str(LEARNING_RATE)+\"_batch\"+str(BATCH_SIZE)+\"_epochs\"+str(NUM_EPOCHS)\n",
    "#checkpointer_name  = \"weights_\"+dataset+\"_\"+impl_type+\"_nLayers\"+str(NUM_LAYERS)+\"_nNeurons\"+str(NUM_NEURONS)+\".hdf5\"\n",
    "ext = f\".Flatten.run_1\" # run_1, run_2, .DropAfter, .momentum0.9, .Flatten.l2.{str(l2_val)}\n",
    "#'''\n",
    "checkpointer_name  = \"weights.\"+dataset+\".pad\"+str(pad)+\".\"+impl_type+\".wInit.\"+str(init_weights)+\".TrainableAfter.\"+str(pointTrainableAfter)+\\\n",
    "                     modelExt+\".actF.\"+ACTIVATION_FUNCTION+\".opt.\"+OPTIMIZER+\".drop.\"+str(DROPOUT)+\".batch\"+str(BATCH_SIZE)+ext+\".hdf5\"\n",
    "log_name = \"log.\"+checkpointer_name[8:-5]+\".log\"\n",
    "\n",
    "print('checkpointer_name =', checkpointer_name)\n",
    "print('log_name =', log_name)\n",
    "#'''"
   ]
  },
  {
   "cell_type": "code",
   "execution_count": 14,
   "metadata": {
    "colab": {
     "base_uri": "https://localhost:8080/"
    },
    "id": "hcB3WVaWO6BV",
    "outputId": "cbbc7b6e-2d22-48e3-e071-39c2feaa0893"
   },
   "outputs": [
    {
     "name": "stdout",
     "output_type": "stream",
     "text": [
      "(256, 256, 3)\n"
     ]
    }
   ],
   "source": [
    "print(train_generator.image_shape)"
   ]
  },
  {
   "cell_type": "code",
   "execution_count": 15,
   "metadata": {
    "colab": {
     "base_uri": "https://localhost:8080/"
    },
    "id": "XyK6ZbJOOsjV",
    "outputId": "a5d0e2e0-60a9-4872-9127-6e2638544f67",
    "scrolled": true
   },
   "outputs": [
    {
     "data": {
      "text/plain": [
       "\"\\n#base_model=DenseNet121(weights=None, include_top=False, input_shape=np_train_dataset2.shape[1:]) # `None` (random initialization)\\n#base_model=ResNet152V2(weights=None, include_top=False, input_shape=np_train_dataset2.shape[1:])\\n# ResNet152V2 ResNet50 ResNet101 ResNet152 DenseNet201 InceptionV3 Xception NASNetLarge 'imagenet' ResNet152V2 DenseNet121\\n#inputs = Input(final_train_imageset.shape[1:])\\n#x = ZeroPadding2D(padding=(pad,pad))(inputs)\\n#base_model=tf.keras.applications.ResNet50(weights=init_weights, include_top=False, input_tensor=x)\\nbase_model=tf.keras.applications.DenseNet201(weights=init_weights, include_top=False, input_shape=train_generator.image_shape)\\nx=base_model.output\\n\\nx = Flatten()(x)\\n\\n'''\\nx = Dense(512, kernel_regularizer=tf.keras.regularizers.l2(l2_val), activation=ACTIVATION_FUNCTION)(x)\\n#x_copy = x\\nx = Dropout(DROPOUT)(x)\\nx = Dense(1024, kernel_regularizer=tf.keras.regularizers.l2(l2_val), activation=ACTIVATION_FUNCTION)(x)\\nx = Dropout(DROPOUT)(x)\\nx = Dense(2048, kernel_regularizer=tf.keras.regularizers.l2(l2_val), activation=ACTIVATION_FUNCTION)(x)\\nx = Dropout(DROPOUT)(x)\\n#x = Add()([x,x_copy])\\n#'''\\noutputs=Dense(num_classes,activation='softmax')(x)\\n\\nmodel=Model(inputs=base_model.input,outputs=outputs)\\nmodel.summary()\\n#\""
      ]
     },
     "execution_count": 15,
     "metadata": {},
     "output_type": "execute_result"
    }
   ],
   "source": [
    "\"\"\"\n",
    "#base_model=DenseNet121(weights=None, include_top=False, input_shape=np_train_dataset2.shape[1:]) # `None` (random initialization)\n",
    "#base_model=ResNet152V2(weights=None, include_top=False, input_shape=np_train_dataset2.shape[1:])\n",
    "# ResNet152V2 ResNet50 ResNet101 ResNet152 DenseNet201 InceptionV3 Xception NASNetLarge 'imagenet' ResNet152V2 DenseNet121\n",
    "#inputs = Input(final_train_imageset.shape[1:])\n",
    "#x = ZeroPadding2D(padding=(pad,pad))(inputs)\n",
    "#base_model=tf.keras.applications.ResNet50(weights=init_weights, include_top=False, input_tensor=x)\n",
    "base_model=tf.keras.applications.DenseNet201(weights=init_weights, include_top=False, input_shape=train_generator.image_shape)\n",
    "x=base_model.output\n",
    "\n",
    "x = Flatten()(x)\n",
    "\n",
    "'''\n",
    "x = Dense(512, kernel_regularizer=tf.keras.regularizers.l2(l2_val), activation=ACTIVATION_FUNCTION)(x)\n",
    "#x_copy = x\n",
    "x = Dropout(DROPOUT)(x)\n",
    "x = Dense(1024, kernel_regularizer=tf.keras.regularizers.l2(l2_val), activation=ACTIVATION_FUNCTION)(x)\n",
    "x = Dropout(DROPOUT)(x)\n",
    "x = Dense(2048, kernel_regularizer=tf.keras.regularizers.l2(l2_val), activation=ACTIVATION_FUNCTION)(x)\n",
    "x = Dropout(DROPOUT)(x)\n",
    "#x = Add()([x,x_copy])\n",
    "#'''\n",
    "outputs=Dense(num_classes,activation='softmax')(x)\n",
    "\n",
    "model=Model(inputs=base_model.input,outputs=outputs)\n",
    "model.summary()\n",
    "#\"\"\""
   ]
  },
  {
   "cell_type": "code",
   "execution_count": 16,
   "metadata": {},
   "outputs": [
    {
     "name": "stdout",
     "output_type": "stream",
     "text": [
      "img_shape = (256, 256, 3)\n"
     ]
    }
   ],
   "source": [
    "img_shape = train_generator.image_shape\n",
    "print(f\"img_shape = {img_shape}\")"
   ]
  },
  {
   "cell_type": "code",
   "execution_count": 17,
   "metadata": {},
   "outputs": [
    {
     "name": "stdout",
     "output_type": "stream",
     "text": [
      "Model: \"model\"\n",
      "_________________________________________________________________\n",
      "Layer (type)                 Output Shape              Param #   \n",
      "=================================================================\n",
      "input_1 (InputLayer)         [(None, 256, 256, 3)]     0         \n",
      "_________________________________________________________________\n",
      "conv2d (Conv2D)              (None, 254, 254, 32)      896       \n",
      "_________________________________________________________________\n",
      "max_pooling2d (MaxPooling2D) (None, 252, 252, 32)      0         \n",
      "_________________________________________________________________\n",
      "conv2d_1 (Conv2D)            (None, 250, 250, 32)      9248      \n",
      "_________________________________________________________________\n",
      "max_pooling2d_1 (MaxPooling2 (None, 248, 248, 32)      0         \n",
      "_________________________________________________________________\n",
      "conv2d_2 (Conv2D)            (None, 246, 246, 32)      9248      \n",
      "_________________________________________________________________\n",
      "max_pooling2d_2 (MaxPooling2 (None, 244, 244, 32)      0         \n",
      "_________________________________________________________________\n",
      "conv2d_3 (Conv2D)            (None, 242, 242, 32)      9248      \n",
      "_________________________________________________________________\n",
      "max_pooling2d_3 (MaxPooling2 (None, 240, 240, 32)      0         \n",
      "_________________________________________________________________\n",
      "conv2d_4 (Conv2D)            (None, 238, 238, 32)      9248      \n",
      "_________________________________________________________________\n",
      "max_pooling2d_4 (MaxPooling2 (None, 236, 236, 32)      0         \n",
      "_________________________________________________________________\n",
      "conv2d_5 (Conv2D)            (None, 234, 234, 32)      9248      \n",
      "_________________________________________________________________\n",
      "max_pooling2d_5 (MaxPooling2 (None, 232, 232, 32)      0         \n",
      "_________________________________________________________________\n",
      "conv2d_6 (Conv2D)            (None, 230, 230, 32)      9248      \n",
      "_________________________________________________________________\n",
      "max_pooling2d_6 (MaxPooling2 (None, 228, 228, 32)      0         \n",
      "_________________________________________________________________\n",
      "conv2d_7 (Conv2D)            (None, 226, 226, 32)      9248      \n",
      "_________________________________________________________________\n",
      "max_pooling2d_7 (MaxPooling2 (None, 224, 224, 32)      0         \n",
      "_________________________________________________________________\n",
      "conv2d_8 (Conv2D)            (None, 222, 222, 32)      9248      \n",
      "_________________________________________________________________\n",
      "max_pooling2d_8 (MaxPooling2 (None, 220, 220, 32)      0         \n",
      "_________________________________________________________________\n",
      "conv2d_9 (Conv2D)            (None, 218, 218, 32)      9248      \n",
      "_________________________________________________________________\n",
      "max_pooling2d_9 (MaxPooling2 (None, 216, 216, 32)      0         \n",
      "_________________________________________________________________\n",
      "conv2d_10 (Conv2D)           (None, 214, 214, 32)      9248      \n",
      "_________________________________________________________________\n",
      "max_pooling2d_10 (MaxPooling (None, 212, 212, 32)      0         \n",
      "_________________________________________________________________\n",
      "conv2d_11 (Conv2D)           (None, 210, 210, 32)      9248      \n",
      "_________________________________________________________________\n",
      "max_pooling2d_11 (MaxPooling (None, 208, 208, 32)      0         \n",
      "_________________________________________________________________\n",
      "conv2d_12 (Conv2D)           (None, 206, 206, 32)      9248      \n",
      "_________________________________________________________________\n",
      "max_pooling2d_12 (MaxPooling (None, 204, 204, 32)      0         \n",
      "_________________________________________________________________\n",
      "conv2d_13 (Conv2D)           (None, 202, 202, 32)      9248      \n",
      "_________________________________________________________________\n",
      "max_pooling2d_13 (MaxPooling (None, 200, 200, 32)      0         \n",
      "_________________________________________________________________\n",
      "conv2d_14 (Conv2D)           (None, 198, 198, 32)      9248      \n",
      "_________________________________________________________________\n",
      "max_pooling2d_14 (MaxPooling (None, 196, 196, 32)      0         \n",
      "_________________________________________________________________\n",
      "conv2d_15 (Conv2D)           (None, 194, 194, 32)      9248      \n",
      "_________________________________________________________________\n",
      "max_pooling2d_15 (MaxPooling (None, 192, 192, 32)      0         \n",
      "_________________________________________________________________\n",
      "conv2d_16 (Conv2D)           (None, 190, 190, 32)      9248      \n",
      "_________________________________________________________________\n",
      "max_pooling2d_16 (MaxPooling (None, 188, 188, 32)      0         \n",
      "_________________________________________________________________\n",
      "conv2d_17 (Conv2D)           (None, 186, 186, 32)      9248      \n",
      "_________________________________________________________________\n",
      "max_pooling2d_17 (MaxPooling (None, 184, 184, 32)      0         \n",
      "_________________________________________________________________\n",
      "conv2d_18 (Conv2D)           (None, 182, 182, 32)      9248      \n",
      "_________________________________________________________________\n",
      "max_pooling2d_18 (MaxPooling (None, 180, 180, 32)      0         \n",
      "_________________________________________________________________\n",
      "conv2d_19 (Conv2D)           (None, 178, 178, 32)      9248      \n",
      "_________________________________________________________________\n",
      "max_pooling2d_19 (MaxPooling (None, 176, 176, 32)      0         \n",
      "_________________________________________________________________\n",
      "conv2d_20 (Conv2D)           (None, 174, 174, 32)      9248      \n",
      "_________________________________________________________________\n",
      "max_pooling2d_20 (MaxPooling (None, 172, 172, 32)      0         \n",
      "_________________________________________________________________\n",
      "conv2d_21 (Conv2D)           (None, 170, 170, 32)      9248      \n",
      "_________________________________________________________________\n",
      "max_pooling2d_21 (MaxPooling (None, 168, 168, 32)      0         \n",
      "_________________________________________________________________\n",
      "conv2d_22 (Conv2D)           (None, 166, 166, 32)      9248      \n",
      "_________________________________________________________________\n",
      "max_pooling2d_22 (MaxPooling (None, 164, 164, 32)      0         \n",
      "_________________________________________________________________\n",
      "conv2d_23 (Conv2D)           (None, 162, 162, 32)      9248      \n",
      "_________________________________________________________________\n",
      "max_pooling2d_23 (MaxPooling (None, 160, 160, 32)      0         \n",
      "_________________________________________________________________\n",
      "conv2d_24 (Conv2D)           (None, 158, 158, 32)      9248      \n",
      "_________________________________________________________________\n",
      "max_pooling2d_24 (MaxPooling (None, 156, 156, 32)      0         \n",
      "_________________________________________________________________\n",
      "conv2d_25 (Conv2D)           (None, 154, 154, 32)      9248      \n",
      "_________________________________________________________________\n",
      "max_pooling2d_25 (MaxPooling (None, 152, 152, 32)      0         \n",
      "_________________________________________________________________\n",
      "conv2d_26 (Conv2D)           (None, 150, 150, 32)      9248      \n",
      "_________________________________________________________________\n",
      "max_pooling2d_26 (MaxPooling (None, 148, 148, 32)      0         \n",
      "_________________________________________________________________\n",
      "conv2d_27 (Conv2D)           (None, 146, 146, 32)      9248      \n",
      "_________________________________________________________________\n",
      "max_pooling2d_27 (MaxPooling (None, 144, 144, 32)      0         \n",
      "_________________________________________________________________\n",
      "conv2d_28 (Conv2D)           (None, 142, 142, 32)      9248      \n",
      "_________________________________________________________________\n",
      "max_pooling2d_28 (MaxPooling (None, 140, 140, 32)      0         \n",
      "_________________________________________________________________\n",
      "conv2d_29 (Conv2D)           (None, 138, 138, 32)      9248      \n",
      "_________________________________________________________________\n",
      "max_pooling2d_29 (MaxPooling (None, 136, 136, 32)      0         \n",
      "_________________________________________________________________\n",
      "conv2d_30 (Conv2D)           (None, 134, 134, 32)      9248      \n",
      "_________________________________________________________________\n",
      "max_pooling2d_30 (MaxPooling (None, 132, 132, 32)      0         \n",
      "_________________________________________________________________\n",
      "conv2d_31 (Conv2D)           (None, 130, 130, 32)      9248      \n",
      "_________________________________________________________________\n",
      "max_pooling2d_31 (MaxPooling (None, 128, 128, 32)      0         \n",
      "_________________________________________________________________\n",
      "conv2d_32 (Conv2D)           (None, 126, 126, 32)      9248      \n",
      "_________________________________________________________________\n",
      "max_pooling2d_32 (MaxPooling (None, 124, 124, 32)      0         \n",
      "_________________________________________________________________\n",
      "conv2d_33 (Conv2D)           (None, 122, 122, 32)      9248      \n",
      "_________________________________________________________________\n",
      "max_pooling2d_33 (MaxPooling (None, 120, 120, 32)      0         \n",
      "_________________________________________________________________\n",
      "conv2d_34 (Conv2D)           (None, 118, 118, 32)      9248      \n",
      "_________________________________________________________________\n",
      "max_pooling2d_34 (MaxPooling (None, 116, 116, 32)      0         \n",
      "_________________________________________________________________\n",
      "conv2d_35 (Conv2D)           (None, 114, 114, 32)      9248      \n",
      "_________________________________________________________________\n",
      "max_pooling2d_35 (MaxPooling (None, 112, 112, 32)      0         \n",
      "_________________________________________________________________\n",
      "conv2d_36 (Conv2D)           (None, 110, 110, 32)      9248      \n",
      "_________________________________________________________________\n",
      "max_pooling2d_36 (MaxPooling (None, 108, 108, 32)      0         \n",
      "_________________________________________________________________\n",
      "conv2d_37 (Conv2D)           (None, 106, 106, 32)      9248      \n",
      "_________________________________________________________________\n",
      "max_pooling2d_37 (MaxPooling (None, 104, 104, 32)      0         \n",
      "_________________________________________________________________\n",
      "conv2d_38 (Conv2D)           (None, 102, 102, 32)      9248      \n",
      "_________________________________________________________________\n",
      "max_pooling2d_38 (MaxPooling (None, 100, 100, 32)      0         \n",
      "_________________________________________________________________\n",
      "conv2d_39 (Conv2D)           (None, 98, 98, 32)        9248      \n",
      "_________________________________________________________________\n",
      "max_pooling2d_39 (MaxPooling (None, 96, 96, 32)        0         \n",
      "_________________________________________________________________\n",
      "conv2d_40 (Conv2D)           (None, 94, 94, 32)        9248      \n",
      "_________________________________________________________________\n",
      "max_pooling2d_40 (MaxPooling (None, 92, 92, 32)        0         \n",
      "_________________________________________________________________\n",
      "conv2d_41 (Conv2D)           (None, 90, 90, 32)        9248      \n",
      "_________________________________________________________________\n",
      "max_pooling2d_41 (MaxPooling (None, 88, 88, 32)        0         \n",
      "_________________________________________________________________\n",
      "conv2d_42 (Conv2D)           (None, 86, 86, 32)        9248      \n",
      "_________________________________________________________________\n",
      "max_pooling2d_42 (MaxPooling (None, 84, 84, 32)        0         \n",
      "_________________________________________________________________\n",
      "conv2d_43 (Conv2D)           (None, 82, 82, 32)        9248      \n",
      "_________________________________________________________________\n",
      "max_pooling2d_43 (MaxPooling (None, 80, 80, 32)        0         \n",
      "_________________________________________________________________\n",
      "conv2d_44 (Conv2D)           (None, 78, 78, 32)        9248      \n",
      "_________________________________________________________________\n",
      "max_pooling2d_44 (MaxPooling (None, 76, 76, 32)        0         \n",
      "_________________________________________________________________\n",
      "conv2d_45 (Conv2D)           (None, 74, 74, 32)        9248      \n",
      "_________________________________________________________________\n",
      "max_pooling2d_45 (MaxPooling (None, 72, 72, 32)        0         \n",
      "_________________________________________________________________\n",
      "conv2d_46 (Conv2D)           (None, 70, 70, 32)        9248      \n",
      "_________________________________________________________________\n",
      "max_pooling2d_46 (MaxPooling (None, 68, 68, 32)        0         \n",
      "_________________________________________________________________\n",
      "conv2d_47 (Conv2D)           (None, 66, 66, 32)        9248      \n",
      "_________________________________________________________________\n",
      "max_pooling2d_47 (MaxPooling (None, 64, 64, 32)        0         \n",
      "_________________________________________________________________\n",
      "conv2d_48 (Conv2D)           (None, 62, 62, 32)        9248      \n",
      "_________________________________________________________________\n",
      "max_pooling2d_48 (MaxPooling (None, 60, 60, 32)        0         \n",
      "_________________________________________________________________\n",
      "conv2d_49 (Conv2D)           (None, 58, 58, 32)        9248      \n",
      "_________________________________________________________________\n",
      "max_pooling2d_49 (MaxPooling (None, 56, 56, 32)        0         \n",
      "_________________________________________________________________\n",
      "conv2d_50 (Conv2D)           (None, 54, 54, 32)        9248      \n",
      "_________________________________________________________________\n",
      "max_pooling2d_50 (MaxPooling (None, 52, 52, 32)        0         \n",
      "_________________________________________________________________\n",
      "conv2d_51 (Conv2D)           (None, 50, 50, 32)        9248      \n",
      "_________________________________________________________________\n",
      "max_pooling2d_51 (MaxPooling (None, 48, 48, 32)        0         \n",
      "_________________________________________________________________\n",
      "conv2d_52 (Conv2D)           (None, 46, 46, 32)        9248      \n",
      "_________________________________________________________________\n",
      "max_pooling2d_52 (MaxPooling (None, 44, 44, 32)        0         \n",
      "_________________________________________________________________\n",
      "conv2d_53 (Conv2D)           (None, 42, 42, 32)        9248      \n",
      "_________________________________________________________________\n",
      "max_pooling2d_53 (MaxPooling (None, 40, 40, 32)        0         \n",
      "_________________________________________________________________\n",
      "conv2d_54 (Conv2D)           (None, 38, 38, 32)        9248      \n",
      "_________________________________________________________________\n",
      "max_pooling2d_54 (MaxPooling (None, 36, 36, 32)        0         \n",
      "_________________________________________________________________\n",
      "conv2d_55 (Conv2D)           (None, 34, 34, 32)        9248      \n",
      "_________________________________________________________________\n",
      "max_pooling2d_55 (MaxPooling (None, 32, 32, 32)        0         \n",
      "_________________________________________________________________\n",
      "conv2d_56 (Conv2D)           (None, 30, 30, 32)        9248      \n",
      "_________________________________________________________________\n",
      "max_pooling2d_56 (MaxPooling (None, 28, 28, 32)        0         \n",
      "_________________________________________________________________\n",
      "conv2d_57 (Conv2D)           (None, 26, 26, 32)        9248      \n",
      "_________________________________________________________________\n",
      "max_pooling2d_57 (MaxPooling (None, 24, 24, 32)        0         \n",
      "_________________________________________________________________\n",
      "conv2d_58 (Conv2D)           (None, 22, 22, 32)        9248      \n",
      "_________________________________________________________________\n",
      "max_pooling2d_58 (MaxPooling (None, 20, 20, 32)        0         \n",
      "_________________________________________________________________\n",
      "conv2d_59 (Conv2D)           (None, 18, 18, 32)        9248      \n",
      "_________________________________________________________________\n",
      "max_pooling2d_59 (MaxPooling (None, 16, 16, 32)        0         \n",
      "_________________________________________________________________\n",
      "flatten (Flatten)            (None, 8192)              0         \n",
      "_________________________________________________________________\n",
      "dense (Dense)                (None, 1024)              8389632   \n",
      "_________________________________________________________________\n",
      "dropout (Dropout)            (None, 1024)              0         \n",
      "_________________________________________________________________\n",
      "dense_1 (Dense)              (None, 1024)              1049600   \n",
      "_________________________________________________________________\n",
      "dropout_1 (Dropout)          (None, 1024)              0         \n",
      "_________________________________________________________________\n",
      "dense_2 (Dense)              (None, 2048)              2099200   \n",
      "_________________________________________________________________\n",
      "dropout_2 (Dropout)          (None, 2048)              0         \n",
      "_________________________________________________________________\n",
      "dense_3 (Dense)              (None, 44)                90156     \n",
      "=================================================================\n",
      "Total params: 12,175,116\n",
      "Trainable params: 12,175,116\n",
      "Non-trainable params: 0\n",
      "_________________________________________________________________\n"
     ]
    }
   ],
   "source": [
    "#\"\"\" 25,690,112; 1,492,992; 1,843,200; 819,200; 51,200\n",
    "inputs = Input(train_generator.image_shape)\n",
    "x = inputs\n",
    "#x = ZeroPadding2D(padding=(pad,pad))(inputs)\n",
    "\n",
    "for _ in range(60):\n",
    "    x = Conv2D(NUM_NEURONS, kernel_size=(3,3), activation=ACTIVATION_FUNCTION)(x)\n",
    "    x = MaxPooling2D(pool_size=(3,3), strides=(1,1))(x)\n",
    "\n",
    "x = Flatten()(x)\n",
    "x = Dense(1024, kernel_regularizer=tf.keras.regularizers.l2(l2_val), activation=ACTIVATION_FUNCTION)(x)\n",
    "x = Dropout(DROPOUT)(x)\n",
    "x = Dense(1024, kernel_regularizer=tf.keras.regularizers.l2(l2_val), activation=ACTIVATION_FUNCTION)(x)\n",
    "x = Dropout(DROPOUT)(x)\n",
    "x = Dense(2048, kernel_regularizer=tf.keras.regularizers.l2(l2_val), activation=ACTIVATION_FUNCTION)(x)\n",
    "x = Dropout(DROPOUT)(x)\n",
    "\n",
    "outputs=Dense(num_classes,activation='softmax')(x)\n",
    "\n",
    "model=Model(inputs=inputs,outputs=outputs)\n",
    "model.summary()\n",
    "#\"\"\""
   ]
  },
  {
   "cell_type": "code",
   "execution_count": 18,
   "metadata": {
    "colab": {
     "base_uri": "https://localhost:8080/",
     "height": 36
    },
    "id": "WgomlDGDqn6-",
    "outputId": "e34cfafd-2145-44d0-b6b1-a9749c341ce7"
   },
   "outputs": [
    {
     "data": {
      "text/plain": [
       "\"\\ntf.keras.utils.plot_model(\\n    model, to_file='model.png', show_shapes=True, show_dtype=False,\\n    show_layer_names=True, rankdir='TB', expand_nested=True, dpi=64\\n)\\n#\""
      ]
     },
     "execution_count": 18,
     "metadata": {},
     "output_type": "execute_result"
    }
   ],
   "source": [
    "'''\n",
    "tf.keras.utils.plot_model(\n",
    "    model, to_file='model.png', show_shapes=True, show_dtype=False,\n",
    "    show_layer_names=True, rankdir='TB', expand_nested=True, dpi=64\n",
    ")\n",
    "#'''"
   ]
  },
  {
   "cell_type": "code",
   "execution_count": 19,
   "metadata": {
    "colab": {
     "base_uri": "https://localhost:8080/"
    },
    "id": "ozx7Z-ZiUE-2",
    "outputId": "b941456a-df31-4e66-a208-e522aa458d5c"
   },
   "outputs": [
    {
     "name": "stdout",
     "output_type": "stream",
     "text": [
      "count_non_trainable = 0\n",
      "count_trainable = 129\n",
      "Total number of layers = 129\n"
     ]
    }
   ],
   "source": [
    "count_trainable = 0\n",
    "count_non_trainable = 0\n",
    "\n",
    "#'''\n",
    "if pointTrainableAfter == \"allDefault\":\n",
    "    for layer in model.layers:\n",
    "        layer.trainable=True\n",
    "        count_trainable += 1\n",
    "elif pointTrainableAfter > 0:\n",
    "    for layer in model.layers[:pointTrainableAfter]: # [:-pointTrainableAfter]\n",
    "        layer.trainable=False\n",
    "        count_non_trainable += 1\n",
    "    for layer in model.layers[pointTrainableAfter:]: # [-pointTrainableAfter:]\n",
    "        layer.trainable=True\n",
    "        count_trainable += 1\n",
    "#'''\n",
    "\n",
    "'''\n",
    "for layer in model.layers:\n",
    "    layer.trainable=True\n",
    "    count_trainable += 1\n",
    "#'''\n",
    "\n",
    "print(\"count_non_trainable =\", count_non_trainable)\n",
    "print(\"count_trainable =\", count_trainable)\n",
    "print(\"Total number of layers =\", count_non_trainable+count_trainable)"
   ]
  },
  {
   "cell_type": "code",
   "execution_count": 20,
   "metadata": {
    "colab": {
     "base_uri": "https://localhost:8080/",
     "height": 72
    },
    "id": "aqwYD5TGPxyV",
    "outputId": "9793316f-1150-4c3b-a33e-d772eb42dfc5"
   },
   "outputs": [
    {
     "data": {
      "text/plain": [
       "'\\ncheckpointer_name  = \"weights.\"+dataset+\".pad\"+str(pad)+\".\"+impl_type+\".wInit.\"+str(init_weights)+\".TrainableAfter.\"+str(pointTrainableAfter)+                     modelExt+\".opt.\"+OPTIMIZER+\".drop.\"+str(DROPOUT)+\".batch\"+str(BATCH_SIZE)+ext+\".hdf5\"\\nlog_name = \"log.\"+checkpointer_name[8:-5]+\".log\"\\n\\nprint(\\'checkpointer_name =\\', checkpointer_name)\\nprint(\\'log_name =\\', log_name)\\n#'"
      ]
     },
     "execution_count": 20,
     "metadata": {},
     "output_type": "execute_result"
    }
   ],
   "source": [
    "'''\n",
    "checkpointer_name  = \"weights.\"+dataset+\".pad\"+str(pad)+\".\"+impl_type+\".wInit.\"+str(init_weights)+\".TrainableAfter.\"+str(pointTrainableAfter)+\\\n",
    "                     modelExt+\".opt.\"+OPTIMIZER+\".drop.\"+str(DROPOUT)+\".batch\"+str(BATCH_SIZE)+ext+\".hdf5\"\n",
    "log_name = \"log.\"+checkpointer_name[8:-5]+\".log\"\n",
    "\n",
    "print('checkpointer_name =', checkpointer_name)\n",
    "print('log_name =', log_name)\n",
    "#'''"
   ]
  },
  {
   "cell_type": "code",
   "execution_count": 21,
   "metadata": {},
   "outputs": [],
   "source": [
    "#run_opts = tf.compat.v1.RunOptions(report_tensor_allocations_upon_oom = True)"
   ]
  },
  {
   "cell_type": "code",
   "execution_count": 22,
   "metadata": {
    "colab": {
     "base_uri": "https://localhost:8080/"
    },
    "id": "3T7w_lC1QCPh",
    "outputId": "99a050b9-3691-47c2-cc97-f10f0be8b82a"
   },
   "outputs": [
    {
     "name": "stdout",
     "output_type": "stream",
     "text": [
      "OPTIMIZER = Adam\n"
     ]
    }
   ],
   "source": [
    "# \"RMSProp\" \"SGD\" \"Adam\" \"Adamax\" \"Adadelta\" \"Adagrad\" \"SGD\"\n",
    "#optimizer = tf.keras.optimizers.RMSprop(lr = LEARNING_RATE, epsilon=EPSILON)\n",
    "\n",
    "if OPTIMIZER == \"RMSProp\":\n",
    "    optimizer = tf.keras.optimizers.RMSprop(lr = LEARNING_RATE, epsilon=EPSILON)\n",
    "elif OPTIMIZER == \"Adam\":\n",
    "    optimizer = tf.keras.optimizers.Adam(lr = LEARNING_RATE, epsilon=EPSILON, beta_1=0.9, beta_2=0.999)\n",
    "elif OPTIMIZER == \"Adamax\":\n",
    "    optimizer = tf.keras.optimizers.Adamax(lr = LEARNING_RATE, epsilon=EPSILON, beta_1=0.9, beta_2=0.999)\n",
    "elif OPTIMIZER == \"Adadelta\":\n",
    "    optimizer = tf.keras.optimizers.Adadelta(lr = LEARNING_RATE, epsilon=EPSILON, rho=0.95)\n",
    "elif OPTIMIZER == \"Adagrad\":\n",
    "    optimizer = tf.keras.optimizers.Adagrad(lr = LEARNING_RATE, epsilon=EPSILON, initial_accumulator_value=0.1)\n",
    "elif OPTIMIZER == \"SGD\":\n",
    "    optimizer = tf.keras.optimizers.SGD(lr = LEARNING_RATE, momentum=0.9)\n",
    "\n",
    "model.compile(\n",
    "    #optimizer=OPTIMIZER,\n",
    "    optimizer=optimizer,\n",
    "    loss=LOSS,\n",
    "    metrics=['accuracy']\n",
    ")\n",
    "\n",
    "print(\"OPTIMIZER =\", OPTIMIZER)"
   ]
  },
  {
   "cell_type": "code",
   "execution_count": 23,
   "metadata": {
    "id": "OdySVEG3QCpv"
   },
   "outputs": [],
   "source": [
    "# save the best model with least validation loss\n",
    "checkpointer = ModelCheckpoint(filepath = work_dir+checkpointer_name, \n",
    "                               #monitor='val_accuracy',\n",
    "                               monitor='val_loss',\n",
    "                               save_weights_only=False,  \n",
    "                               mode='auto', \n",
    "                               verbose = 0, # 0 = silent, 1 = progress bar, 2 = one line per epoch\n",
    "                               save_best_only =False\n",
    "                               )\n",
    "checkpointer_best = ModelCheckpoint(filepath = work_dir+\"best_\"+checkpointer_name, \n",
    "                                    monitor='val_loss', \n",
    "                                    save_weights_only=False,\n",
    "                                    mode='auto',  \n",
    "                                    verbose = 1, \n",
    "                                    save_best_only = True\n",
    "                                    )\n",
    "early_stopping = EarlyStopping(monitor='loss', patience=early_stop_after_epochs)"
   ]
  },
  {
   "cell_type": "code",
   "execution_count": 24,
   "metadata": {
    "colab": {
     "base_uri": "https://localhost:8080/"
    },
    "id": "Fq3iXmYXQHNL",
    "outputId": "f4b8f606-8cc3-48f9-d7b9-55568c09d476"
   },
   "outputs": [
    {
     "name": "stdout",
     "output_type": "stream",
     "text": [
      "count_no_improvement = 0\n"
     ]
    }
   ],
   "source": [
    "'''\n",
    "if 'count_no_improvement' not in globals():\n",
    "    count_no_improvement = 0\n",
    "    print(\"count_no_improvement =\", count_no_improvement)\n",
    "#'''\n",
    "'''\n",
    "count_no_improvement = 0\n",
    "epoch_initial = False\n",
    "#'''\n",
    "min_delta = 0.0009\n",
    "print(\"count_no_improvement =\", count_no_improvement)\n",
    "\n",
    "def checkBestPerformance(epoch, logs):\n",
    "    save_filepath = work_dir+\"best_\"+checkpointer_name\n",
    "\n",
    "    global epoch_initial\n",
    "    if epoch_initial == True:\n",
    "        epoch_initial = False\n",
    "        model.save(filepath = save_filepath)\n",
    "        print(\". Model saved!\")\n",
    "\n",
    "    elif epoch_initial == False:\n",
    "        global count_no_improvement\n",
    "\n",
    "        log_data = pd.read_csv(work_dir+log_name, sep=',', usecols=['val_loss', 'val_accuracy'], engine='python')\n",
    "        min_val_loss = float(str(min(log_data.val_loss.values))[:6])\n",
    "        max_val_acc = float(str(max(log_data.val_accuracy.values))[:6])\n",
    "\n",
    "        current_val_acc = float(str(logs['val_accuracy'])[:6])\n",
    "        current_val_loss = float(str(logs['val_loss'])[:6])\n",
    "\n",
    "        if (current_val_loss < min_val_loss) and (abs(current_val_loss-min_val_loss) >= min_delta):\n",
    "            count_no_improvement = 0\n",
    "            model.save(filepath = save_filepath)\n",
    "            print(\"\\nval_loss decreased from\",min_val_loss,\" to\",current_val_loss,\"( val_accuracy =\",current_val_acc,\").\")\n",
    "\n",
    "        elif (current_val_loss==min_val_loss) and (current_val_acc>max_val_acc):\n",
    "            count_no_improvement = 0\n",
    "            model.save(filepath = save_filepath)\n",
    "            print(\"\\nval_accuracy increased to\", current_val_acc, \".\")\n",
    "\n",
    "        else:\n",
    "            count_no_improvement += 1\n",
    "            print(\". count_no_improvement =\", count_no_improvement)\n",
    "\n",
    "        if count_no_improvement >= early_stop_after_epochs:\n",
    "            global list_callbacks\n",
    "            del list_callbacks, count_no_improvement\n",
    "            #print(\"count_no_improvement =\", count_no_improvement, \"... list_callbacks =\", list_callbacks)"
   ]
  },
  {
   "cell_type": "code",
   "execution_count": 25,
   "metadata": {
    "colab": {
     "base_uri": "https://localhost:8080/"
    },
    "id": "YYewyuDiREFZ",
    "outputId": "50f41052-bcd1-4d84-ddfa-ebe1584847a4"
   },
   "outputs": [
    {
     "name": "stdout",
     "output_type": "stream",
     "text": [
      "epochs_completed = 0\n",
      "checkpointer_name = weights.MalayaKew.Original.rgb.(256, 256).DataFlow.pad0.Custom..wInit..TrainableAfter.allDefault.Dense.512.1024.2048.actF.elu.opt.Adam.drop.0.5.batch4.Flatten.run_1.hdf5\n"
     ]
    }
   ],
   "source": [
    "epochs_completed = 0\n",
    "list_callbacks = []\n",
    "csv_logger = CSVLogger(work_dir+log_name, separator=',', append=True)\n",
    "\n",
    "#if 'list_callbacks' in globals():\n",
    "#    del list_callbacks\n",
    "\n",
    "try:\n",
    "    log_data = pd.read_csv(work_dir+log_name, sep=',', usecols=['epoch'], engine='python')\n",
    "    epochs_completed = log_data.shape[0]\n",
    "\n",
    "    #if epochs_completed > 0:\n",
    "    model = load_model(work_dir+checkpointer_name)\n",
    "    list_callbacks = [checkpointer, LambdaCallback(on_epoch_end=checkBestPerformance), csv_logger]\n",
    "    print(\"epochs_completed =\", epochs_completed)\n",
    "\n",
    "except Exception as error:\n",
    "    if epochs_completed == 0:\n",
    "        # list_callbacks = [checkpointer, checkpointer_best, csv_logger, early_stopping] \n",
    "        list_callbacks = [checkpointer, LambdaCallback(on_epoch_end=checkBestPerformance), csv_logger]\n",
    "        print(\"epochs_completed =\", epochs_completed)\n",
    "    elif epochs_completed > 0:\n",
    "        print(error)\n",
    "\n",
    "print('checkpointer_name =', checkpointer_name)"
   ]
  },
  {
   "cell_type": "code",
   "execution_count": 26,
   "metadata": {},
   "outputs": [],
   "source": [
    "import PIL\n",
    "from PIL import Image"
   ]
  },
  {
   "cell_type": "code",
   "execution_count": 27,
   "metadata": {
    "colab": {
     "base_uri": "https://localhost:8080/"
    },
    "id": "6JKqrHnwRGGz",
    "outputId": "076a6a38-b3d5-4b46-e31c-bf95b279b25e"
   },
   "outputs": [
    {
     "name": "stdout",
     "output_type": "stream",
     "text": [
      "checkpointer_name = weights.MalayaKew.Original.rgb.(256, 256).DataFlow.pad0.Custom..wInit..TrainableAfter.allDefault.Dense.512.1024.2048.actF.elu.opt.Adam.drop.0.5.batch4.Flatten.run_1.hdf5\n",
      "Previously completed epochs = 0\n",
      "count_no_improvement = 0 \n",
      "\n",
      "Epoch 1/300\n",
      "\n",
      "Error:  OOM when allocating tensor with shape[4,32,134,134] and type float on /job:localhost/replica:0/task:0/device:GPU:0 by allocator GPU_0_bfc\n",
      "\t [[node model/conv2d_30/Conv2D (defined at <ipython-input-27-864238292d91>:8) ]]\n",
      "Hint: If you want to see a list of allocated tensors when OOM happens, add report_tensor_allocations_upon_oom to RunOptions for current allocation info.\n",
      " [Op:__inference_train_function_6222]\n",
      "\n",
      "Function call stack:\n",
      "train_function\n",
      "\n"
     ]
    }
   ],
   "source": [
    "print('checkpointer_name =', checkpointer_name)\n",
    "print(\"Previously completed epochs =\", epochs_completed)\n",
    "print(\"count_no_improvement =\", count_no_improvement, \"\\n\")\n",
    "\n",
    "#'''\n",
    "try:\n",
    "    start_time = time.time()\n",
    "    history = model.fit(train_generator, \n",
    "                        #steps_per_epoch=total_train_data // BATCH_SIZE,\n",
    "                        batch_size=BATCH_SIZE,\n",
    "                        shuffle=True, \n",
    "                        epochs = NUM_EPOCHS - epochs_completed, \n",
    "                        validation_data=test_generator,\n",
    "                        #validation_steps=total_test_data // BATCH_SIZE,\n",
    "                        callbacks=list_callbacks\n",
    "                        )\n",
    "    elapsed_time = time.time() - start_time \n",
    "    print(\"\\nTime elapsed: \", elapsed_time)\n",
    "\n",
    "except Exception as error:\n",
    "    print(\"\\nError:\", error)\n",
    "#'''"
   ]
  },
  {
   "cell_type": "code",
   "execution_count": null,
   "metadata": {
    "id": "UJsgsZFzQCs2"
   },
   "outputs": [],
   "source": []
  },
  {
   "cell_type": "code",
   "execution_count": 28,
   "metadata": {
    "id": "l_xKnoFvFQ4F"
   },
   "outputs": [
    {
     "ename": "EmptyDataError",
     "evalue": "No columns to parse from file",
     "output_type": "error",
     "traceback": [
      "\u001b[1;31m---------------------------------------------------------------------------\u001b[0m",
      "\u001b[1;31mStopIteration\u001b[0m                             Traceback (most recent call last)",
      "\u001b[1;32m~\\AppData\\Roaming\\Python\\Python38\\site-packages\\pandas\\io\\parsers.py\u001b[0m in \u001b[0;36m_infer_columns\u001b[1;34m(self)\u001b[0m\n\u001b[0;32m   2557\u001b[0m                 \u001b[1;32mtry\u001b[0m\u001b[1;33m:\u001b[0m\u001b[1;33m\u001b[0m\u001b[1;33m\u001b[0m\u001b[0m\n\u001b[1;32m-> 2558\u001b[1;33m                     \u001b[0mline\u001b[0m \u001b[1;33m=\u001b[0m \u001b[0mself\u001b[0m\u001b[1;33m.\u001b[0m\u001b[0m_buffered_line\u001b[0m\u001b[1;33m(\u001b[0m\u001b[1;33m)\u001b[0m\u001b[1;33m\u001b[0m\u001b[1;33m\u001b[0m\u001b[0m\n\u001b[0m\u001b[0;32m   2559\u001b[0m \u001b[1;33m\u001b[0m\u001b[0m\n",
      "\u001b[1;32m~\\AppData\\Roaming\\Python\\Python38\\site-packages\\pandas\\io\\parsers.py\u001b[0m in \u001b[0;36m_buffered_line\u001b[1;34m(self)\u001b[0m\n\u001b[0;32m   2733\u001b[0m         \u001b[1;32melse\u001b[0m\u001b[1;33m:\u001b[0m\u001b[1;33m\u001b[0m\u001b[1;33m\u001b[0m\u001b[0m\n\u001b[1;32m-> 2734\u001b[1;33m             \u001b[1;32mreturn\u001b[0m \u001b[0mself\u001b[0m\u001b[1;33m.\u001b[0m\u001b[0m_next_line\u001b[0m\u001b[1;33m(\u001b[0m\u001b[1;33m)\u001b[0m\u001b[1;33m\u001b[0m\u001b[1;33m\u001b[0m\u001b[0m\n\u001b[0m\u001b[0;32m   2735\u001b[0m \u001b[1;33m\u001b[0m\u001b[0m\n",
      "\u001b[1;32m~\\AppData\\Roaming\\Python\\Python38\\site-packages\\pandas\\io\\parsers.py\u001b[0m in \u001b[0;36m_next_line\u001b[1;34m(self)\u001b[0m\n\u001b[0;32m   2830\u001b[0m             \u001b[1;32mwhile\u001b[0m \u001b[1;32mTrue\u001b[0m\u001b[1;33m:\u001b[0m\u001b[1;33m\u001b[0m\u001b[1;33m\u001b[0m\u001b[0m\n\u001b[1;32m-> 2831\u001b[1;33m                 \u001b[0morig_line\u001b[0m \u001b[1;33m=\u001b[0m \u001b[0mself\u001b[0m\u001b[1;33m.\u001b[0m\u001b[0m_next_iter_line\u001b[0m\u001b[1;33m(\u001b[0m\u001b[0mrow_num\u001b[0m\u001b[1;33m=\u001b[0m\u001b[0mself\u001b[0m\u001b[1;33m.\u001b[0m\u001b[0mpos\u001b[0m \u001b[1;33m+\u001b[0m \u001b[1;36m1\u001b[0m\u001b[1;33m)\u001b[0m\u001b[1;33m\u001b[0m\u001b[1;33m\u001b[0m\u001b[0m\n\u001b[0m\u001b[0;32m   2832\u001b[0m                 \u001b[0mself\u001b[0m\u001b[1;33m.\u001b[0m\u001b[0mpos\u001b[0m \u001b[1;33m+=\u001b[0m \u001b[1;36m1\u001b[0m\u001b[1;33m\u001b[0m\u001b[1;33m\u001b[0m\u001b[0m\n",
      "\u001b[1;32m~\\AppData\\Roaming\\Python\\Python38\\site-packages\\pandas\\io\\parsers.py\u001b[0m in \u001b[0;36m_next_iter_line\u001b[1;34m(self, row_num)\u001b[0m\n\u001b[0;32m   2890\u001b[0m         \u001b[1;32mtry\u001b[0m\u001b[1;33m:\u001b[0m\u001b[1;33m\u001b[0m\u001b[1;33m\u001b[0m\u001b[0m\n\u001b[1;32m-> 2891\u001b[1;33m             \u001b[1;32mreturn\u001b[0m \u001b[0mnext\u001b[0m\u001b[1;33m(\u001b[0m\u001b[0mself\u001b[0m\u001b[1;33m.\u001b[0m\u001b[0mdata\u001b[0m\u001b[1;33m)\u001b[0m\u001b[1;33m\u001b[0m\u001b[1;33m\u001b[0m\u001b[0m\n\u001b[0m\u001b[0;32m   2892\u001b[0m         \u001b[1;32mexcept\u001b[0m \u001b[0mcsv\u001b[0m\u001b[1;33m.\u001b[0m\u001b[0mError\u001b[0m \u001b[1;32mas\u001b[0m \u001b[0me\u001b[0m\u001b[1;33m:\u001b[0m\u001b[1;33m\u001b[0m\u001b[1;33m\u001b[0m\u001b[0m\n",
      "\u001b[1;31mStopIteration\u001b[0m: ",
      "\nDuring handling of the above exception, another exception occurred:\n",
      "\u001b[1;31mEmptyDataError\u001b[0m                            Traceback (most recent call last)",
      "\u001b[1;32m<ipython-input-28-5d770645feff>\u001b[0m in \u001b[0;36m<module>\u001b[1;34m\u001b[0m\n\u001b[0;32m     13\u001b[0m \u001b[1;33m\u001b[0m\u001b[0m\n\u001b[0;32m     14\u001b[0m \u001b[0mcsv_logger\u001b[0m \u001b[1;33m=\u001b[0m \u001b[0mCSVLogger\u001b[0m\u001b[1;33m(\u001b[0m\u001b[0mwork_dir\u001b[0m\u001b[1;33m+\u001b[0m\u001b[0mlog_name\u001b[0m\u001b[1;33m,\u001b[0m \u001b[0mseparator\u001b[0m\u001b[1;33m=\u001b[0m\u001b[1;34m','\u001b[0m\u001b[1;33m,\u001b[0m \u001b[0mappend\u001b[0m\u001b[1;33m=\u001b[0m\u001b[1;32mTrue\u001b[0m\u001b[1;33m)\u001b[0m\u001b[1;33m\u001b[0m\u001b[1;33m\u001b[0m\u001b[0m\n\u001b[1;32m---> 15\u001b[1;33m \u001b[0mlog_data\u001b[0m \u001b[1;33m=\u001b[0m \u001b[0mpd\u001b[0m\u001b[1;33m.\u001b[0m\u001b[0mread_csv\u001b[0m\u001b[1;33m(\u001b[0m\u001b[0mwork_dir\u001b[0m\u001b[1;33m+\u001b[0m\u001b[0mlog_name\u001b[0m\u001b[1;33m,\u001b[0m \u001b[0msep\u001b[0m\u001b[1;33m=\u001b[0m\u001b[1;34m','\u001b[0m\u001b[1;33m,\u001b[0m \u001b[0musecols\u001b[0m\u001b[1;33m=\u001b[0m\u001b[1;33m[\u001b[0m\u001b[1;34m'epoch'\u001b[0m\u001b[1;33m]\u001b[0m\u001b[1;33m,\u001b[0m \u001b[0mengine\u001b[0m\u001b[1;33m=\u001b[0m\u001b[1;34m'python'\u001b[0m\u001b[1;33m)\u001b[0m\u001b[1;33m\u001b[0m\u001b[1;33m\u001b[0m\u001b[0m\n\u001b[0m\u001b[0;32m     16\u001b[0m \u001b[0mepochs_completed\u001b[0m \u001b[1;33m=\u001b[0m \u001b[0mlog_data\u001b[0m\u001b[1;33m.\u001b[0m\u001b[0mshape\u001b[0m\u001b[1;33m[\u001b[0m\u001b[1;36m0\u001b[0m\u001b[1;33m]\u001b[0m\u001b[1;33m\u001b[0m\u001b[1;33m\u001b[0m\u001b[0m\n\u001b[0;32m     17\u001b[0m \u001b[1;33m\u001b[0m\u001b[0m\n",
      "\u001b[1;32m~\\AppData\\Roaming\\Python\\Python38\\site-packages\\pandas\\io\\parsers.py\u001b[0m in \u001b[0;36mparser_f\u001b[1;34m(filepath_or_buffer, sep, delimiter, header, names, index_col, usecols, squeeze, prefix, mangle_dupe_cols, dtype, engine, converters, true_values, false_values, skipinitialspace, skiprows, skipfooter, nrows, na_values, keep_default_na, na_filter, verbose, skip_blank_lines, parse_dates, infer_datetime_format, keep_date_col, date_parser, dayfirst, cache_dates, iterator, chunksize, compression, thousands, decimal, lineterminator, quotechar, quoting, doublequote, escapechar, comment, encoding, dialect, error_bad_lines, warn_bad_lines, delim_whitespace, low_memory, memory_map, float_precision)\u001b[0m\n\u001b[0;32m    674\u001b[0m         )\n\u001b[0;32m    675\u001b[0m \u001b[1;33m\u001b[0m\u001b[0m\n\u001b[1;32m--> 676\u001b[1;33m         \u001b[1;32mreturn\u001b[0m \u001b[0m_read\u001b[0m\u001b[1;33m(\u001b[0m\u001b[0mfilepath_or_buffer\u001b[0m\u001b[1;33m,\u001b[0m \u001b[0mkwds\u001b[0m\u001b[1;33m)\u001b[0m\u001b[1;33m\u001b[0m\u001b[1;33m\u001b[0m\u001b[0m\n\u001b[0m\u001b[0;32m    677\u001b[0m \u001b[1;33m\u001b[0m\u001b[0m\n\u001b[0;32m    678\u001b[0m     \u001b[0mparser_f\u001b[0m\u001b[1;33m.\u001b[0m\u001b[0m__name__\u001b[0m \u001b[1;33m=\u001b[0m \u001b[0mname\u001b[0m\u001b[1;33m\u001b[0m\u001b[1;33m\u001b[0m\u001b[0m\n",
      "\u001b[1;32m~\\AppData\\Roaming\\Python\\Python38\\site-packages\\pandas\\io\\parsers.py\u001b[0m in \u001b[0;36m_read\u001b[1;34m(filepath_or_buffer, kwds)\u001b[0m\n\u001b[0;32m    446\u001b[0m \u001b[1;33m\u001b[0m\u001b[0m\n\u001b[0;32m    447\u001b[0m     \u001b[1;31m# Create the parser.\u001b[0m\u001b[1;33m\u001b[0m\u001b[1;33m\u001b[0m\u001b[1;33m\u001b[0m\u001b[0m\n\u001b[1;32m--> 448\u001b[1;33m     \u001b[0mparser\u001b[0m \u001b[1;33m=\u001b[0m \u001b[0mTextFileReader\u001b[0m\u001b[1;33m(\u001b[0m\u001b[0mfp_or_buf\u001b[0m\u001b[1;33m,\u001b[0m \u001b[1;33m**\u001b[0m\u001b[0mkwds\u001b[0m\u001b[1;33m)\u001b[0m\u001b[1;33m\u001b[0m\u001b[1;33m\u001b[0m\u001b[0m\n\u001b[0m\u001b[0;32m    449\u001b[0m \u001b[1;33m\u001b[0m\u001b[0m\n\u001b[0;32m    450\u001b[0m     \u001b[1;32mif\u001b[0m \u001b[0mchunksize\u001b[0m \u001b[1;32mor\u001b[0m \u001b[0miterator\u001b[0m\u001b[1;33m:\u001b[0m\u001b[1;33m\u001b[0m\u001b[1;33m\u001b[0m\u001b[0m\n",
      "\u001b[1;32m~\\AppData\\Roaming\\Python\\Python38\\site-packages\\pandas\\io\\parsers.py\u001b[0m in \u001b[0;36m__init__\u001b[1;34m(self, f, engine, **kwds)\u001b[0m\n\u001b[0;32m    878\u001b[0m             \u001b[0mself\u001b[0m\u001b[1;33m.\u001b[0m\u001b[0moptions\u001b[0m\u001b[1;33m[\u001b[0m\u001b[1;34m\"has_index_names\"\u001b[0m\u001b[1;33m]\u001b[0m \u001b[1;33m=\u001b[0m \u001b[0mkwds\u001b[0m\u001b[1;33m[\u001b[0m\u001b[1;34m\"has_index_names\"\u001b[0m\u001b[1;33m]\u001b[0m\u001b[1;33m\u001b[0m\u001b[1;33m\u001b[0m\u001b[0m\n\u001b[0;32m    879\u001b[0m \u001b[1;33m\u001b[0m\u001b[0m\n\u001b[1;32m--> 880\u001b[1;33m         \u001b[0mself\u001b[0m\u001b[1;33m.\u001b[0m\u001b[0m_make_engine\u001b[0m\u001b[1;33m(\u001b[0m\u001b[0mself\u001b[0m\u001b[1;33m.\u001b[0m\u001b[0mengine\u001b[0m\u001b[1;33m)\u001b[0m\u001b[1;33m\u001b[0m\u001b[1;33m\u001b[0m\u001b[0m\n\u001b[0m\u001b[0;32m    881\u001b[0m \u001b[1;33m\u001b[0m\u001b[0m\n\u001b[0;32m    882\u001b[0m     \u001b[1;32mdef\u001b[0m \u001b[0mclose\u001b[0m\u001b[1;33m(\u001b[0m\u001b[0mself\u001b[0m\u001b[1;33m)\u001b[0m\u001b[1;33m:\u001b[0m\u001b[1;33m\u001b[0m\u001b[1;33m\u001b[0m\u001b[0m\n",
      "\u001b[1;32m~\\AppData\\Roaming\\Python\\Python38\\site-packages\\pandas\\io\\parsers.py\u001b[0m in \u001b[0;36m_make_engine\u001b[1;34m(self, engine)\u001b[0m\n\u001b[0;32m   1124\u001b[0m                     \u001b[1;34m'\"python-fwf\")'\u001b[0m\u001b[1;33m\u001b[0m\u001b[1;33m\u001b[0m\u001b[0m\n\u001b[0;32m   1125\u001b[0m                 )\n\u001b[1;32m-> 1126\u001b[1;33m             \u001b[0mself\u001b[0m\u001b[1;33m.\u001b[0m\u001b[0m_engine\u001b[0m \u001b[1;33m=\u001b[0m \u001b[0mklass\u001b[0m\u001b[1;33m(\u001b[0m\u001b[0mself\u001b[0m\u001b[1;33m.\u001b[0m\u001b[0mf\u001b[0m\u001b[1;33m,\u001b[0m \u001b[1;33m**\u001b[0m\u001b[0mself\u001b[0m\u001b[1;33m.\u001b[0m\u001b[0moptions\u001b[0m\u001b[1;33m)\u001b[0m\u001b[1;33m\u001b[0m\u001b[1;33m\u001b[0m\u001b[0m\n\u001b[0m\u001b[0;32m   1127\u001b[0m \u001b[1;33m\u001b[0m\u001b[0m\n\u001b[0;32m   1128\u001b[0m     \u001b[1;32mdef\u001b[0m \u001b[0m_failover_to_python\u001b[0m\u001b[1;33m(\u001b[0m\u001b[0mself\u001b[0m\u001b[1;33m)\u001b[0m\u001b[1;33m:\u001b[0m\u001b[1;33m\u001b[0m\u001b[1;33m\u001b[0m\u001b[0m\n",
      "\u001b[1;32m~\\AppData\\Roaming\\Python\\Python38\\site-packages\\pandas\\io\\parsers.py\u001b[0m in \u001b[0;36m__init__\u001b[1;34m(self, f, **kwds)\u001b[0m\n\u001b[0;32m   2284\u001b[0m             \u001b[0mself\u001b[0m\u001b[1;33m.\u001b[0m\u001b[0mnum_original_columns\u001b[0m\u001b[1;33m,\u001b[0m\u001b[1;33m\u001b[0m\u001b[1;33m\u001b[0m\u001b[0m\n\u001b[0;32m   2285\u001b[0m             \u001b[0mself\u001b[0m\u001b[1;33m.\u001b[0m\u001b[0munnamed_cols\u001b[0m\u001b[1;33m,\u001b[0m\u001b[1;33m\u001b[0m\u001b[1;33m\u001b[0m\u001b[0m\n\u001b[1;32m-> 2286\u001b[1;33m         ) = self._infer_columns()\n\u001b[0m\u001b[0;32m   2287\u001b[0m \u001b[1;33m\u001b[0m\u001b[0m\n\u001b[0;32m   2288\u001b[0m         \u001b[1;31m# Now self.columns has the set of columns that we will process.\u001b[0m\u001b[1;33m\u001b[0m\u001b[1;33m\u001b[0m\u001b[1;33m\u001b[0m\u001b[0m\n",
      "\u001b[1;32m~\\AppData\\Roaming\\Python\\Python38\\site-packages\\pandas\\io\\parsers.py\u001b[0m in \u001b[0;36m_infer_columns\u001b[1;34m(self)\u001b[0m\n\u001b[0;32m   2578\u001b[0m \u001b[1;33m\u001b[0m\u001b[0m\n\u001b[0;32m   2579\u001b[0m                     \u001b[1;32mif\u001b[0m \u001b[1;32mnot\u001b[0m \u001b[0mself\u001b[0m\u001b[1;33m.\u001b[0m\u001b[0mnames\u001b[0m\u001b[1;33m:\u001b[0m\u001b[1;33m\u001b[0m\u001b[1;33m\u001b[0m\u001b[0m\n\u001b[1;32m-> 2580\u001b[1;33m                         \u001b[1;32mraise\u001b[0m \u001b[0mEmptyDataError\u001b[0m\u001b[1;33m(\u001b[0m\u001b[1;34m\"No columns to parse from file\"\u001b[0m\u001b[1;33m)\u001b[0m\u001b[1;33m\u001b[0m\u001b[1;33m\u001b[0m\u001b[0m\n\u001b[0m\u001b[0;32m   2581\u001b[0m \u001b[1;33m\u001b[0m\u001b[0m\n\u001b[0;32m   2582\u001b[0m                     \u001b[0mline\u001b[0m \u001b[1;33m=\u001b[0m \u001b[0mself\u001b[0m\u001b[1;33m.\u001b[0m\u001b[0mnames\u001b[0m\u001b[1;33m[\u001b[0m\u001b[1;33m:\u001b[0m\u001b[1;33m]\u001b[0m\u001b[1;33m\u001b[0m\u001b[1;33m\u001b[0m\u001b[0m\n",
      "\u001b[1;31mEmptyDataError\u001b[0m: No columns to parse from file"
     ]
    }
   ],
   "source": [
    "'''\n",
    "Record: \n",
    ";\n",
    "---\n",
    "Test Acc: 0.3947, Test Loss: 3.1064: ep10, weights.MalayaKew.gray.pad10.TransferLearning.InceptionResNetV2.wInit.None.TrainableAfter.allDefault.Dense.512.actF.relu.opt.Adam.drop.0.0.batch64.Flatten.run_1.hdf5\n",
    "Test Acc: 0.6353, Test Loss: 1.8520: ep30, weights.MalayaKew.gray3D.(64, 64, 3).pad0.TransferLearning3D.ResNet50.wInit.imagenet.TrainableAfter.allDefault.actF.relu.opt.Adam.drop.0.0.batch64.Flatten.run_1.hdf5\n",
    "Test Acc: 0.4453, Test Loss: 2.4178: ep17, weights.MalayaKew.gray3D.(64, 64, 3).pad0.TransferLearning3D.ResNet50.wInit.imagenet.TrainableAfter.170.actF.relu.opt.Adam.drop.0.0.batch64.Flatten.run_1.hdf5\n",
    "Test Acc: 0.6044, Test Loss: 2.3383: ep22, weights.MalayaKew.gray3D.(64, 64, 3).pad0.TransferLearning3D.ResNet50.wInit.imagenet.TrainableAfter.allDefault.Dense.512.512.512.512.actF.elu.opt.Adam.drop.0.5.batch64.Flatten.regularizers.l2.0.0001.run_1.hdf5\n",
    "Test Acc: 0.6112, Test Loss: 2.5392: ep24, weights.MalayaKew.gray3D.(64, 64, 3).pad0.TransferLearning3D.ResNet50.wInit.imagenet.TrainableAfter.allDefault.Dense.512.512.512.512.Res.actF.elu.opt.Adam.drop.0.5.batch64.Flatten.regularizers.l2.0.0001.run_1.hdf5\n",
    "Test Acc: 0.3967, Test Loss: 4.1926: ep25, weights.MalayaKew.gray3D.(64, 64, 3).pad0.TransferLearning3D.ResNet152V2.wInit.imagenet.TrainableAfter.allDefault.actF.relu.opt.Adam.drop.0.0.batch64.Flatten.run_1.hdf5\n",
    "\n",
    "#'''\n",
    "\n",
    "csv_logger = CSVLogger(work_dir+log_name, separator=',', append=True)\n",
    "log_data = pd.read_csv(work_dir+log_name, sep=',', usecols=['epoch'], engine='python')\n",
    "epochs_completed = log_data.shape[0]\n",
    "\n",
    "result = model.evaluate(final_test_imageset, final_test_label)\n",
    "print(\"Test Acc: {}, Test Loss: {}: ep{}, {}\\n\".format(round(result[1],4), round(result[0],4), epochs_completed, checkpointer_name))\n"
   ]
  },
  {
   "cell_type": "code",
   "execution_count": null,
   "metadata": {
    "id": "IQM7JieEFQ1G"
   },
   "outputs": [],
   "source": [
    "#checkpointer_name = \"weights.Fashion.DenseNet121.wInit.None.TrainableAfterallDefault.opt.SGD.drop.0.0.batch32.Flatten.run_1.hdf5\"\n",
    "model_loaded = load_model(work_dir+\"best_\"+checkpointer_name)\n",
    "print(\"Loaded \"+work_dir+\"best_\"+checkpointer_name+\".\")"
   ]
  },
  {
   "cell_type": "code",
   "execution_count": null,
   "metadata": {
    "id": "chvVsOEgRfsO"
   },
   "outputs": [],
   "source": [
    "'''\n",
    "Record: \n",
    ";\n",
    "---\n",
    "Test Acc: 0.3833, Test Loss: 2.1568: ep10, best_weights.MalayaKew.gray.pad10.TransferLearning.InceptionResNetV2.wInit.None.TrainableAfter.allDefault.Dense.512.actF.relu.opt.Adam.drop.0.0.batch64.Flatten.run_1.hdf5\n",
    "Test Acc: 0.7168, Test Loss: 1.2828: ep30, best_weights.MalayaKew.gray3D.(64, 64, 3).pad0.TransferLearning3D.ResNet50.wInit.imagenet.TrainableAfter.allDefault.actF.relu.opt.Adam.drop.0.0.batch64.Flatten.run_1.hdf5\n",
    "\n",
    "Test Acc: 0.4410, Test Loss: 2.0524: ep17, best_weights.MalayaKew.gray3D.(64, 64, 3).pad0.TransferLearning3D.ResNet50.wInit.imagenet.TrainableAfter.170.actF.relu.opt.Adam.drop.0.0.batch64.Flatten.run_1.hdf5\n",
    "Test Acc: 0.6757, Test Loss: 1.5270: ep22, best_weights.MalayaKew.gray3D.(64, 64, 3).pad0.TransferLearning3D.ResNet50.wInit.imagenet.TrainableAfter.allDefault.Dense.512.512.512.512.actF.elu.opt.Adam.drop.0.5.batch64.Flatten.regularizers.l2.0.0001.run_1.hdf5\n",
    "Test Acc: 0.5914, Test Loss: 1.7184: ep24, best_weights.MalayaKew.gray3D.(64, 64, 3).pad0.TransferLearning3D.ResNet50.wInit.imagenet.TrainableAfter.allDefault.Dense.512.512.512.512.Res.actF.elu.opt.Adam.drop.0.5.batch64.Flatten.regularizers.l2.0.0001.run_1.hdf5\n",
    "Test Acc: 0.6594, Test Loss: 1.2659: ep25, best_weights.MalayaKew.gray3D.(64, 64, 3).pad0.TransferLearning3D.ResNet152V2.wInit.imagenet.TrainableAfter.allDefault.actF.relu.opt.Adam.drop.0.0.batch64.Flatten.run_1.hdf5\n",
    "\n",
    "#'''\n",
    "'''\n",
    "csv_logger = CSVLogger(work_dir+log_name, separator=',', append=True)\n",
    "log_data = pd.read_csv(work_dir+log_name, sep=',', usecols=['epoch'], engine='python')\n",
    "epochs_completed = log_data.shape[0]\n",
    "#'''\n",
    "\n",
    "result2 = model_loaded.evaluate(final_test_imageset, final_test_label)\n",
    "#print(\"nLayers: {}, nNeurons: {}, DROPOUT: {}, Test Acc: {}, Test Loss: {}\".format(NUM_LAYERS, NUM_NEURONS, DROPOUT, round(result2[1], 4), round(result2[0], 4)))\n",
    "print(\"Test Acc: {}, Test Loss: {}: ep{}, {}\\n\".format(round(result2[1],4), round(result2[0],4), epochs_completed, \"best_\"+checkpointer_name))\n"
   ]
  },
  {
   "cell_type": "code",
   "execution_count": null,
   "metadata": {
    "id": "z1GzwpODRlRf"
   },
   "outputs": [],
   "source": [
    "import csv\n",
    "\n",
    "with open(work_dir+'Records.csv', \"a\") as fp:\n",
    "    wr = csv.writer(fp, dialect='excel')\n",
    "    try:\n",
    "        wr.writerow([checkpointer_name[8:-5], round(result2[1], 4), round(result2[0], 4), elapsed_time])\n",
    "    except:\n",
    "        wr.writerow([checkpointer_name[8:-5], round(result2[1], 4), round(result2[0], 4)])\n",
    "print(\"Saved results.\")"
   ]
  },
  {
   "cell_type": "code",
   "execution_count": null,
   "metadata": {
    "id": "Dv35-hm1Rfv5"
   },
   "outputs": [],
   "source": []
  },
  {
   "cell_type": "code",
   "execution_count": null,
   "metadata": {
    "id": "hgY4v21DyQwL"
   },
   "outputs": [],
   "source": [
    "#Confution Matrix and Classification Report\n",
    "#'''\n",
    "Y_pred = model_loaded.predict_generator(final_test_imageset, len(final_test_imageset))\n",
    "y_pred = np.argmax(Y_pred, axis=1)\n",
    "print('Confusion Matrix')\n",
    "print(confusion_matrix(np_test_label, y_pred))\n",
    "#'''"
   ]
  },
  {
   "cell_type": "code",
   "execution_count": null,
   "metadata": {
    "id": "U5j7b3KcRvwj"
   },
   "outputs": [],
   "source": [
    "# Precision [TP/TP+FP] = The ratio of correctly predicted positive observations to the total predicted positive observations.\n",
    "# Recall (Sensitivity) [TP/TP+FN] = The ratio of correctly predicted positive observations to the all observations in actual class - 'yes'.\n",
    "# F1 score [F1 Score = 2*(Recall * Precision) / (Recall + Precision)] = The weighted average of Precision and Recall.\n",
    "# Support = The number of samples of the true response that lie in that class.\n",
    "#'''\n",
    "print('Classification Report:')\n",
    "#target_names = ['Mono', 'Di'] # not ['Di', 'Mono']\n",
    "print(classification_report(np_test_label, y_pred)) #, target_names=target_names))\n",
    "#'''"
   ]
  },
  {
   "cell_type": "code",
   "execution_count": null,
   "metadata": {
    "id": "ceGRitu9RvzV"
   },
   "outputs": [],
   "source": [
    "'''\n",
    "print('Classification Report')\n",
    "print(classification_report(y_test, y_pred, target_names=list_categories))\n",
    "#'''"
   ]
  },
  {
   "cell_type": "code",
   "execution_count": null,
   "metadata": {
    "id": "ujLQjTf2Rv11"
   },
   "outputs": [],
   "source": [
    "log_data = pd.read_csv(work_dir+log_name, sep=',', engine='python') "
   ]
  },
  {
   "cell_type": "code",
   "execution_count": null,
   "metadata": {
    "id": "To55jgGSRv4a"
   },
   "outputs": [],
   "source": [
    "# Getting the model history keys \n",
    "#history.history.keys()\n",
    "log_data.head()"
   ]
  },
  {
   "cell_type": "code",
   "execution_count": null,
   "metadata": {
    "id": "aytAYSJ4Rv7T"
   },
   "outputs": [],
   "source": [
    "# plot the training artifacts\n",
    "title = \"Val loss for \"+dataset+\" \"+impl_type\n",
    "\n",
    "plt.plot(log_data['loss'])\n",
    "plt.plot(log_data['val_loss'])\n",
    "plt.title(title)\n",
    "plt.ylabel('loss')\n",
    "plt.xlabel('epoch')\n",
    "plt.legend(['train_loss','val_loss'], loc = 'best')\n",
    "\n",
    "img_path = work_dir+'Images/vLoss_'+checkpointer_name[8:-5]+'.png'\n",
    "plt.savefig(img_path, dpi=600)\n",
    "plt.show()\n",
    "print('img_path =', img_path)"
   ]
  },
  {
   "cell_type": "code",
   "execution_count": null,
   "metadata": {
    "id": "yUq1WaElRv-M"
   },
   "outputs": [],
   "source": [
    "title = \"Val acc for \"+dataset+\" \"+impl_type\n",
    "\n",
    "plt.plot(log_data['accuracy'])\n",
    "plt.plot(log_data['val_accuracy'])\n",
    "plt.title(title)\n",
    "plt.ylabel('accuracy')\n",
    "plt.xlabel('epoch')\n",
    "plt.legend(['train_accuracy','val_accuracy'], loc = 'best')\n",
    "\n",
    "img_path = work_dir+'Images/vAcc_'+checkpointer_name[8:-5]+'.png'\n",
    "plt.savefig(img_path, dpi=600)\n",
    "plt.show()\n",
    "print('img_path =', img_path)"
   ]
  },
  {
   "cell_type": "code",
   "execution_count": null,
   "metadata": {
    "id": "w4msuVKMSk8E"
   },
   "outputs": [],
   "source": []
  }
 ],
 "metadata": {
  "accelerator": "GPU",
  "colab": {
   "collapsed_sections": [],
   "name": "Plant_Leaf_MalayaKew_MK_Dataset_FOIU6_DataFlow.ipynb",
   "provenance": []
  },
  "kernelspec": {
   "display_name": "Python 3",
   "language": "python",
   "name": "python3"
  },
  "language_info": {
   "codemirror_mode": {
    "name": "ipython",
    "version": 3
   },
   "file_extension": ".py",
   "mimetype": "text/x-python",
   "name": "python",
   "nbconvert_exporter": "python",
   "pygments_lexer": "ipython3",
   "version": "3.8.9"
  }
 },
 "nbformat": 4,
 "nbformat_minor": 1
}
