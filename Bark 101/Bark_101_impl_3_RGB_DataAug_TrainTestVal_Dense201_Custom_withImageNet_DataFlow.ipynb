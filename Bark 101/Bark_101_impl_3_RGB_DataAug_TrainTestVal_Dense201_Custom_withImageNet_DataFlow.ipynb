{
  "nbformat": 4,
  "nbformat_minor": 0,
  "metadata": {
    "accelerator": "GPU",
    "colab": {
      "name": "Bark_101_impl_3_RGB_DataAug_TrainTestVal_Dense201_Custom_withImageNet_DataFlow.ipynb",
      "provenance": [],
      "collapsed_sections": []
    },
    "kernelspec": {
      "display_name": "Python 3",
      "name": "python3"
    }
  },
  "cells": [
    {
      "cell_type": "code",
      "metadata": {
        "colab": {
          "base_uri": "https://localhost:8080/"
        },
        "id": "w35zPOcMyNwJ",
        "outputId": "fa8f337f-52bd-492f-ec08-294b35ab7689"
      },
      "source": [
        "from google.colab import drive \n",
        "drive.mount('/content/drive', force_remount=True)"
      ],
      "execution_count": 1,
      "outputs": [
        {
          "output_type": "stream",
          "text": [
            "Mounted at /content/drive\n"
          ],
          "name": "stdout"
        }
      ]
    },
    {
      "cell_type": "code",
      "metadata": {
        "id": "ph-qNIaajXGT"
      },
      "source": [
        "#drive.flush_and_unmount(timeout_ms=24)"
      ],
      "execution_count": 2,
      "outputs": []
    },
    {
      "cell_type": "code",
      "metadata": {
        "id": "9xc7MvTxyQd7"
      },
      "source": [
        "\n",
        "import numpy as np\n",
        "import pandas as pd\n",
        "import pickle\n",
        "import numpy as np\n",
        "import random\n",
        "import time\n",
        "import os\n",
        "#os.environ[\"OPENCV_IO_MAX_IMAGE_PIXELS\"] = pow(2,40).__str__()\n",
        "import cv2\n",
        "from tqdm import tqdm\n",
        "\n",
        "import tensorflow as tf\n",
        "from tensorflow.python.keras import Sequential\n",
        "from tensorflow.keras import layers, optimizers\n",
        "from tensorflow.keras.applications import DenseNet121\n",
        "from tensorflow.keras.applications.resnet50 import ResNet50\n",
        "from tensorflow.keras.layers import *\n",
        "from tensorflow.keras.models import Model, load_model\n",
        "from tensorflow.keras.initializers import glorot_uniform\n",
        "from tensorflow.keras.utils import plot_model\n",
        "from tensorflow.keras.callbacks import ReduceLROnPlateau, EarlyStopping, ModelCheckpoint, LearningRateScheduler\n",
        "from IPython.display import display\n",
        "from tensorflow.keras import backend as K\n",
        "import matplotlib.pyplot as plt\n",
        "import matplotlib.image as mpimg\n",
        "from sklearn.model_selection import train_test_split\n",
        "from keras import optimizers\n",
        "#from sklearn.metrics import classification_report, confusion_matrix\n",
        "import sklearn\n",
        "import seaborn as sn\n",
        "from keras.callbacks import CSVLogger, LambdaCallback\n",
        "from tensorflow.keras.preprocessing.image import ImageDataGenerator"
      ],
      "execution_count": 3,
      "outputs": []
    },
    {
      "cell_type": "code",
      "metadata": {
        "id": "LLy6y_e1yQhC"
      },
      "source": [
        "Dataset_Name = \"Bark_101\"\n",
        "base_dir = 'drive/My Drive/Texture/Bark-101-anonymized/Bark-101 Split/'\n",
        "work_dir = \"drive/My Drive/Texture/Bark-101-anonymized/Records/\"\n",
        "#dataset_dir = \"drive/My Drive/Plant_Leaf_MalayaKew_MK_Dataset/MK/D2/\"\n",
        "\n",
        "train_dir = os.path.join(base_dir, 'train')\n",
        "test_dir = os.path.join(base_dir, 'test')\n",
        "\n",
        "#data_instance = 64 # 64 256\n",
        "color_type = 'rgb' # rgb, grayscale"
      ],
      "execution_count": 4,
      "outputs": []
    },
    {
      "cell_type": "code",
      "metadata": {
        "id": "LnYytOrbKGMH"
      },
      "source": [
        "train_datagen = ImageDataGenerator(rescale=1./255,\n",
        "                                   width_shift_range=0.2,\n",
        "                                   height_shift_range=0.2,\n",
        "                                   zoom_range=0.2,\n",
        "                                   #horizontal_flip=True, \n",
        "                                   #vertical_flip=True,\n",
        "                                   #rotation_range=20,\n",
        "                                   validation_split=0.1\n",
        "                                   )\n",
        "val_datagen = ImageDataGenerator(rescale=1./255,\n",
        "                                 validation_split=0.2\n",
        "                                 ) \n",
        "test_datagen = ImageDataGenerator(rescale=1./255)"
      ],
      "execution_count": 5,
      "outputs": []
    },
    {
      "cell_type": "code",
      "metadata": {
        "id": "3mgmPRJEKk3r"
      },
      "source": [
        "BATCH_SIZE = 8"
      ],
      "execution_count": 6,
      "outputs": []
    },
    {
      "cell_type": "code",
      "metadata": {
        "colab": {
          "base_uri": "https://localhost:8080/"
        },
        "id": "rga2byZPKPQt",
        "outputId": "72e1fcc4-ce4c-41b4-e71d-dcf3ddd41b80"
      },
      "source": [
        "train_generator = train_datagen.flow_from_directory(\n",
        "        train_dir,\n",
        "        #target_size=(800, 804),  # target images are automatically resized to (256, 256)\n",
        "        batch_size=BATCH_SIZE,\n",
        "        color_mode=color_type, # grayscale, rgb\n",
        "        class_mode='categorical',\n",
        "        subset='training'\n",
        "        )"
      ],
      "execution_count": 7,
      "outputs": [
        {
          "output_type": "stream",
          "text": [
            "Found 1203 images belonging to 101 classes.\n"
          ],
          "name": "stdout"
        }
      ]
    },
    {
      "cell_type": "code",
      "metadata": {
        "colab": {
          "base_uri": "https://localhost:8080/"
        },
        "id": "uwy6M8sgK1KT",
        "outputId": "3fc6473d-6d43-4340-f4a2-fe23d488f763"
      },
      "source": [
        "num_classes = train_generator.num_classes\n",
        "total_train_data = train_generator.samples\n",
        "\n",
        "print(f\"total_train_data = {total_train_data}\")\n",
        "print(f\"train_generator.image_shape = {train_generator.image_shape}\")\n",
        "print(f\"num_classes = {num_classes}\")"
      ],
      "execution_count": 8,
      "outputs": [
        {
          "output_type": "stream",
          "text": [
            "total_train_data = 1203\n",
            "train_generator.image_shape = (256, 256, 3)\n",
            "num_classes = 101\n"
          ],
          "name": "stdout"
        }
      ]
    },
    {
      "cell_type": "code",
      "metadata": {
        "colab": {
          "base_uri": "https://localhost:8080/"
        },
        "id": "6ps2hbUoSqhn",
        "outputId": "77b7d01e-750b-4680-ab25-5a2a92207216"
      },
      "source": [
        "val_generator = val_datagen.flow_from_directory(\n",
        "        train_dir,\n",
        "        #target_size=(800, 804),  # target images are automatically resized to (256, 256)\n",
        "        batch_size=BATCH_SIZE,\n",
        "        color_mode=color_type, # grayscale, rgb\n",
        "        class_mode='categorical',\n",
        "        subset='validation'\n",
        "        )"
      ],
      "execution_count": 9,
      "outputs": [
        {
          "output_type": "stream",
          "text": [
            "Found 221 images belonging to 101 classes.\n"
          ],
          "name": "stdout"
        }
      ]
    },
    {
      "cell_type": "code",
      "metadata": {
        "colab": {
          "base_uri": "https://localhost:8080/"
        },
        "id": "IRos0CUeSqln",
        "outputId": "d6dc4db9-c799-4d8f-e7e6-ef2aef3b9aa4"
      },
      "source": [
        "total_val_data = val_generator.samples\n",
        "print(f\"total_val_data = {total_val_data}\")"
      ],
      "execution_count": 10,
      "outputs": [
        {
          "output_type": "stream",
          "text": [
            "total_val_data = 221\n"
          ],
          "name": "stdout"
        }
      ]
    },
    {
      "cell_type": "code",
      "metadata": {
        "colab": {
          "base_uri": "https://localhost:8080/"
        },
        "id": "YsvrZgrALXMl",
        "outputId": "00977999-b787-43b7-9a49-ca8d2aa9b208"
      },
      "source": [
        "test_generator = test_datagen.flow_from_directory(\n",
        "        test_dir,\n",
        "        #target_size=(800, 804),  # target images are automatically resized to (256, 256)\n",
        "        batch_size=BATCH_SIZE,\n",
        "        shuffle=False,\n",
        "        color_mode=color_type, # grayscale, rgb\n",
        "        class_mode='categorical')"
      ],
      "execution_count": 11,
      "outputs": [
        {
          "output_type": "stream",
          "text": [
            "Found 1295 images belonging to 101 classes.\n"
          ],
          "name": "stdout"
        }
      ]
    },
    {
      "cell_type": "code",
      "metadata": {
        "colab": {
          "base_uri": "https://localhost:8080/"
        },
        "id": "HxU0D6TuOOOL",
        "outputId": "1f91b4e1-7eba-4d44-ae12-888e85b40569"
      },
      "source": [
        "total_test_data = test_generator.samples\n",
        "print(f\"total_test_data = {total_test_data}\")"
      ],
      "execution_count": 12,
      "outputs": [
        {
          "output_type": "stream",
          "text": [
            "total_test_data = 1295\n"
          ],
          "name": "stdout"
        }
      ]
    },
    {
      "cell_type": "code",
      "metadata": {
        "id": "roidu5RmFRJq"
      },
      "source": [
        ""
      ],
      "execution_count": 12,
      "outputs": []
    },
    {
      "cell_type": "code",
      "metadata": {
        "id": "XRwynF9xPBWy",
        "colab": {
          "base_uri": "https://localhost:8080/",
          "height": 36
        },
        "outputId": "745829c2-eb3b-4332-83a0-970639ab33ba"
      },
      "source": [
        "# DenseNet121 ResNet101 ResNet50 DenseNet201 InceptionV3 Xception NASNetLarge ResNet152V2 InceptionResNetV2 EfficientNetB7\n",
        "impl_type = \"TL.3D.DenseNet201\" # TransferLearning3D \n",
        "dataset = f\"{Dataset_Name}.DataAug.{color_type}.{train_generator.image_shape[1]}p.TTV.DataFlow\" # +str(img_size)+\"p\"\n",
        "dataset"
      ],
      "execution_count": 13,
      "outputs": [
        {
          "output_type": "execute_result",
          "data": {
            "application/vnd.google.colaboratory.intrinsic+json": {
              "type": "string"
            },
            "text/plain": [
              "'Bark_101.DataAug.rgb.256p.TTV.DataFlow'"
            ]
          },
          "metadata": {
            "tags": []
          },
          "execution_count": 13
        }
      ]
    },
    {
      "cell_type": "code",
      "metadata": {
        "id": "rLVsewD-O3gl"
      },
      "source": [
        "#'''\n",
        "count_no_improvement = 0\n",
        "epoch_initial = True\n",
        "#'''"
      ],
      "execution_count": 14,
      "outputs": []
    },
    {
      "cell_type": "code",
      "metadata": {
        "colab": {
          "base_uri": "https://localhost:8080/"
        },
        "id": "OxppPm7hO3l8",
        "outputId": "1b9d2b51-5740-414a-c912-e7cd48f4beed"
      },
      "source": [
        "#NUM_NEURONS = 16\n",
        "#NUM_LAYERS = 3\n",
        "#BATCH_SIZE = 16 # 10\n",
        "NUM_EPOCHS = 300\n",
        "epochs_completed = 0\n",
        "LEARNING_RATE = 0.00001\n",
        "EPSILON = 1e-4\n",
        "early_stop_after_epochs = 25\n",
        "DROPOUT = 0.5 # 0.5 0.0\n",
        "pad = 0\n",
        "\n",
        "LOSS = 'categorical_crossentropy'\n",
        "ACTIVATION_FUNCTION = 'elu' # relu sigmoid elu\n",
        "FINAL_ACTIVATION_FUNCTION = 'softmax'\n",
        "validation_split = 0.1\n",
        "kernel_size=(1,1)\n",
        "pointTrainableAfter = \"allDefault\" # \"allDefault\" 160 170\n",
        "OPTIMIZER = \"Adam\" # Adam SGD RMSProp\n",
        "init_weights = \"imagenet\" # \"imagenet\" None\n",
        "modelExt = \".Dense.1024.1024.2048\" # .Dense.128.256.512, .512.512.512 .Dense.512.512.512.512.Res\n",
        "l2_val = 0.001\n",
        "\n",
        "# +\"_kernel\"+str(kernel_size)+\"_lr\"+str(LEARNING_RATE)+\"_batch\"+str(BATCH_SIZE)+\"_epochs\"+str(NUM_EPOCHS)\n",
        "#checkpointer_name  = \"weights_\"+dataset+\"_\"+impl_type+\"_nLayers\"+str(NUM_LAYERS)+\"_nNeurons\"+str(NUM_NEURONS)+\".hdf5\"\n",
        "ext = f\".Flatten.l2.{str(l2_val)}.run_2\" # run_1 run_2 .DropAfter .momentum0.9\n",
        "#'''\n",
        "checkpointer_name  = \"weights.\"+dataset+\".pad\"+str(pad)+\".\"+impl_type+\".wInit.\"+str(init_weights)+\".TrainableAfter.\"+str(pointTrainableAfter)+\\\n",
        "                     modelExt+\".actF.\"+ACTIVATION_FUNCTION+\".opt.\"+OPTIMIZER+\".drop.\"+str(DROPOUT)+\".batch\"+str(BATCH_SIZE)+ext+\".hdf5\"\n",
        "log_name = \"log.\"+checkpointer_name[8:-5]+\".log\"\n",
        "\n",
        "print('checkpointer_name =', checkpointer_name)\n",
        "print('log_name =', log_name)\n",
        "#'''"
      ],
      "execution_count": 15,
      "outputs": [
        {
          "output_type": "stream",
          "text": [
            "checkpointer_name = weights.Bark_101.DataAug.rgb.256p.TTV.DataFlow.pad0.TL.3D.DenseNet201.wInit.imagenet.TrainableAfter.allDefault.Dense.1024.1024.2048.actF.elu.opt.Adam.drop.0.5.batch8.Flatten.l2.0.001.run_2.hdf5\n",
            "log_name = log.Bark_101.DataAug.rgb.256p.TTV.DataFlow.pad0.TL.3D.DenseNet201.wInit.imagenet.TrainableAfter.allDefault.Dense.1024.1024.2048.actF.elu.opt.Adam.drop.0.5.batch8.Flatten.l2.0.001.run_2.log\n"
          ],
          "name": "stdout"
        }
      ]
    },
    {
      "cell_type": "code",
      "metadata": {
        "colab": {
          "base_uri": "https://localhost:8080/"
        },
        "id": "hcB3WVaWO6BV",
        "outputId": "9b7f7324-c744-4a91-b51f-cce7cc3b6cb6"
      },
      "source": [
        "train_generator.image_shape"
      ],
      "execution_count": 16,
      "outputs": [
        {
          "output_type": "execute_result",
          "data": {
            "text/plain": [
              "(256, 256, 3)"
            ]
          },
          "metadata": {
            "tags": []
          },
          "execution_count": 16
        }
      ]
    },
    {
      "cell_type": "code",
      "metadata": {
        "colab": {
          "base_uri": "https://localhost:8080/"
        },
        "id": "XyK6ZbJOOsjV",
        "outputId": "89c4f50a-ffa7-4694-e9c4-ed196a9b3384"
      },
      "source": [
        "#'''\n",
        "#base_model=DenseNet121(weights=None, include_top=False, input_shape=np_train_dataset2.shape[1:]) # `None` (random initialization)\n",
        "#base_model=ResNet152V2(weights=None, include_top=False, input_shape=np_train_dataset2.shape[1:])\n",
        "# ResNet152V2 ResNet50 ResNet101 ResNet152 DenseNet201 InceptionV3 Xception NASNetLarge 'imagenet' ResNet152V2 DenseNet121\n",
        "#inputs = Input(final_train_imageset.shape[1:])\n",
        "#x = ZeroPadding2D(padding=(pad,pad))(inputs)\n",
        "#base_model=tf.keras.applications.ResNet50(weights=init_weights, include_top=False, input_tensor=x)\n",
        "base_model=tf.keras.applications.DenseNet201(weights=init_weights, include_top=False, input_shape=train_generator.image_shape)\n",
        "x=base_model.output\n",
        "\n",
        "x = Flatten()(x)\n",
        "\n",
        "#'''\n",
        "x = Dense(1024, kernel_regularizer=tf.keras.regularizers.l2(l2_val), activation=ACTIVATION_FUNCTION)(x)\n",
        "#x_copy = x\n",
        "x = Dropout(DROPOUT)(x)\n",
        "x = Dense(1024, kernel_regularizer=tf.keras.regularizers.l2(l2_val), activation=ACTIVATION_FUNCTION)(x)\n",
        "x = Dropout(DROPOUT)(x)\n",
        "x = Dense(2048, kernel_regularizer=tf.keras.regularizers.l2(l2_val), activation=ACTIVATION_FUNCTION)(x)\n",
        "x = Dropout(DROPOUT)(x)\n",
        "#x = Add()([x,x_copy])\n",
        "#'''\n",
        "outputs=Dense(num_classes,activation='softmax')(x)\n",
        "\n",
        "model=Model(inputs=base_model.input,outputs=outputs)\n",
        "model.summary()\n",
        "#'''"
      ],
      "execution_count": 17,
      "outputs": [
        {
          "output_type": "stream",
          "text": [
            "Model: \"model\"\n",
            "__________________________________________________________________________________________________\n",
            "Layer (type)                    Output Shape         Param #     Connected to                     \n",
            "==================================================================================================\n",
            "input_1 (InputLayer)            [(None, 256, 256, 3) 0                                            \n",
            "__________________________________________________________________________________________________\n",
            "zero_padding2d (ZeroPadding2D)  (None, 262, 262, 3)  0           input_1[0][0]                    \n",
            "__________________________________________________________________________________________________\n",
            "conv1/conv (Conv2D)             (None, 128, 128, 64) 9408        zero_padding2d[0][0]             \n",
            "__________________________________________________________________________________________________\n",
            "conv1/bn (BatchNormalization)   (None, 128, 128, 64) 256         conv1/conv[0][0]                 \n",
            "__________________________________________________________________________________________________\n",
            "conv1/relu (Activation)         (None, 128, 128, 64) 0           conv1/bn[0][0]                   \n",
            "__________________________________________________________________________________________________\n",
            "zero_padding2d_1 (ZeroPadding2D (None, 130, 130, 64) 0           conv1/relu[0][0]                 \n",
            "__________________________________________________________________________________________________\n",
            "pool1 (MaxPooling2D)            (None, 64, 64, 64)   0           zero_padding2d_1[0][0]           \n",
            "__________________________________________________________________________________________________\n",
            "conv2_block1_0_bn (BatchNormali (None, 64, 64, 64)   256         pool1[0][0]                      \n",
            "__________________________________________________________________________________________________\n",
            "conv2_block1_0_relu (Activation (None, 64, 64, 64)   0           conv2_block1_0_bn[0][0]          \n",
            "__________________________________________________________________________________________________\n",
            "conv2_block1_1_conv (Conv2D)    (None, 64, 64, 128)  8192        conv2_block1_0_relu[0][0]        \n",
            "__________________________________________________________________________________________________\n",
            "conv2_block1_1_bn (BatchNormali (None, 64, 64, 128)  512         conv2_block1_1_conv[0][0]        \n",
            "__________________________________________________________________________________________________\n",
            "conv2_block1_1_relu (Activation (None, 64, 64, 128)  0           conv2_block1_1_bn[0][0]          \n",
            "__________________________________________________________________________________________________\n",
            "conv2_block1_2_conv (Conv2D)    (None, 64, 64, 32)   36864       conv2_block1_1_relu[0][0]        \n",
            "__________________________________________________________________________________________________\n",
            "conv2_block1_concat (Concatenat (None, 64, 64, 96)   0           pool1[0][0]                      \n",
            "                                                                 conv2_block1_2_conv[0][0]        \n",
            "__________________________________________________________________________________________________\n",
            "conv2_block2_0_bn (BatchNormali (None, 64, 64, 96)   384         conv2_block1_concat[0][0]        \n",
            "__________________________________________________________________________________________________\n",
            "conv2_block2_0_relu (Activation (None, 64, 64, 96)   0           conv2_block2_0_bn[0][0]          \n",
            "__________________________________________________________________________________________________\n",
            "conv2_block2_1_conv (Conv2D)    (None, 64, 64, 128)  12288       conv2_block2_0_relu[0][0]        \n",
            "__________________________________________________________________________________________________\n",
            "conv2_block2_1_bn (BatchNormali (None, 64, 64, 128)  512         conv2_block2_1_conv[0][0]        \n",
            "__________________________________________________________________________________________________\n",
            "conv2_block2_1_relu (Activation (None, 64, 64, 128)  0           conv2_block2_1_bn[0][0]          \n",
            "__________________________________________________________________________________________________\n",
            "conv2_block2_2_conv (Conv2D)    (None, 64, 64, 32)   36864       conv2_block2_1_relu[0][0]        \n",
            "__________________________________________________________________________________________________\n",
            "conv2_block2_concat (Concatenat (None, 64, 64, 128)  0           conv2_block1_concat[0][0]        \n",
            "                                                                 conv2_block2_2_conv[0][0]        \n",
            "__________________________________________________________________________________________________\n",
            "conv2_block3_0_bn (BatchNormali (None, 64, 64, 128)  512         conv2_block2_concat[0][0]        \n",
            "__________________________________________________________________________________________________\n",
            "conv2_block3_0_relu (Activation (None, 64, 64, 128)  0           conv2_block3_0_bn[0][0]          \n",
            "__________________________________________________________________________________________________\n",
            "conv2_block3_1_conv (Conv2D)    (None, 64, 64, 128)  16384       conv2_block3_0_relu[0][0]        \n",
            "__________________________________________________________________________________________________\n",
            "conv2_block3_1_bn (BatchNormali (None, 64, 64, 128)  512         conv2_block3_1_conv[0][0]        \n",
            "__________________________________________________________________________________________________\n",
            "conv2_block3_1_relu (Activation (None, 64, 64, 128)  0           conv2_block3_1_bn[0][0]          \n",
            "__________________________________________________________________________________________________\n",
            "conv2_block3_2_conv (Conv2D)    (None, 64, 64, 32)   36864       conv2_block3_1_relu[0][0]        \n",
            "__________________________________________________________________________________________________\n",
            "conv2_block3_concat (Concatenat (None, 64, 64, 160)  0           conv2_block2_concat[0][0]        \n",
            "                                                                 conv2_block3_2_conv[0][0]        \n",
            "__________________________________________________________________________________________________\n",
            "conv2_block4_0_bn (BatchNormali (None, 64, 64, 160)  640         conv2_block3_concat[0][0]        \n",
            "__________________________________________________________________________________________________\n",
            "conv2_block4_0_relu (Activation (None, 64, 64, 160)  0           conv2_block4_0_bn[0][0]          \n",
            "__________________________________________________________________________________________________\n",
            "conv2_block4_1_conv (Conv2D)    (None, 64, 64, 128)  20480       conv2_block4_0_relu[0][0]        \n",
            "__________________________________________________________________________________________________\n",
            "conv2_block4_1_bn (BatchNormali (None, 64, 64, 128)  512         conv2_block4_1_conv[0][0]        \n",
            "__________________________________________________________________________________________________\n",
            "conv2_block4_1_relu (Activation (None, 64, 64, 128)  0           conv2_block4_1_bn[0][0]          \n",
            "__________________________________________________________________________________________________\n",
            "conv2_block4_2_conv (Conv2D)    (None, 64, 64, 32)   36864       conv2_block4_1_relu[0][0]        \n",
            "__________________________________________________________________________________________________\n",
            "conv2_block4_concat (Concatenat (None, 64, 64, 192)  0           conv2_block3_concat[0][0]        \n",
            "                                                                 conv2_block4_2_conv[0][0]        \n",
            "__________________________________________________________________________________________________\n",
            "conv2_block5_0_bn (BatchNormali (None, 64, 64, 192)  768         conv2_block4_concat[0][0]        \n",
            "__________________________________________________________________________________________________\n",
            "conv2_block5_0_relu (Activation (None, 64, 64, 192)  0           conv2_block5_0_bn[0][0]          \n",
            "__________________________________________________________________________________________________\n",
            "conv2_block5_1_conv (Conv2D)    (None, 64, 64, 128)  24576       conv2_block5_0_relu[0][0]        \n",
            "__________________________________________________________________________________________________\n",
            "conv2_block5_1_bn (BatchNormali (None, 64, 64, 128)  512         conv2_block5_1_conv[0][0]        \n",
            "__________________________________________________________________________________________________\n",
            "conv2_block5_1_relu (Activation (None, 64, 64, 128)  0           conv2_block5_1_bn[0][0]          \n",
            "__________________________________________________________________________________________________\n",
            "conv2_block5_2_conv (Conv2D)    (None, 64, 64, 32)   36864       conv2_block5_1_relu[0][0]        \n",
            "__________________________________________________________________________________________________\n",
            "conv2_block5_concat (Concatenat (None, 64, 64, 224)  0           conv2_block4_concat[0][0]        \n",
            "                                                                 conv2_block5_2_conv[0][0]        \n",
            "__________________________________________________________________________________________________\n",
            "conv2_block6_0_bn (BatchNormali (None, 64, 64, 224)  896         conv2_block5_concat[0][0]        \n",
            "__________________________________________________________________________________________________\n",
            "conv2_block6_0_relu (Activation (None, 64, 64, 224)  0           conv2_block6_0_bn[0][0]          \n",
            "__________________________________________________________________________________________________\n",
            "conv2_block6_1_conv (Conv2D)    (None, 64, 64, 128)  28672       conv2_block6_0_relu[0][0]        \n",
            "__________________________________________________________________________________________________\n",
            "conv2_block6_1_bn (BatchNormali (None, 64, 64, 128)  512         conv2_block6_1_conv[0][0]        \n",
            "__________________________________________________________________________________________________\n",
            "conv2_block6_1_relu (Activation (None, 64, 64, 128)  0           conv2_block6_1_bn[0][0]          \n",
            "__________________________________________________________________________________________________\n",
            "conv2_block6_2_conv (Conv2D)    (None, 64, 64, 32)   36864       conv2_block6_1_relu[0][0]        \n",
            "__________________________________________________________________________________________________\n",
            "conv2_block6_concat (Concatenat (None, 64, 64, 256)  0           conv2_block5_concat[0][0]        \n",
            "                                                                 conv2_block6_2_conv[0][0]        \n",
            "__________________________________________________________________________________________________\n",
            "pool2_bn (BatchNormalization)   (None, 64, 64, 256)  1024        conv2_block6_concat[0][0]        \n",
            "__________________________________________________________________________________________________\n",
            "pool2_relu (Activation)         (None, 64, 64, 256)  0           pool2_bn[0][0]                   \n",
            "__________________________________________________________________________________________________\n",
            "pool2_conv (Conv2D)             (None, 64, 64, 128)  32768       pool2_relu[0][0]                 \n",
            "__________________________________________________________________________________________________\n",
            "pool2_pool (AveragePooling2D)   (None, 32, 32, 128)  0           pool2_conv[0][0]                 \n",
            "__________________________________________________________________________________________________\n",
            "conv3_block1_0_bn (BatchNormali (None, 32, 32, 128)  512         pool2_pool[0][0]                 \n",
            "__________________________________________________________________________________________________\n",
            "conv3_block1_0_relu (Activation (None, 32, 32, 128)  0           conv3_block1_0_bn[0][0]          \n",
            "__________________________________________________________________________________________________\n",
            "conv3_block1_1_conv (Conv2D)    (None, 32, 32, 128)  16384       conv3_block1_0_relu[0][0]        \n",
            "__________________________________________________________________________________________________\n",
            "conv3_block1_1_bn (BatchNormali (None, 32, 32, 128)  512         conv3_block1_1_conv[0][0]        \n",
            "__________________________________________________________________________________________________\n",
            "conv3_block1_1_relu (Activation (None, 32, 32, 128)  0           conv3_block1_1_bn[0][0]          \n",
            "__________________________________________________________________________________________________\n",
            "conv3_block1_2_conv (Conv2D)    (None, 32, 32, 32)   36864       conv3_block1_1_relu[0][0]        \n",
            "__________________________________________________________________________________________________\n",
            "conv3_block1_concat (Concatenat (None, 32, 32, 160)  0           pool2_pool[0][0]                 \n",
            "                                                                 conv3_block1_2_conv[0][0]        \n",
            "__________________________________________________________________________________________________\n",
            "conv3_block2_0_bn (BatchNormali (None, 32, 32, 160)  640         conv3_block1_concat[0][0]        \n",
            "__________________________________________________________________________________________________\n",
            "conv3_block2_0_relu (Activation (None, 32, 32, 160)  0           conv3_block2_0_bn[0][0]          \n",
            "__________________________________________________________________________________________________\n",
            "conv3_block2_1_conv (Conv2D)    (None, 32, 32, 128)  20480       conv3_block2_0_relu[0][0]        \n",
            "__________________________________________________________________________________________________\n",
            "conv3_block2_1_bn (BatchNormali (None, 32, 32, 128)  512         conv3_block2_1_conv[0][0]        \n",
            "__________________________________________________________________________________________________\n",
            "conv3_block2_1_relu (Activation (None, 32, 32, 128)  0           conv3_block2_1_bn[0][0]          \n",
            "__________________________________________________________________________________________________\n",
            "conv3_block2_2_conv (Conv2D)    (None, 32, 32, 32)   36864       conv3_block2_1_relu[0][0]        \n",
            "__________________________________________________________________________________________________\n",
            "conv3_block2_concat (Concatenat (None, 32, 32, 192)  0           conv3_block1_concat[0][0]        \n",
            "                                                                 conv3_block2_2_conv[0][0]        \n",
            "__________________________________________________________________________________________________\n",
            "conv3_block3_0_bn (BatchNormali (None, 32, 32, 192)  768         conv3_block2_concat[0][0]        \n",
            "__________________________________________________________________________________________________\n",
            "conv3_block3_0_relu (Activation (None, 32, 32, 192)  0           conv3_block3_0_bn[0][0]          \n",
            "__________________________________________________________________________________________________\n",
            "conv3_block3_1_conv (Conv2D)    (None, 32, 32, 128)  24576       conv3_block3_0_relu[0][0]        \n",
            "__________________________________________________________________________________________________\n",
            "conv3_block3_1_bn (BatchNormali (None, 32, 32, 128)  512         conv3_block3_1_conv[0][0]        \n",
            "__________________________________________________________________________________________________\n",
            "conv3_block3_1_relu (Activation (None, 32, 32, 128)  0           conv3_block3_1_bn[0][0]          \n",
            "__________________________________________________________________________________________________\n",
            "conv3_block3_2_conv (Conv2D)    (None, 32, 32, 32)   36864       conv3_block3_1_relu[0][0]        \n",
            "__________________________________________________________________________________________________\n",
            "conv3_block3_concat (Concatenat (None, 32, 32, 224)  0           conv3_block2_concat[0][0]        \n",
            "                                                                 conv3_block3_2_conv[0][0]        \n",
            "__________________________________________________________________________________________________\n",
            "conv3_block4_0_bn (BatchNormali (None, 32, 32, 224)  896         conv3_block3_concat[0][0]        \n",
            "__________________________________________________________________________________________________\n",
            "conv3_block4_0_relu (Activation (None, 32, 32, 224)  0           conv3_block4_0_bn[0][0]          \n",
            "__________________________________________________________________________________________________\n",
            "conv3_block4_1_conv (Conv2D)    (None, 32, 32, 128)  28672       conv3_block4_0_relu[0][0]        \n",
            "__________________________________________________________________________________________________\n",
            "conv3_block4_1_bn (BatchNormali (None, 32, 32, 128)  512         conv3_block4_1_conv[0][0]        \n",
            "__________________________________________________________________________________________________\n",
            "conv3_block4_1_relu (Activation (None, 32, 32, 128)  0           conv3_block4_1_bn[0][0]          \n",
            "__________________________________________________________________________________________________\n",
            "conv3_block4_2_conv (Conv2D)    (None, 32, 32, 32)   36864       conv3_block4_1_relu[0][0]        \n",
            "__________________________________________________________________________________________________\n",
            "conv3_block4_concat (Concatenat (None, 32, 32, 256)  0           conv3_block3_concat[0][0]        \n",
            "                                                                 conv3_block4_2_conv[0][0]        \n",
            "__________________________________________________________________________________________________\n",
            "conv3_block5_0_bn (BatchNormali (None, 32, 32, 256)  1024        conv3_block4_concat[0][0]        \n",
            "__________________________________________________________________________________________________\n",
            "conv3_block5_0_relu (Activation (None, 32, 32, 256)  0           conv3_block5_0_bn[0][0]          \n",
            "__________________________________________________________________________________________________\n",
            "conv3_block5_1_conv (Conv2D)    (None, 32, 32, 128)  32768       conv3_block5_0_relu[0][0]        \n",
            "__________________________________________________________________________________________________\n",
            "conv3_block5_1_bn (BatchNormali (None, 32, 32, 128)  512         conv3_block5_1_conv[0][0]        \n",
            "__________________________________________________________________________________________________\n",
            "conv3_block5_1_relu (Activation (None, 32, 32, 128)  0           conv3_block5_1_bn[0][0]          \n",
            "__________________________________________________________________________________________________\n",
            "conv3_block5_2_conv (Conv2D)    (None, 32, 32, 32)   36864       conv3_block5_1_relu[0][0]        \n",
            "__________________________________________________________________________________________________\n",
            "conv3_block5_concat (Concatenat (None, 32, 32, 288)  0           conv3_block4_concat[0][0]        \n",
            "                                                                 conv3_block5_2_conv[0][0]        \n",
            "__________________________________________________________________________________________________\n",
            "conv3_block6_0_bn (BatchNormali (None, 32, 32, 288)  1152        conv3_block5_concat[0][0]        \n",
            "__________________________________________________________________________________________________\n",
            "conv3_block6_0_relu (Activation (None, 32, 32, 288)  0           conv3_block6_0_bn[0][0]          \n",
            "__________________________________________________________________________________________________\n",
            "conv3_block6_1_conv (Conv2D)    (None, 32, 32, 128)  36864       conv3_block6_0_relu[0][0]        \n",
            "__________________________________________________________________________________________________\n",
            "conv3_block6_1_bn (BatchNormali (None, 32, 32, 128)  512         conv3_block6_1_conv[0][0]        \n",
            "__________________________________________________________________________________________________\n",
            "conv3_block6_1_relu (Activation (None, 32, 32, 128)  0           conv3_block6_1_bn[0][0]          \n",
            "__________________________________________________________________________________________________\n",
            "conv3_block6_2_conv (Conv2D)    (None, 32, 32, 32)   36864       conv3_block6_1_relu[0][0]        \n",
            "__________________________________________________________________________________________________\n",
            "conv3_block6_concat (Concatenat (None, 32, 32, 320)  0           conv3_block5_concat[0][0]        \n",
            "                                                                 conv3_block6_2_conv[0][0]        \n",
            "__________________________________________________________________________________________________\n",
            "conv3_block7_0_bn (BatchNormali (None, 32, 32, 320)  1280        conv3_block6_concat[0][0]        \n",
            "__________________________________________________________________________________________________\n",
            "conv3_block7_0_relu (Activation (None, 32, 32, 320)  0           conv3_block7_0_bn[0][0]          \n",
            "__________________________________________________________________________________________________\n",
            "conv3_block7_1_conv (Conv2D)    (None, 32, 32, 128)  40960       conv3_block7_0_relu[0][0]        \n",
            "__________________________________________________________________________________________________\n",
            "conv3_block7_1_bn (BatchNormali (None, 32, 32, 128)  512         conv3_block7_1_conv[0][0]        \n",
            "__________________________________________________________________________________________________\n",
            "conv3_block7_1_relu (Activation (None, 32, 32, 128)  0           conv3_block7_1_bn[0][0]          \n",
            "__________________________________________________________________________________________________\n",
            "conv3_block7_2_conv (Conv2D)    (None, 32, 32, 32)   36864       conv3_block7_1_relu[0][0]        \n",
            "__________________________________________________________________________________________________\n",
            "conv3_block7_concat (Concatenat (None, 32, 32, 352)  0           conv3_block6_concat[0][0]        \n",
            "                                                                 conv3_block7_2_conv[0][0]        \n",
            "__________________________________________________________________________________________________\n",
            "conv3_block8_0_bn (BatchNormali (None, 32, 32, 352)  1408        conv3_block7_concat[0][0]        \n",
            "__________________________________________________________________________________________________\n",
            "conv3_block8_0_relu (Activation (None, 32, 32, 352)  0           conv3_block8_0_bn[0][0]          \n",
            "__________________________________________________________________________________________________\n",
            "conv3_block8_1_conv (Conv2D)    (None, 32, 32, 128)  45056       conv3_block8_0_relu[0][0]        \n",
            "__________________________________________________________________________________________________\n",
            "conv3_block8_1_bn (BatchNormali (None, 32, 32, 128)  512         conv3_block8_1_conv[0][0]        \n",
            "__________________________________________________________________________________________________\n",
            "conv3_block8_1_relu (Activation (None, 32, 32, 128)  0           conv3_block8_1_bn[0][0]          \n",
            "__________________________________________________________________________________________________\n",
            "conv3_block8_2_conv (Conv2D)    (None, 32, 32, 32)   36864       conv3_block8_1_relu[0][0]        \n",
            "__________________________________________________________________________________________________\n",
            "conv3_block8_concat (Concatenat (None, 32, 32, 384)  0           conv3_block7_concat[0][0]        \n",
            "                                                                 conv3_block8_2_conv[0][0]        \n",
            "__________________________________________________________________________________________________\n",
            "conv3_block9_0_bn (BatchNormali (None, 32, 32, 384)  1536        conv3_block8_concat[0][0]        \n",
            "__________________________________________________________________________________________________\n",
            "conv3_block9_0_relu (Activation (None, 32, 32, 384)  0           conv3_block9_0_bn[0][0]          \n",
            "__________________________________________________________________________________________________\n",
            "conv3_block9_1_conv (Conv2D)    (None, 32, 32, 128)  49152       conv3_block9_0_relu[0][0]        \n",
            "__________________________________________________________________________________________________\n",
            "conv3_block9_1_bn (BatchNormali (None, 32, 32, 128)  512         conv3_block9_1_conv[0][0]        \n",
            "__________________________________________________________________________________________________\n",
            "conv3_block9_1_relu (Activation (None, 32, 32, 128)  0           conv3_block9_1_bn[0][0]          \n",
            "__________________________________________________________________________________________________\n",
            "conv3_block9_2_conv (Conv2D)    (None, 32, 32, 32)   36864       conv3_block9_1_relu[0][0]        \n",
            "__________________________________________________________________________________________________\n",
            "conv3_block9_concat (Concatenat (None, 32, 32, 416)  0           conv3_block8_concat[0][0]        \n",
            "                                                                 conv3_block9_2_conv[0][0]        \n",
            "__________________________________________________________________________________________________\n",
            "conv3_block10_0_bn (BatchNormal (None, 32, 32, 416)  1664        conv3_block9_concat[0][0]        \n",
            "__________________________________________________________________________________________________\n",
            "conv3_block10_0_relu (Activatio (None, 32, 32, 416)  0           conv3_block10_0_bn[0][0]         \n",
            "__________________________________________________________________________________________________\n",
            "conv3_block10_1_conv (Conv2D)   (None, 32, 32, 128)  53248       conv3_block10_0_relu[0][0]       \n",
            "__________________________________________________________________________________________________\n",
            "conv3_block10_1_bn (BatchNormal (None, 32, 32, 128)  512         conv3_block10_1_conv[0][0]       \n",
            "__________________________________________________________________________________________________\n",
            "conv3_block10_1_relu (Activatio (None, 32, 32, 128)  0           conv3_block10_1_bn[0][0]         \n",
            "__________________________________________________________________________________________________\n",
            "conv3_block10_2_conv (Conv2D)   (None, 32, 32, 32)   36864       conv3_block10_1_relu[0][0]       \n",
            "__________________________________________________________________________________________________\n",
            "conv3_block10_concat (Concatena (None, 32, 32, 448)  0           conv3_block9_concat[0][0]        \n",
            "                                                                 conv3_block10_2_conv[0][0]       \n",
            "__________________________________________________________________________________________________\n",
            "conv3_block11_0_bn (BatchNormal (None, 32, 32, 448)  1792        conv3_block10_concat[0][0]       \n",
            "__________________________________________________________________________________________________\n",
            "conv3_block11_0_relu (Activatio (None, 32, 32, 448)  0           conv3_block11_0_bn[0][0]         \n",
            "__________________________________________________________________________________________________\n",
            "conv3_block11_1_conv (Conv2D)   (None, 32, 32, 128)  57344       conv3_block11_0_relu[0][0]       \n",
            "__________________________________________________________________________________________________\n",
            "conv3_block11_1_bn (BatchNormal (None, 32, 32, 128)  512         conv3_block11_1_conv[0][0]       \n",
            "__________________________________________________________________________________________________\n",
            "conv3_block11_1_relu (Activatio (None, 32, 32, 128)  0           conv3_block11_1_bn[0][0]         \n",
            "__________________________________________________________________________________________________\n",
            "conv3_block11_2_conv (Conv2D)   (None, 32, 32, 32)   36864       conv3_block11_1_relu[0][0]       \n",
            "__________________________________________________________________________________________________\n",
            "conv3_block11_concat (Concatena (None, 32, 32, 480)  0           conv3_block10_concat[0][0]       \n",
            "                                                                 conv3_block11_2_conv[0][0]       \n",
            "__________________________________________________________________________________________________\n",
            "conv3_block12_0_bn (BatchNormal (None, 32, 32, 480)  1920        conv3_block11_concat[0][0]       \n",
            "__________________________________________________________________________________________________\n",
            "conv3_block12_0_relu (Activatio (None, 32, 32, 480)  0           conv3_block12_0_bn[0][0]         \n",
            "__________________________________________________________________________________________________\n",
            "conv3_block12_1_conv (Conv2D)   (None, 32, 32, 128)  61440       conv3_block12_0_relu[0][0]       \n",
            "__________________________________________________________________________________________________\n",
            "conv3_block12_1_bn (BatchNormal (None, 32, 32, 128)  512         conv3_block12_1_conv[0][0]       \n",
            "__________________________________________________________________________________________________\n",
            "conv3_block12_1_relu (Activatio (None, 32, 32, 128)  0           conv3_block12_1_bn[0][0]         \n",
            "__________________________________________________________________________________________________\n",
            "conv3_block12_2_conv (Conv2D)   (None, 32, 32, 32)   36864       conv3_block12_1_relu[0][0]       \n",
            "__________________________________________________________________________________________________\n",
            "conv3_block12_concat (Concatena (None, 32, 32, 512)  0           conv3_block11_concat[0][0]       \n",
            "                                                                 conv3_block12_2_conv[0][0]       \n",
            "__________________________________________________________________________________________________\n",
            "pool3_bn (BatchNormalization)   (None, 32, 32, 512)  2048        conv3_block12_concat[0][0]       \n",
            "__________________________________________________________________________________________________\n",
            "pool3_relu (Activation)         (None, 32, 32, 512)  0           pool3_bn[0][0]                   \n",
            "__________________________________________________________________________________________________\n",
            "pool3_conv (Conv2D)             (None, 32, 32, 256)  131072      pool3_relu[0][0]                 \n",
            "__________________________________________________________________________________________________\n",
            "pool3_pool (AveragePooling2D)   (None, 16, 16, 256)  0           pool3_conv[0][0]                 \n",
            "__________________________________________________________________________________________________\n",
            "conv4_block1_0_bn (BatchNormali (None, 16, 16, 256)  1024        pool3_pool[0][0]                 \n",
            "__________________________________________________________________________________________________\n",
            "conv4_block1_0_relu (Activation (None, 16, 16, 256)  0           conv4_block1_0_bn[0][0]          \n",
            "__________________________________________________________________________________________________\n",
            "conv4_block1_1_conv (Conv2D)    (None, 16, 16, 128)  32768       conv4_block1_0_relu[0][0]        \n",
            "__________________________________________________________________________________________________\n",
            "conv4_block1_1_bn (BatchNormali (None, 16, 16, 128)  512         conv4_block1_1_conv[0][0]        \n",
            "__________________________________________________________________________________________________\n",
            "conv4_block1_1_relu (Activation (None, 16, 16, 128)  0           conv4_block1_1_bn[0][0]          \n",
            "__________________________________________________________________________________________________\n",
            "conv4_block1_2_conv (Conv2D)    (None, 16, 16, 32)   36864       conv4_block1_1_relu[0][0]        \n",
            "__________________________________________________________________________________________________\n",
            "conv4_block1_concat (Concatenat (None, 16, 16, 288)  0           pool3_pool[0][0]                 \n",
            "                                                                 conv4_block1_2_conv[0][0]        \n",
            "__________________________________________________________________________________________________\n",
            "conv4_block2_0_bn (BatchNormali (None, 16, 16, 288)  1152        conv4_block1_concat[0][0]        \n",
            "__________________________________________________________________________________________________\n",
            "conv4_block2_0_relu (Activation (None, 16, 16, 288)  0           conv4_block2_0_bn[0][0]          \n",
            "__________________________________________________________________________________________________\n",
            "conv4_block2_1_conv (Conv2D)    (None, 16, 16, 128)  36864       conv4_block2_0_relu[0][0]        \n",
            "__________________________________________________________________________________________________\n",
            "conv4_block2_1_bn (BatchNormali (None, 16, 16, 128)  512         conv4_block2_1_conv[0][0]        \n",
            "__________________________________________________________________________________________________\n",
            "conv4_block2_1_relu (Activation (None, 16, 16, 128)  0           conv4_block2_1_bn[0][0]          \n",
            "__________________________________________________________________________________________________\n",
            "conv4_block2_2_conv (Conv2D)    (None, 16, 16, 32)   36864       conv4_block2_1_relu[0][0]        \n",
            "__________________________________________________________________________________________________\n",
            "conv4_block2_concat (Concatenat (None, 16, 16, 320)  0           conv4_block1_concat[0][0]        \n",
            "                                                                 conv4_block2_2_conv[0][0]        \n",
            "__________________________________________________________________________________________________\n",
            "conv4_block3_0_bn (BatchNormali (None, 16, 16, 320)  1280        conv4_block2_concat[0][0]        \n",
            "__________________________________________________________________________________________________\n",
            "conv4_block3_0_relu (Activation (None, 16, 16, 320)  0           conv4_block3_0_bn[0][0]          \n",
            "__________________________________________________________________________________________________\n",
            "conv4_block3_1_conv (Conv2D)    (None, 16, 16, 128)  40960       conv4_block3_0_relu[0][0]        \n",
            "__________________________________________________________________________________________________\n",
            "conv4_block3_1_bn (BatchNormali (None, 16, 16, 128)  512         conv4_block3_1_conv[0][0]        \n",
            "__________________________________________________________________________________________________\n",
            "conv4_block3_1_relu (Activation (None, 16, 16, 128)  0           conv4_block3_1_bn[0][0]          \n",
            "__________________________________________________________________________________________________\n",
            "conv4_block3_2_conv (Conv2D)    (None, 16, 16, 32)   36864       conv4_block3_1_relu[0][0]        \n",
            "__________________________________________________________________________________________________\n",
            "conv4_block3_concat (Concatenat (None, 16, 16, 352)  0           conv4_block2_concat[0][0]        \n",
            "                                                                 conv4_block3_2_conv[0][0]        \n",
            "__________________________________________________________________________________________________\n",
            "conv4_block4_0_bn (BatchNormali (None, 16, 16, 352)  1408        conv4_block3_concat[0][0]        \n",
            "__________________________________________________________________________________________________\n",
            "conv4_block4_0_relu (Activation (None, 16, 16, 352)  0           conv4_block4_0_bn[0][0]          \n",
            "__________________________________________________________________________________________________\n",
            "conv4_block4_1_conv (Conv2D)    (None, 16, 16, 128)  45056       conv4_block4_0_relu[0][0]        \n",
            "__________________________________________________________________________________________________\n",
            "conv4_block4_1_bn (BatchNormali (None, 16, 16, 128)  512         conv4_block4_1_conv[0][0]        \n",
            "__________________________________________________________________________________________________\n",
            "conv4_block4_1_relu (Activation (None, 16, 16, 128)  0           conv4_block4_1_bn[0][0]          \n",
            "__________________________________________________________________________________________________\n",
            "conv4_block4_2_conv (Conv2D)    (None, 16, 16, 32)   36864       conv4_block4_1_relu[0][0]        \n",
            "__________________________________________________________________________________________________\n",
            "conv4_block4_concat (Concatenat (None, 16, 16, 384)  0           conv4_block3_concat[0][0]        \n",
            "                                                                 conv4_block4_2_conv[0][0]        \n",
            "__________________________________________________________________________________________________\n",
            "conv4_block5_0_bn (BatchNormali (None, 16, 16, 384)  1536        conv4_block4_concat[0][0]        \n",
            "__________________________________________________________________________________________________\n",
            "conv4_block5_0_relu (Activation (None, 16, 16, 384)  0           conv4_block5_0_bn[0][0]          \n",
            "__________________________________________________________________________________________________\n",
            "conv4_block5_1_conv (Conv2D)    (None, 16, 16, 128)  49152       conv4_block5_0_relu[0][0]        \n",
            "__________________________________________________________________________________________________\n",
            "conv4_block5_1_bn (BatchNormali (None, 16, 16, 128)  512         conv4_block5_1_conv[0][0]        \n",
            "__________________________________________________________________________________________________\n",
            "conv4_block5_1_relu (Activation (None, 16, 16, 128)  0           conv4_block5_1_bn[0][0]          \n",
            "__________________________________________________________________________________________________\n",
            "conv4_block5_2_conv (Conv2D)    (None, 16, 16, 32)   36864       conv4_block5_1_relu[0][0]        \n",
            "__________________________________________________________________________________________________\n",
            "conv4_block5_concat (Concatenat (None, 16, 16, 416)  0           conv4_block4_concat[0][0]        \n",
            "                                                                 conv4_block5_2_conv[0][0]        \n",
            "__________________________________________________________________________________________________\n",
            "conv4_block6_0_bn (BatchNormali (None, 16, 16, 416)  1664        conv4_block5_concat[0][0]        \n",
            "__________________________________________________________________________________________________\n",
            "conv4_block6_0_relu (Activation (None, 16, 16, 416)  0           conv4_block6_0_bn[0][0]          \n",
            "__________________________________________________________________________________________________\n",
            "conv4_block6_1_conv (Conv2D)    (None, 16, 16, 128)  53248       conv4_block6_0_relu[0][0]        \n",
            "__________________________________________________________________________________________________\n",
            "conv4_block6_1_bn (BatchNormali (None, 16, 16, 128)  512         conv4_block6_1_conv[0][0]        \n",
            "__________________________________________________________________________________________________\n",
            "conv4_block6_1_relu (Activation (None, 16, 16, 128)  0           conv4_block6_1_bn[0][0]          \n",
            "__________________________________________________________________________________________________\n",
            "conv4_block6_2_conv (Conv2D)    (None, 16, 16, 32)   36864       conv4_block6_1_relu[0][0]        \n",
            "__________________________________________________________________________________________________\n",
            "conv4_block6_concat (Concatenat (None, 16, 16, 448)  0           conv4_block5_concat[0][0]        \n",
            "                                                                 conv4_block6_2_conv[0][0]        \n",
            "__________________________________________________________________________________________________\n",
            "conv4_block7_0_bn (BatchNormali (None, 16, 16, 448)  1792        conv4_block6_concat[0][0]        \n",
            "__________________________________________________________________________________________________\n",
            "conv4_block7_0_relu (Activation (None, 16, 16, 448)  0           conv4_block7_0_bn[0][0]          \n",
            "__________________________________________________________________________________________________\n",
            "conv4_block7_1_conv (Conv2D)    (None, 16, 16, 128)  57344       conv4_block7_0_relu[0][0]        \n",
            "__________________________________________________________________________________________________\n",
            "conv4_block7_1_bn (BatchNormali (None, 16, 16, 128)  512         conv4_block7_1_conv[0][0]        \n",
            "__________________________________________________________________________________________________\n",
            "conv4_block7_1_relu (Activation (None, 16, 16, 128)  0           conv4_block7_1_bn[0][0]          \n",
            "__________________________________________________________________________________________________\n",
            "conv4_block7_2_conv (Conv2D)    (None, 16, 16, 32)   36864       conv4_block7_1_relu[0][0]        \n",
            "__________________________________________________________________________________________________\n",
            "conv4_block7_concat (Concatenat (None, 16, 16, 480)  0           conv4_block6_concat[0][0]        \n",
            "                                                                 conv4_block7_2_conv[0][0]        \n",
            "__________________________________________________________________________________________________\n",
            "conv4_block8_0_bn (BatchNormali (None, 16, 16, 480)  1920        conv4_block7_concat[0][0]        \n",
            "__________________________________________________________________________________________________\n",
            "conv4_block8_0_relu (Activation (None, 16, 16, 480)  0           conv4_block8_0_bn[0][0]          \n",
            "__________________________________________________________________________________________________\n",
            "conv4_block8_1_conv (Conv2D)    (None, 16, 16, 128)  61440       conv4_block8_0_relu[0][0]        \n",
            "__________________________________________________________________________________________________\n",
            "conv4_block8_1_bn (BatchNormali (None, 16, 16, 128)  512         conv4_block8_1_conv[0][0]        \n",
            "__________________________________________________________________________________________________\n",
            "conv4_block8_1_relu (Activation (None, 16, 16, 128)  0           conv4_block8_1_bn[0][0]          \n",
            "__________________________________________________________________________________________________\n",
            "conv4_block8_2_conv (Conv2D)    (None, 16, 16, 32)   36864       conv4_block8_1_relu[0][0]        \n",
            "__________________________________________________________________________________________________\n",
            "conv4_block8_concat (Concatenat (None, 16, 16, 512)  0           conv4_block7_concat[0][0]        \n",
            "                                                                 conv4_block8_2_conv[0][0]        \n",
            "__________________________________________________________________________________________________\n",
            "conv4_block9_0_bn (BatchNormali (None, 16, 16, 512)  2048        conv4_block8_concat[0][0]        \n",
            "__________________________________________________________________________________________________\n",
            "conv4_block9_0_relu (Activation (None, 16, 16, 512)  0           conv4_block9_0_bn[0][0]          \n",
            "__________________________________________________________________________________________________\n",
            "conv4_block9_1_conv (Conv2D)    (None, 16, 16, 128)  65536       conv4_block9_0_relu[0][0]        \n",
            "__________________________________________________________________________________________________\n",
            "conv4_block9_1_bn (BatchNormali (None, 16, 16, 128)  512         conv4_block9_1_conv[0][0]        \n",
            "__________________________________________________________________________________________________\n",
            "conv4_block9_1_relu (Activation (None, 16, 16, 128)  0           conv4_block9_1_bn[0][0]          \n",
            "__________________________________________________________________________________________________\n",
            "conv4_block9_2_conv (Conv2D)    (None, 16, 16, 32)   36864       conv4_block9_1_relu[0][0]        \n",
            "__________________________________________________________________________________________________\n",
            "conv4_block9_concat (Concatenat (None, 16, 16, 544)  0           conv4_block8_concat[0][0]        \n",
            "                                                                 conv4_block9_2_conv[0][0]        \n",
            "__________________________________________________________________________________________________\n",
            "conv4_block10_0_bn (BatchNormal (None, 16, 16, 544)  2176        conv4_block9_concat[0][0]        \n",
            "__________________________________________________________________________________________________\n",
            "conv4_block10_0_relu (Activatio (None, 16, 16, 544)  0           conv4_block10_0_bn[0][0]         \n",
            "__________________________________________________________________________________________________\n",
            "conv4_block10_1_conv (Conv2D)   (None, 16, 16, 128)  69632       conv4_block10_0_relu[0][0]       \n",
            "__________________________________________________________________________________________________\n",
            "conv4_block10_1_bn (BatchNormal (None, 16, 16, 128)  512         conv4_block10_1_conv[0][0]       \n",
            "__________________________________________________________________________________________________\n",
            "conv4_block10_1_relu (Activatio (None, 16, 16, 128)  0           conv4_block10_1_bn[0][0]         \n",
            "__________________________________________________________________________________________________\n",
            "conv4_block10_2_conv (Conv2D)   (None, 16, 16, 32)   36864       conv4_block10_1_relu[0][0]       \n",
            "__________________________________________________________________________________________________\n",
            "conv4_block10_concat (Concatena (None, 16, 16, 576)  0           conv4_block9_concat[0][0]        \n",
            "                                                                 conv4_block10_2_conv[0][0]       \n",
            "__________________________________________________________________________________________________\n",
            "conv4_block11_0_bn (BatchNormal (None, 16, 16, 576)  2304        conv4_block10_concat[0][0]       \n",
            "__________________________________________________________________________________________________\n",
            "conv4_block11_0_relu (Activatio (None, 16, 16, 576)  0           conv4_block11_0_bn[0][0]         \n",
            "__________________________________________________________________________________________________\n",
            "conv4_block11_1_conv (Conv2D)   (None, 16, 16, 128)  73728       conv4_block11_0_relu[0][0]       \n",
            "__________________________________________________________________________________________________\n",
            "conv4_block11_1_bn (BatchNormal (None, 16, 16, 128)  512         conv4_block11_1_conv[0][0]       \n",
            "__________________________________________________________________________________________________\n",
            "conv4_block11_1_relu (Activatio (None, 16, 16, 128)  0           conv4_block11_1_bn[0][0]         \n",
            "__________________________________________________________________________________________________\n",
            "conv4_block11_2_conv (Conv2D)   (None, 16, 16, 32)   36864       conv4_block11_1_relu[0][0]       \n",
            "__________________________________________________________________________________________________\n",
            "conv4_block11_concat (Concatena (None, 16, 16, 608)  0           conv4_block10_concat[0][0]       \n",
            "                                                                 conv4_block11_2_conv[0][0]       \n",
            "__________________________________________________________________________________________________\n",
            "conv4_block12_0_bn (BatchNormal (None, 16, 16, 608)  2432        conv4_block11_concat[0][0]       \n",
            "__________________________________________________________________________________________________\n",
            "conv4_block12_0_relu (Activatio (None, 16, 16, 608)  0           conv4_block12_0_bn[0][0]         \n",
            "__________________________________________________________________________________________________\n",
            "conv4_block12_1_conv (Conv2D)   (None, 16, 16, 128)  77824       conv4_block12_0_relu[0][0]       \n",
            "__________________________________________________________________________________________________\n",
            "conv4_block12_1_bn (BatchNormal (None, 16, 16, 128)  512         conv4_block12_1_conv[0][0]       \n",
            "__________________________________________________________________________________________________\n",
            "conv4_block12_1_relu (Activatio (None, 16, 16, 128)  0           conv4_block12_1_bn[0][0]         \n",
            "__________________________________________________________________________________________________\n",
            "conv4_block12_2_conv (Conv2D)   (None, 16, 16, 32)   36864       conv4_block12_1_relu[0][0]       \n",
            "__________________________________________________________________________________________________\n",
            "conv4_block12_concat (Concatena (None, 16, 16, 640)  0           conv4_block11_concat[0][0]       \n",
            "                                                                 conv4_block12_2_conv[0][0]       \n",
            "__________________________________________________________________________________________________\n",
            "conv4_block13_0_bn (BatchNormal (None, 16, 16, 640)  2560        conv4_block12_concat[0][0]       \n",
            "__________________________________________________________________________________________________\n",
            "conv4_block13_0_relu (Activatio (None, 16, 16, 640)  0           conv4_block13_0_bn[0][0]         \n",
            "__________________________________________________________________________________________________\n",
            "conv4_block13_1_conv (Conv2D)   (None, 16, 16, 128)  81920       conv4_block13_0_relu[0][0]       \n",
            "__________________________________________________________________________________________________\n",
            "conv4_block13_1_bn (BatchNormal (None, 16, 16, 128)  512         conv4_block13_1_conv[0][0]       \n",
            "__________________________________________________________________________________________________\n",
            "conv4_block13_1_relu (Activatio (None, 16, 16, 128)  0           conv4_block13_1_bn[0][0]         \n",
            "__________________________________________________________________________________________________\n",
            "conv4_block13_2_conv (Conv2D)   (None, 16, 16, 32)   36864       conv4_block13_1_relu[0][0]       \n",
            "__________________________________________________________________________________________________\n",
            "conv4_block13_concat (Concatena (None, 16, 16, 672)  0           conv4_block12_concat[0][0]       \n",
            "                                                                 conv4_block13_2_conv[0][0]       \n",
            "__________________________________________________________________________________________________\n",
            "conv4_block14_0_bn (BatchNormal (None, 16, 16, 672)  2688        conv4_block13_concat[0][0]       \n",
            "__________________________________________________________________________________________________\n",
            "conv4_block14_0_relu (Activatio (None, 16, 16, 672)  0           conv4_block14_0_bn[0][0]         \n",
            "__________________________________________________________________________________________________\n",
            "conv4_block14_1_conv (Conv2D)   (None, 16, 16, 128)  86016       conv4_block14_0_relu[0][0]       \n",
            "__________________________________________________________________________________________________\n",
            "conv4_block14_1_bn (BatchNormal (None, 16, 16, 128)  512         conv4_block14_1_conv[0][0]       \n",
            "__________________________________________________________________________________________________\n",
            "conv4_block14_1_relu (Activatio (None, 16, 16, 128)  0           conv4_block14_1_bn[0][0]         \n",
            "__________________________________________________________________________________________________\n",
            "conv4_block14_2_conv (Conv2D)   (None, 16, 16, 32)   36864       conv4_block14_1_relu[0][0]       \n",
            "__________________________________________________________________________________________________\n",
            "conv4_block14_concat (Concatena (None, 16, 16, 704)  0           conv4_block13_concat[0][0]       \n",
            "                                                                 conv4_block14_2_conv[0][0]       \n",
            "__________________________________________________________________________________________________\n",
            "conv4_block15_0_bn (BatchNormal (None, 16, 16, 704)  2816        conv4_block14_concat[0][0]       \n",
            "__________________________________________________________________________________________________\n",
            "conv4_block15_0_relu (Activatio (None, 16, 16, 704)  0           conv4_block15_0_bn[0][0]         \n",
            "__________________________________________________________________________________________________\n",
            "conv4_block15_1_conv (Conv2D)   (None, 16, 16, 128)  90112       conv4_block15_0_relu[0][0]       \n",
            "__________________________________________________________________________________________________\n",
            "conv4_block15_1_bn (BatchNormal (None, 16, 16, 128)  512         conv4_block15_1_conv[0][0]       \n",
            "__________________________________________________________________________________________________\n",
            "conv4_block15_1_relu (Activatio (None, 16, 16, 128)  0           conv4_block15_1_bn[0][0]         \n",
            "__________________________________________________________________________________________________\n",
            "conv4_block15_2_conv (Conv2D)   (None, 16, 16, 32)   36864       conv4_block15_1_relu[0][0]       \n",
            "__________________________________________________________________________________________________\n",
            "conv4_block15_concat (Concatena (None, 16, 16, 736)  0           conv4_block14_concat[0][0]       \n",
            "                                                                 conv4_block15_2_conv[0][0]       \n",
            "__________________________________________________________________________________________________\n",
            "conv4_block16_0_bn (BatchNormal (None, 16, 16, 736)  2944        conv4_block15_concat[0][0]       \n",
            "__________________________________________________________________________________________________\n",
            "conv4_block16_0_relu (Activatio (None, 16, 16, 736)  0           conv4_block16_0_bn[0][0]         \n",
            "__________________________________________________________________________________________________\n",
            "conv4_block16_1_conv (Conv2D)   (None, 16, 16, 128)  94208       conv4_block16_0_relu[0][0]       \n",
            "__________________________________________________________________________________________________\n",
            "conv4_block16_1_bn (BatchNormal (None, 16, 16, 128)  512         conv4_block16_1_conv[0][0]       \n",
            "__________________________________________________________________________________________________\n",
            "conv4_block16_1_relu (Activatio (None, 16, 16, 128)  0           conv4_block16_1_bn[0][0]         \n",
            "__________________________________________________________________________________________________\n",
            "conv4_block16_2_conv (Conv2D)   (None, 16, 16, 32)   36864       conv4_block16_1_relu[0][0]       \n",
            "__________________________________________________________________________________________________\n",
            "conv4_block16_concat (Concatena (None, 16, 16, 768)  0           conv4_block15_concat[0][0]       \n",
            "                                                                 conv4_block16_2_conv[0][0]       \n",
            "__________________________________________________________________________________________________\n",
            "conv4_block17_0_bn (BatchNormal (None, 16, 16, 768)  3072        conv4_block16_concat[0][0]       \n",
            "__________________________________________________________________________________________________\n",
            "conv4_block17_0_relu (Activatio (None, 16, 16, 768)  0           conv4_block17_0_bn[0][0]         \n",
            "__________________________________________________________________________________________________\n",
            "conv4_block17_1_conv (Conv2D)   (None, 16, 16, 128)  98304       conv4_block17_0_relu[0][0]       \n",
            "__________________________________________________________________________________________________\n",
            "conv4_block17_1_bn (BatchNormal (None, 16, 16, 128)  512         conv4_block17_1_conv[0][0]       \n",
            "__________________________________________________________________________________________________\n",
            "conv4_block17_1_relu (Activatio (None, 16, 16, 128)  0           conv4_block17_1_bn[0][0]         \n",
            "__________________________________________________________________________________________________\n",
            "conv4_block17_2_conv (Conv2D)   (None, 16, 16, 32)   36864       conv4_block17_1_relu[0][0]       \n",
            "__________________________________________________________________________________________________\n",
            "conv4_block17_concat (Concatena (None, 16, 16, 800)  0           conv4_block16_concat[0][0]       \n",
            "                                                                 conv4_block17_2_conv[0][0]       \n",
            "__________________________________________________________________________________________________\n",
            "conv4_block18_0_bn (BatchNormal (None, 16, 16, 800)  3200        conv4_block17_concat[0][0]       \n",
            "__________________________________________________________________________________________________\n",
            "conv4_block18_0_relu (Activatio (None, 16, 16, 800)  0           conv4_block18_0_bn[0][0]         \n",
            "__________________________________________________________________________________________________\n",
            "conv4_block18_1_conv (Conv2D)   (None, 16, 16, 128)  102400      conv4_block18_0_relu[0][0]       \n",
            "__________________________________________________________________________________________________\n",
            "conv4_block18_1_bn (BatchNormal (None, 16, 16, 128)  512         conv4_block18_1_conv[0][0]       \n",
            "__________________________________________________________________________________________________\n",
            "conv4_block18_1_relu (Activatio (None, 16, 16, 128)  0           conv4_block18_1_bn[0][0]         \n",
            "__________________________________________________________________________________________________\n",
            "conv4_block18_2_conv (Conv2D)   (None, 16, 16, 32)   36864       conv4_block18_1_relu[0][0]       \n",
            "__________________________________________________________________________________________________\n",
            "conv4_block18_concat (Concatena (None, 16, 16, 832)  0           conv4_block17_concat[0][0]       \n",
            "                                                                 conv4_block18_2_conv[0][0]       \n",
            "__________________________________________________________________________________________________\n",
            "conv4_block19_0_bn (BatchNormal (None, 16, 16, 832)  3328        conv4_block18_concat[0][0]       \n",
            "__________________________________________________________________________________________________\n",
            "conv4_block19_0_relu (Activatio (None, 16, 16, 832)  0           conv4_block19_0_bn[0][0]         \n",
            "__________________________________________________________________________________________________\n",
            "conv4_block19_1_conv (Conv2D)   (None, 16, 16, 128)  106496      conv4_block19_0_relu[0][0]       \n",
            "__________________________________________________________________________________________________\n",
            "conv4_block19_1_bn (BatchNormal (None, 16, 16, 128)  512         conv4_block19_1_conv[0][0]       \n",
            "__________________________________________________________________________________________________\n",
            "conv4_block19_1_relu (Activatio (None, 16, 16, 128)  0           conv4_block19_1_bn[0][0]         \n",
            "__________________________________________________________________________________________________\n",
            "conv4_block19_2_conv (Conv2D)   (None, 16, 16, 32)   36864       conv4_block19_1_relu[0][0]       \n",
            "__________________________________________________________________________________________________\n",
            "conv4_block19_concat (Concatena (None, 16, 16, 864)  0           conv4_block18_concat[0][0]       \n",
            "                                                                 conv4_block19_2_conv[0][0]       \n",
            "__________________________________________________________________________________________________\n",
            "conv4_block20_0_bn (BatchNormal (None, 16, 16, 864)  3456        conv4_block19_concat[0][0]       \n",
            "__________________________________________________________________________________________________\n",
            "conv4_block20_0_relu (Activatio (None, 16, 16, 864)  0           conv4_block20_0_bn[0][0]         \n",
            "__________________________________________________________________________________________________\n",
            "conv4_block20_1_conv (Conv2D)   (None, 16, 16, 128)  110592      conv4_block20_0_relu[0][0]       \n",
            "__________________________________________________________________________________________________\n",
            "conv4_block20_1_bn (BatchNormal (None, 16, 16, 128)  512         conv4_block20_1_conv[0][0]       \n",
            "__________________________________________________________________________________________________\n",
            "conv4_block20_1_relu (Activatio (None, 16, 16, 128)  0           conv4_block20_1_bn[0][0]         \n",
            "__________________________________________________________________________________________________\n",
            "conv4_block20_2_conv (Conv2D)   (None, 16, 16, 32)   36864       conv4_block20_1_relu[0][0]       \n",
            "__________________________________________________________________________________________________\n",
            "conv4_block20_concat (Concatena (None, 16, 16, 896)  0           conv4_block19_concat[0][0]       \n",
            "                                                                 conv4_block20_2_conv[0][0]       \n",
            "__________________________________________________________________________________________________\n",
            "conv4_block21_0_bn (BatchNormal (None, 16, 16, 896)  3584        conv4_block20_concat[0][0]       \n",
            "__________________________________________________________________________________________________\n",
            "conv4_block21_0_relu (Activatio (None, 16, 16, 896)  0           conv4_block21_0_bn[0][0]         \n",
            "__________________________________________________________________________________________________\n",
            "conv4_block21_1_conv (Conv2D)   (None, 16, 16, 128)  114688      conv4_block21_0_relu[0][0]       \n",
            "__________________________________________________________________________________________________\n",
            "conv4_block21_1_bn (BatchNormal (None, 16, 16, 128)  512         conv4_block21_1_conv[0][0]       \n",
            "__________________________________________________________________________________________________\n",
            "conv4_block21_1_relu (Activatio (None, 16, 16, 128)  0           conv4_block21_1_bn[0][0]         \n",
            "__________________________________________________________________________________________________\n",
            "conv4_block21_2_conv (Conv2D)   (None, 16, 16, 32)   36864       conv4_block21_1_relu[0][0]       \n",
            "__________________________________________________________________________________________________\n",
            "conv4_block21_concat (Concatena (None, 16, 16, 928)  0           conv4_block20_concat[0][0]       \n",
            "                                                                 conv4_block21_2_conv[0][0]       \n",
            "__________________________________________________________________________________________________\n",
            "conv4_block22_0_bn (BatchNormal (None, 16, 16, 928)  3712        conv4_block21_concat[0][0]       \n",
            "__________________________________________________________________________________________________\n",
            "conv4_block22_0_relu (Activatio (None, 16, 16, 928)  0           conv4_block22_0_bn[0][0]         \n",
            "__________________________________________________________________________________________________\n",
            "conv4_block22_1_conv (Conv2D)   (None, 16, 16, 128)  118784      conv4_block22_0_relu[0][0]       \n",
            "__________________________________________________________________________________________________\n",
            "conv4_block22_1_bn (BatchNormal (None, 16, 16, 128)  512         conv4_block22_1_conv[0][0]       \n",
            "__________________________________________________________________________________________________\n",
            "conv4_block22_1_relu (Activatio (None, 16, 16, 128)  0           conv4_block22_1_bn[0][0]         \n",
            "__________________________________________________________________________________________________\n",
            "conv4_block22_2_conv (Conv2D)   (None, 16, 16, 32)   36864       conv4_block22_1_relu[0][0]       \n",
            "__________________________________________________________________________________________________\n",
            "conv4_block22_concat (Concatena (None, 16, 16, 960)  0           conv4_block21_concat[0][0]       \n",
            "                                                                 conv4_block22_2_conv[0][0]       \n",
            "__________________________________________________________________________________________________\n",
            "conv4_block23_0_bn (BatchNormal (None, 16, 16, 960)  3840        conv4_block22_concat[0][0]       \n",
            "__________________________________________________________________________________________________\n",
            "conv4_block23_0_relu (Activatio (None, 16, 16, 960)  0           conv4_block23_0_bn[0][0]         \n",
            "__________________________________________________________________________________________________\n",
            "conv4_block23_1_conv (Conv2D)   (None, 16, 16, 128)  122880      conv4_block23_0_relu[0][0]       \n",
            "__________________________________________________________________________________________________\n",
            "conv4_block23_1_bn (BatchNormal (None, 16, 16, 128)  512         conv4_block23_1_conv[0][0]       \n",
            "__________________________________________________________________________________________________\n",
            "conv4_block23_1_relu (Activatio (None, 16, 16, 128)  0           conv4_block23_1_bn[0][0]         \n",
            "__________________________________________________________________________________________________\n",
            "conv4_block23_2_conv (Conv2D)   (None, 16, 16, 32)   36864       conv4_block23_1_relu[0][0]       \n",
            "__________________________________________________________________________________________________\n",
            "conv4_block23_concat (Concatena (None, 16, 16, 992)  0           conv4_block22_concat[0][0]       \n",
            "                                                                 conv4_block23_2_conv[0][0]       \n",
            "__________________________________________________________________________________________________\n",
            "conv4_block24_0_bn (BatchNormal (None, 16, 16, 992)  3968        conv4_block23_concat[0][0]       \n",
            "__________________________________________________________________________________________________\n",
            "conv4_block24_0_relu (Activatio (None, 16, 16, 992)  0           conv4_block24_0_bn[0][0]         \n",
            "__________________________________________________________________________________________________\n",
            "conv4_block24_1_conv (Conv2D)   (None, 16, 16, 128)  126976      conv4_block24_0_relu[0][0]       \n",
            "__________________________________________________________________________________________________\n",
            "conv4_block24_1_bn (BatchNormal (None, 16, 16, 128)  512         conv4_block24_1_conv[0][0]       \n",
            "__________________________________________________________________________________________________\n",
            "conv4_block24_1_relu (Activatio (None, 16, 16, 128)  0           conv4_block24_1_bn[0][0]         \n",
            "__________________________________________________________________________________________________\n",
            "conv4_block24_2_conv (Conv2D)   (None, 16, 16, 32)   36864       conv4_block24_1_relu[0][0]       \n",
            "__________________________________________________________________________________________________\n",
            "conv4_block24_concat (Concatena (None, 16, 16, 1024) 0           conv4_block23_concat[0][0]       \n",
            "                                                                 conv4_block24_2_conv[0][0]       \n",
            "__________________________________________________________________________________________________\n",
            "conv4_block25_0_bn (BatchNormal (None, 16, 16, 1024) 4096        conv4_block24_concat[0][0]       \n",
            "__________________________________________________________________________________________________\n",
            "conv4_block25_0_relu (Activatio (None, 16, 16, 1024) 0           conv4_block25_0_bn[0][0]         \n",
            "__________________________________________________________________________________________________\n",
            "conv4_block25_1_conv (Conv2D)   (None, 16, 16, 128)  131072      conv4_block25_0_relu[0][0]       \n",
            "__________________________________________________________________________________________________\n",
            "conv4_block25_1_bn (BatchNormal (None, 16, 16, 128)  512         conv4_block25_1_conv[0][0]       \n",
            "__________________________________________________________________________________________________\n",
            "conv4_block25_1_relu (Activatio (None, 16, 16, 128)  0           conv4_block25_1_bn[0][0]         \n",
            "__________________________________________________________________________________________________\n",
            "conv4_block25_2_conv (Conv2D)   (None, 16, 16, 32)   36864       conv4_block25_1_relu[0][0]       \n",
            "__________________________________________________________________________________________________\n",
            "conv4_block25_concat (Concatena (None, 16, 16, 1056) 0           conv4_block24_concat[0][0]       \n",
            "                                                                 conv4_block25_2_conv[0][0]       \n",
            "__________________________________________________________________________________________________\n",
            "conv4_block26_0_bn (BatchNormal (None, 16, 16, 1056) 4224        conv4_block25_concat[0][0]       \n",
            "__________________________________________________________________________________________________\n",
            "conv4_block26_0_relu (Activatio (None, 16, 16, 1056) 0           conv4_block26_0_bn[0][0]         \n",
            "__________________________________________________________________________________________________\n",
            "conv4_block26_1_conv (Conv2D)   (None, 16, 16, 128)  135168      conv4_block26_0_relu[0][0]       \n",
            "__________________________________________________________________________________________________\n",
            "conv4_block26_1_bn (BatchNormal (None, 16, 16, 128)  512         conv4_block26_1_conv[0][0]       \n",
            "__________________________________________________________________________________________________\n",
            "conv4_block26_1_relu (Activatio (None, 16, 16, 128)  0           conv4_block26_1_bn[0][0]         \n",
            "__________________________________________________________________________________________________\n",
            "conv4_block26_2_conv (Conv2D)   (None, 16, 16, 32)   36864       conv4_block26_1_relu[0][0]       \n",
            "__________________________________________________________________________________________________\n",
            "conv4_block26_concat (Concatena (None, 16, 16, 1088) 0           conv4_block25_concat[0][0]       \n",
            "                                                                 conv4_block26_2_conv[0][0]       \n",
            "__________________________________________________________________________________________________\n",
            "conv4_block27_0_bn (BatchNormal (None, 16, 16, 1088) 4352        conv4_block26_concat[0][0]       \n",
            "__________________________________________________________________________________________________\n",
            "conv4_block27_0_relu (Activatio (None, 16, 16, 1088) 0           conv4_block27_0_bn[0][0]         \n",
            "__________________________________________________________________________________________________\n",
            "conv4_block27_1_conv (Conv2D)   (None, 16, 16, 128)  139264      conv4_block27_0_relu[0][0]       \n",
            "__________________________________________________________________________________________________\n",
            "conv4_block27_1_bn (BatchNormal (None, 16, 16, 128)  512         conv4_block27_1_conv[0][0]       \n",
            "__________________________________________________________________________________________________\n",
            "conv4_block27_1_relu (Activatio (None, 16, 16, 128)  0           conv4_block27_1_bn[0][0]         \n",
            "__________________________________________________________________________________________________\n",
            "conv4_block27_2_conv (Conv2D)   (None, 16, 16, 32)   36864       conv4_block27_1_relu[0][0]       \n",
            "__________________________________________________________________________________________________\n",
            "conv4_block27_concat (Concatena (None, 16, 16, 1120) 0           conv4_block26_concat[0][0]       \n",
            "                                                                 conv4_block27_2_conv[0][0]       \n",
            "__________________________________________________________________________________________________\n",
            "conv4_block28_0_bn (BatchNormal (None, 16, 16, 1120) 4480        conv4_block27_concat[0][0]       \n",
            "__________________________________________________________________________________________________\n",
            "conv4_block28_0_relu (Activatio (None, 16, 16, 1120) 0           conv4_block28_0_bn[0][0]         \n",
            "__________________________________________________________________________________________________\n",
            "conv4_block28_1_conv (Conv2D)   (None, 16, 16, 128)  143360      conv4_block28_0_relu[0][0]       \n",
            "__________________________________________________________________________________________________\n",
            "conv4_block28_1_bn (BatchNormal (None, 16, 16, 128)  512         conv4_block28_1_conv[0][0]       \n",
            "__________________________________________________________________________________________________\n",
            "conv4_block28_1_relu (Activatio (None, 16, 16, 128)  0           conv4_block28_1_bn[0][0]         \n",
            "__________________________________________________________________________________________________\n",
            "conv4_block28_2_conv (Conv2D)   (None, 16, 16, 32)   36864       conv4_block28_1_relu[0][0]       \n",
            "__________________________________________________________________________________________________\n",
            "conv4_block28_concat (Concatena (None, 16, 16, 1152) 0           conv4_block27_concat[0][0]       \n",
            "                                                                 conv4_block28_2_conv[0][0]       \n",
            "__________________________________________________________________________________________________\n",
            "conv4_block29_0_bn (BatchNormal (None, 16, 16, 1152) 4608        conv4_block28_concat[0][0]       \n",
            "__________________________________________________________________________________________________\n",
            "conv4_block29_0_relu (Activatio (None, 16, 16, 1152) 0           conv4_block29_0_bn[0][0]         \n",
            "__________________________________________________________________________________________________\n",
            "conv4_block29_1_conv (Conv2D)   (None, 16, 16, 128)  147456      conv4_block29_0_relu[0][0]       \n",
            "__________________________________________________________________________________________________\n",
            "conv4_block29_1_bn (BatchNormal (None, 16, 16, 128)  512         conv4_block29_1_conv[0][0]       \n",
            "__________________________________________________________________________________________________\n",
            "conv4_block29_1_relu (Activatio (None, 16, 16, 128)  0           conv4_block29_1_bn[0][0]         \n",
            "__________________________________________________________________________________________________\n",
            "conv4_block29_2_conv (Conv2D)   (None, 16, 16, 32)   36864       conv4_block29_1_relu[0][0]       \n",
            "__________________________________________________________________________________________________\n",
            "conv4_block29_concat (Concatena (None, 16, 16, 1184) 0           conv4_block28_concat[0][0]       \n",
            "                                                                 conv4_block29_2_conv[0][0]       \n",
            "__________________________________________________________________________________________________\n",
            "conv4_block30_0_bn (BatchNormal (None, 16, 16, 1184) 4736        conv4_block29_concat[0][0]       \n",
            "__________________________________________________________________________________________________\n",
            "conv4_block30_0_relu (Activatio (None, 16, 16, 1184) 0           conv4_block30_0_bn[0][0]         \n",
            "__________________________________________________________________________________________________\n",
            "conv4_block30_1_conv (Conv2D)   (None, 16, 16, 128)  151552      conv4_block30_0_relu[0][0]       \n",
            "__________________________________________________________________________________________________\n",
            "conv4_block30_1_bn (BatchNormal (None, 16, 16, 128)  512         conv4_block30_1_conv[0][0]       \n",
            "__________________________________________________________________________________________________\n",
            "conv4_block30_1_relu (Activatio (None, 16, 16, 128)  0           conv4_block30_1_bn[0][0]         \n",
            "__________________________________________________________________________________________________\n",
            "conv4_block30_2_conv (Conv2D)   (None, 16, 16, 32)   36864       conv4_block30_1_relu[0][0]       \n",
            "__________________________________________________________________________________________________\n",
            "conv4_block30_concat (Concatena (None, 16, 16, 1216) 0           conv4_block29_concat[0][0]       \n",
            "                                                                 conv4_block30_2_conv[0][0]       \n",
            "__________________________________________________________________________________________________\n",
            "conv4_block31_0_bn (BatchNormal (None, 16, 16, 1216) 4864        conv4_block30_concat[0][0]       \n",
            "__________________________________________________________________________________________________\n",
            "conv4_block31_0_relu (Activatio (None, 16, 16, 1216) 0           conv4_block31_0_bn[0][0]         \n",
            "__________________________________________________________________________________________________\n",
            "conv4_block31_1_conv (Conv2D)   (None, 16, 16, 128)  155648      conv4_block31_0_relu[0][0]       \n",
            "__________________________________________________________________________________________________\n",
            "conv4_block31_1_bn (BatchNormal (None, 16, 16, 128)  512         conv4_block31_1_conv[0][0]       \n",
            "__________________________________________________________________________________________________\n",
            "conv4_block31_1_relu (Activatio (None, 16, 16, 128)  0           conv4_block31_1_bn[0][0]         \n",
            "__________________________________________________________________________________________________\n",
            "conv4_block31_2_conv (Conv2D)   (None, 16, 16, 32)   36864       conv4_block31_1_relu[0][0]       \n",
            "__________________________________________________________________________________________________\n",
            "conv4_block31_concat (Concatena (None, 16, 16, 1248) 0           conv4_block30_concat[0][0]       \n",
            "                                                                 conv4_block31_2_conv[0][0]       \n",
            "__________________________________________________________________________________________________\n",
            "conv4_block32_0_bn (BatchNormal (None, 16, 16, 1248) 4992        conv4_block31_concat[0][0]       \n",
            "__________________________________________________________________________________________________\n",
            "conv4_block32_0_relu (Activatio (None, 16, 16, 1248) 0           conv4_block32_0_bn[0][0]         \n",
            "__________________________________________________________________________________________________\n",
            "conv4_block32_1_conv (Conv2D)   (None, 16, 16, 128)  159744      conv4_block32_0_relu[0][0]       \n",
            "__________________________________________________________________________________________________\n",
            "conv4_block32_1_bn (BatchNormal (None, 16, 16, 128)  512         conv4_block32_1_conv[0][0]       \n",
            "__________________________________________________________________________________________________\n",
            "conv4_block32_1_relu (Activatio (None, 16, 16, 128)  0           conv4_block32_1_bn[0][0]         \n",
            "__________________________________________________________________________________________________\n",
            "conv4_block32_2_conv (Conv2D)   (None, 16, 16, 32)   36864       conv4_block32_1_relu[0][0]       \n",
            "__________________________________________________________________________________________________\n",
            "conv4_block32_concat (Concatena (None, 16, 16, 1280) 0           conv4_block31_concat[0][0]       \n",
            "                                                                 conv4_block32_2_conv[0][0]       \n",
            "__________________________________________________________________________________________________\n",
            "conv4_block33_0_bn (BatchNormal (None, 16, 16, 1280) 5120        conv4_block32_concat[0][0]       \n",
            "__________________________________________________________________________________________________\n",
            "conv4_block33_0_relu (Activatio (None, 16, 16, 1280) 0           conv4_block33_0_bn[0][0]         \n",
            "__________________________________________________________________________________________________\n",
            "conv4_block33_1_conv (Conv2D)   (None, 16, 16, 128)  163840      conv4_block33_0_relu[0][0]       \n",
            "__________________________________________________________________________________________________\n",
            "conv4_block33_1_bn (BatchNormal (None, 16, 16, 128)  512         conv4_block33_1_conv[0][0]       \n",
            "__________________________________________________________________________________________________\n",
            "conv4_block33_1_relu (Activatio (None, 16, 16, 128)  0           conv4_block33_1_bn[0][0]         \n",
            "__________________________________________________________________________________________________\n",
            "conv4_block33_2_conv (Conv2D)   (None, 16, 16, 32)   36864       conv4_block33_1_relu[0][0]       \n",
            "__________________________________________________________________________________________________\n",
            "conv4_block33_concat (Concatena (None, 16, 16, 1312) 0           conv4_block32_concat[0][0]       \n",
            "                                                                 conv4_block33_2_conv[0][0]       \n",
            "__________________________________________________________________________________________________\n",
            "conv4_block34_0_bn (BatchNormal (None, 16, 16, 1312) 5248        conv4_block33_concat[0][0]       \n",
            "__________________________________________________________________________________________________\n",
            "conv4_block34_0_relu (Activatio (None, 16, 16, 1312) 0           conv4_block34_0_bn[0][0]         \n",
            "__________________________________________________________________________________________________\n",
            "conv4_block34_1_conv (Conv2D)   (None, 16, 16, 128)  167936      conv4_block34_0_relu[0][0]       \n",
            "__________________________________________________________________________________________________\n",
            "conv4_block34_1_bn (BatchNormal (None, 16, 16, 128)  512         conv4_block34_1_conv[0][0]       \n",
            "__________________________________________________________________________________________________\n",
            "conv4_block34_1_relu (Activatio (None, 16, 16, 128)  0           conv4_block34_1_bn[0][0]         \n",
            "__________________________________________________________________________________________________\n",
            "conv4_block34_2_conv (Conv2D)   (None, 16, 16, 32)   36864       conv4_block34_1_relu[0][0]       \n",
            "__________________________________________________________________________________________________\n",
            "conv4_block34_concat (Concatena (None, 16, 16, 1344) 0           conv4_block33_concat[0][0]       \n",
            "                                                                 conv4_block34_2_conv[0][0]       \n",
            "__________________________________________________________________________________________________\n",
            "conv4_block35_0_bn (BatchNormal (None, 16, 16, 1344) 5376        conv4_block34_concat[0][0]       \n",
            "__________________________________________________________________________________________________\n",
            "conv4_block35_0_relu (Activatio (None, 16, 16, 1344) 0           conv4_block35_0_bn[0][0]         \n",
            "__________________________________________________________________________________________________\n",
            "conv4_block35_1_conv (Conv2D)   (None, 16, 16, 128)  172032      conv4_block35_0_relu[0][0]       \n",
            "__________________________________________________________________________________________________\n",
            "conv4_block35_1_bn (BatchNormal (None, 16, 16, 128)  512         conv4_block35_1_conv[0][0]       \n",
            "__________________________________________________________________________________________________\n",
            "conv4_block35_1_relu (Activatio (None, 16, 16, 128)  0           conv4_block35_1_bn[0][0]         \n",
            "__________________________________________________________________________________________________\n",
            "conv4_block35_2_conv (Conv2D)   (None, 16, 16, 32)   36864       conv4_block35_1_relu[0][0]       \n",
            "__________________________________________________________________________________________________\n",
            "conv4_block35_concat (Concatena (None, 16, 16, 1376) 0           conv4_block34_concat[0][0]       \n",
            "                                                                 conv4_block35_2_conv[0][0]       \n",
            "__________________________________________________________________________________________________\n",
            "conv4_block36_0_bn (BatchNormal (None, 16, 16, 1376) 5504        conv4_block35_concat[0][0]       \n",
            "__________________________________________________________________________________________________\n",
            "conv4_block36_0_relu (Activatio (None, 16, 16, 1376) 0           conv4_block36_0_bn[0][0]         \n",
            "__________________________________________________________________________________________________\n",
            "conv4_block36_1_conv (Conv2D)   (None, 16, 16, 128)  176128      conv4_block36_0_relu[0][0]       \n",
            "__________________________________________________________________________________________________\n",
            "conv4_block36_1_bn (BatchNormal (None, 16, 16, 128)  512         conv4_block36_1_conv[0][0]       \n",
            "__________________________________________________________________________________________________\n",
            "conv4_block36_1_relu (Activatio (None, 16, 16, 128)  0           conv4_block36_1_bn[0][0]         \n",
            "__________________________________________________________________________________________________\n",
            "conv4_block36_2_conv (Conv2D)   (None, 16, 16, 32)   36864       conv4_block36_1_relu[0][0]       \n",
            "__________________________________________________________________________________________________\n",
            "conv4_block36_concat (Concatena (None, 16, 16, 1408) 0           conv4_block35_concat[0][0]       \n",
            "                                                                 conv4_block36_2_conv[0][0]       \n",
            "__________________________________________________________________________________________________\n",
            "conv4_block37_0_bn (BatchNormal (None, 16, 16, 1408) 5632        conv4_block36_concat[0][0]       \n",
            "__________________________________________________________________________________________________\n",
            "conv4_block37_0_relu (Activatio (None, 16, 16, 1408) 0           conv4_block37_0_bn[0][0]         \n",
            "__________________________________________________________________________________________________\n",
            "conv4_block37_1_conv (Conv2D)   (None, 16, 16, 128)  180224      conv4_block37_0_relu[0][0]       \n",
            "__________________________________________________________________________________________________\n",
            "conv4_block37_1_bn (BatchNormal (None, 16, 16, 128)  512         conv4_block37_1_conv[0][0]       \n",
            "__________________________________________________________________________________________________\n",
            "conv4_block37_1_relu (Activatio (None, 16, 16, 128)  0           conv4_block37_1_bn[0][0]         \n",
            "__________________________________________________________________________________________________\n",
            "conv4_block37_2_conv (Conv2D)   (None, 16, 16, 32)   36864       conv4_block37_1_relu[0][0]       \n",
            "__________________________________________________________________________________________________\n",
            "conv4_block37_concat (Concatena (None, 16, 16, 1440) 0           conv4_block36_concat[0][0]       \n",
            "                                                                 conv4_block37_2_conv[0][0]       \n",
            "__________________________________________________________________________________________________\n",
            "conv4_block38_0_bn (BatchNormal (None, 16, 16, 1440) 5760        conv4_block37_concat[0][0]       \n",
            "__________________________________________________________________________________________________\n",
            "conv4_block38_0_relu (Activatio (None, 16, 16, 1440) 0           conv4_block38_0_bn[0][0]         \n",
            "__________________________________________________________________________________________________\n",
            "conv4_block38_1_conv (Conv2D)   (None, 16, 16, 128)  184320      conv4_block38_0_relu[0][0]       \n",
            "__________________________________________________________________________________________________\n",
            "conv4_block38_1_bn (BatchNormal (None, 16, 16, 128)  512         conv4_block38_1_conv[0][0]       \n",
            "__________________________________________________________________________________________________\n",
            "conv4_block38_1_relu (Activatio (None, 16, 16, 128)  0           conv4_block38_1_bn[0][0]         \n",
            "__________________________________________________________________________________________________\n",
            "conv4_block38_2_conv (Conv2D)   (None, 16, 16, 32)   36864       conv4_block38_1_relu[0][0]       \n",
            "__________________________________________________________________________________________________\n",
            "conv4_block38_concat (Concatena (None, 16, 16, 1472) 0           conv4_block37_concat[0][0]       \n",
            "                                                                 conv4_block38_2_conv[0][0]       \n",
            "__________________________________________________________________________________________________\n",
            "conv4_block39_0_bn (BatchNormal (None, 16, 16, 1472) 5888        conv4_block38_concat[0][0]       \n",
            "__________________________________________________________________________________________________\n",
            "conv4_block39_0_relu (Activatio (None, 16, 16, 1472) 0           conv4_block39_0_bn[0][0]         \n",
            "__________________________________________________________________________________________________\n",
            "conv4_block39_1_conv (Conv2D)   (None, 16, 16, 128)  188416      conv4_block39_0_relu[0][0]       \n",
            "__________________________________________________________________________________________________\n",
            "conv4_block39_1_bn (BatchNormal (None, 16, 16, 128)  512         conv4_block39_1_conv[0][0]       \n",
            "__________________________________________________________________________________________________\n",
            "conv4_block39_1_relu (Activatio (None, 16, 16, 128)  0           conv4_block39_1_bn[0][0]         \n",
            "__________________________________________________________________________________________________\n",
            "conv4_block39_2_conv (Conv2D)   (None, 16, 16, 32)   36864       conv4_block39_1_relu[0][0]       \n",
            "__________________________________________________________________________________________________\n",
            "conv4_block39_concat (Concatena (None, 16, 16, 1504) 0           conv4_block38_concat[0][0]       \n",
            "                                                                 conv4_block39_2_conv[0][0]       \n",
            "__________________________________________________________________________________________________\n",
            "conv4_block40_0_bn (BatchNormal (None, 16, 16, 1504) 6016        conv4_block39_concat[0][0]       \n",
            "__________________________________________________________________________________________________\n",
            "conv4_block40_0_relu (Activatio (None, 16, 16, 1504) 0           conv4_block40_0_bn[0][0]         \n",
            "__________________________________________________________________________________________________\n",
            "conv4_block40_1_conv (Conv2D)   (None, 16, 16, 128)  192512      conv4_block40_0_relu[0][0]       \n",
            "__________________________________________________________________________________________________\n",
            "conv4_block40_1_bn (BatchNormal (None, 16, 16, 128)  512         conv4_block40_1_conv[0][0]       \n",
            "__________________________________________________________________________________________________\n",
            "conv4_block40_1_relu (Activatio (None, 16, 16, 128)  0           conv4_block40_1_bn[0][0]         \n",
            "__________________________________________________________________________________________________\n",
            "conv4_block40_2_conv (Conv2D)   (None, 16, 16, 32)   36864       conv4_block40_1_relu[0][0]       \n",
            "__________________________________________________________________________________________________\n",
            "conv4_block40_concat (Concatena (None, 16, 16, 1536) 0           conv4_block39_concat[0][0]       \n",
            "                                                                 conv4_block40_2_conv[0][0]       \n",
            "__________________________________________________________________________________________________\n",
            "conv4_block41_0_bn (BatchNormal (None, 16, 16, 1536) 6144        conv4_block40_concat[0][0]       \n",
            "__________________________________________________________________________________________________\n",
            "conv4_block41_0_relu (Activatio (None, 16, 16, 1536) 0           conv4_block41_0_bn[0][0]         \n",
            "__________________________________________________________________________________________________\n",
            "conv4_block41_1_conv (Conv2D)   (None, 16, 16, 128)  196608      conv4_block41_0_relu[0][0]       \n",
            "__________________________________________________________________________________________________\n",
            "conv4_block41_1_bn (BatchNormal (None, 16, 16, 128)  512         conv4_block41_1_conv[0][0]       \n",
            "__________________________________________________________________________________________________\n",
            "conv4_block41_1_relu (Activatio (None, 16, 16, 128)  0           conv4_block41_1_bn[0][0]         \n",
            "__________________________________________________________________________________________________\n",
            "conv4_block41_2_conv (Conv2D)   (None, 16, 16, 32)   36864       conv4_block41_1_relu[0][0]       \n",
            "__________________________________________________________________________________________________\n",
            "conv4_block41_concat (Concatena (None, 16, 16, 1568) 0           conv4_block40_concat[0][0]       \n",
            "                                                                 conv4_block41_2_conv[0][0]       \n",
            "__________________________________________________________________________________________________\n",
            "conv4_block42_0_bn (BatchNormal (None, 16, 16, 1568) 6272        conv4_block41_concat[0][0]       \n",
            "__________________________________________________________________________________________________\n",
            "conv4_block42_0_relu (Activatio (None, 16, 16, 1568) 0           conv4_block42_0_bn[0][0]         \n",
            "__________________________________________________________________________________________________\n",
            "conv4_block42_1_conv (Conv2D)   (None, 16, 16, 128)  200704      conv4_block42_0_relu[0][0]       \n",
            "__________________________________________________________________________________________________\n",
            "conv4_block42_1_bn (BatchNormal (None, 16, 16, 128)  512         conv4_block42_1_conv[0][0]       \n",
            "__________________________________________________________________________________________________\n",
            "conv4_block42_1_relu (Activatio (None, 16, 16, 128)  0           conv4_block42_1_bn[0][0]         \n",
            "__________________________________________________________________________________________________\n",
            "conv4_block42_2_conv (Conv2D)   (None, 16, 16, 32)   36864       conv4_block42_1_relu[0][0]       \n",
            "__________________________________________________________________________________________________\n",
            "conv4_block42_concat (Concatena (None, 16, 16, 1600) 0           conv4_block41_concat[0][0]       \n",
            "                                                                 conv4_block42_2_conv[0][0]       \n",
            "__________________________________________________________________________________________________\n",
            "conv4_block43_0_bn (BatchNormal (None, 16, 16, 1600) 6400        conv4_block42_concat[0][0]       \n",
            "__________________________________________________________________________________________________\n",
            "conv4_block43_0_relu (Activatio (None, 16, 16, 1600) 0           conv4_block43_0_bn[0][0]         \n",
            "__________________________________________________________________________________________________\n",
            "conv4_block43_1_conv (Conv2D)   (None, 16, 16, 128)  204800      conv4_block43_0_relu[0][0]       \n",
            "__________________________________________________________________________________________________\n",
            "conv4_block43_1_bn (BatchNormal (None, 16, 16, 128)  512         conv4_block43_1_conv[0][0]       \n",
            "__________________________________________________________________________________________________\n",
            "conv4_block43_1_relu (Activatio (None, 16, 16, 128)  0           conv4_block43_1_bn[0][0]         \n",
            "__________________________________________________________________________________________________\n",
            "conv4_block43_2_conv (Conv2D)   (None, 16, 16, 32)   36864       conv4_block43_1_relu[0][0]       \n",
            "__________________________________________________________________________________________________\n",
            "conv4_block43_concat (Concatena (None, 16, 16, 1632) 0           conv4_block42_concat[0][0]       \n",
            "                                                                 conv4_block43_2_conv[0][0]       \n",
            "__________________________________________________________________________________________________\n",
            "conv4_block44_0_bn (BatchNormal (None, 16, 16, 1632) 6528        conv4_block43_concat[0][0]       \n",
            "__________________________________________________________________________________________________\n",
            "conv4_block44_0_relu (Activatio (None, 16, 16, 1632) 0           conv4_block44_0_bn[0][0]         \n",
            "__________________________________________________________________________________________________\n",
            "conv4_block44_1_conv (Conv2D)   (None, 16, 16, 128)  208896      conv4_block44_0_relu[0][0]       \n",
            "__________________________________________________________________________________________________\n",
            "conv4_block44_1_bn (BatchNormal (None, 16, 16, 128)  512         conv4_block44_1_conv[0][0]       \n",
            "__________________________________________________________________________________________________\n",
            "conv4_block44_1_relu (Activatio (None, 16, 16, 128)  0           conv4_block44_1_bn[0][0]         \n",
            "__________________________________________________________________________________________________\n",
            "conv4_block44_2_conv (Conv2D)   (None, 16, 16, 32)   36864       conv4_block44_1_relu[0][0]       \n",
            "__________________________________________________________________________________________________\n",
            "conv4_block44_concat (Concatena (None, 16, 16, 1664) 0           conv4_block43_concat[0][0]       \n",
            "                                                                 conv4_block44_2_conv[0][0]       \n",
            "__________________________________________________________________________________________________\n",
            "conv4_block45_0_bn (BatchNormal (None, 16, 16, 1664) 6656        conv4_block44_concat[0][0]       \n",
            "__________________________________________________________________________________________________\n",
            "conv4_block45_0_relu (Activatio (None, 16, 16, 1664) 0           conv4_block45_0_bn[0][0]         \n",
            "__________________________________________________________________________________________________\n",
            "conv4_block45_1_conv (Conv2D)   (None, 16, 16, 128)  212992      conv4_block45_0_relu[0][0]       \n",
            "__________________________________________________________________________________________________\n",
            "conv4_block45_1_bn (BatchNormal (None, 16, 16, 128)  512         conv4_block45_1_conv[0][0]       \n",
            "__________________________________________________________________________________________________\n",
            "conv4_block45_1_relu (Activatio (None, 16, 16, 128)  0           conv4_block45_1_bn[0][0]         \n",
            "__________________________________________________________________________________________________\n",
            "conv4_block45_2_conv (Conv2D)   (None, 16, 16, 32)   36864       conv4_block45_1_relu[0][0]       \n",
            "__________________________________________________________________________________________________\n",
            "conv4_block45_concat (Concatena (None, 16, 16, 1696) 0           conv4_block44_concat[0][0]       \n",
            "                                                                 conv4_block45_2_conv[0][0]       \n",
            "__________________________________________________________________________________________________\n",
            "conv4_block46_0_bn (BatchNormal (None, 16, 16, 1696) 6784        conv4_block45_concat[0][0]       \n",
            "__________________________________________________________________________________________________\n",
            "conv4_block46_0_relu (Activatio (None, 16, 16, 1696) 0           conv4_block46_0_bn[0][0]         \n",
            "__________________________________________________________________________________________________\n",
            "conv4_block46_1_conv (Conv2D)   (None, 16, 16, 128)  217088      conv4_block46_0_relu[0][0]       \n",
            "__________________________________________________________________________________________________\n",
            "conv4_block46_1_bn (BatchNormal (None, 16, 16, 128)  512         conv4_block46_1_conv[0][0]       \n",
            "__________________________________________________________________________________________________\n",
            "conv4_block46_1_relu (Activatio (None, 16, 16, 128)  0           conv4_block46_1_bn[0][0]         \n",
            "__________________________________________________________________________________________________\n",
            "conv4_block46_2_conv (Conv2D)   (None, 16, 16, 32)   36864       conv4_block46_1_relu[0][0]       \n",
            "__________________________________________________________________________________________________\n",
            "conv4_block46_concat (Concatena (None, 16, 16, 1728) 0           conv4_block45_concat[0][0]       \n",
            "                                                                 conv4_block46_2_conv[0][0]       \n",
            "__________________________________________________________________________________________________\n",
            "conv4_block47_0_bn (BatchNormal (None, 16, 16, 1728) 6912        conv4_block46_concat[0][0]       \n",
            "__________________________________________________________________________________________________\n",
            "conv4_block47_0_relu (Activatio (None, 16, 16, 1728) 0           conv4_block47_0_bn[0][0]         \n",
            "__________________________________________________________________________________________________\n",
            "conv4_block47_1_conv (Conv2D)   (None, 16, 16, 128)  221184      conv4_block47_0_relu[0][0]       \n",
            "__________________________________________________________________________________________________\n",
            "conv4_block47_1_bn (BatchNormal (None, 16, 16, 128)  512         conv4_block47_1_conv[0][0]       \n",
            "__________________________________________________________________________________________________\n",
            "conv4_block47_1_relu (Activatio (None, 16, 16, 128)  0           conv4_block47_1_bn[0][0]         \n",
            "__________________________________________________________________________________________________\n",
            "conv4_block47_2_conv (Conv2D)   (None, 16, 16, 32)   36864       conv4_block47_1_relu[0][0]       \n",
            "__________________________________________________________________________________________________\n",
            "conv4_block47_concat (Concatena (None, 16, 16, 1760) 0           conv4_block46_concat[0][0]       \n",
            "                                                                 conv4_block47_2_conv[0][0]       \n",
            "__________________________________________________________________________________________________\n",
            "conv4_block48_0_bn (BatchNormal (None, 16, 16, 1760) 7040        conv4_block47_concat[0][0]       \n",
            "__________________________________________________________________________________________________\n",
            "conv4_block48_0_relu (Activatio (None, 16, 16, 1760) 0           conv4_block48_0_bn[0][0]         \n",
            "__________________________________________________________________________________________________\n",
            "conv4_block48_1_conv (Conv2D)   (None, 16, 16, 128)  225280      conv4_block48_0_relu[0][0]       \n",
            "__________________________________________________________________________________________________\n",
            "conv4_block48_1_bn (BatchNormal (None, 16, 16, 128)  512         conv4_block48_1_conv[0][0]       \n",
            "__________________________________________________________________________________________________\n",
            "conv4_block48_1_relu (Activatio (None, 16, 16, 128)  0           conv4_block48_1_bn[0][0]         \n",
            "__________________________________________________________________________________________________\n",
            "conv4_block48_2_conv (Conv2D)   (None, 16, 16, 32)   36864       conv4_block48_1_relu[0][0]       \n",
            "__________________________________________________________________________________________________\n",
            "conv4_block48_concat (Concatena (None, 16, 16, 1792) 0           conv4_block47_concat[0][0]       \n",
            "                                                                 conv4_block48_2_conv[0][0]       \n",
            "__________________________________________________________________________________________________\n",
            "pool4_bn (BatchNormalization)   (None, 16, 16, 1792) 7168        conv4_block48_concat[0][0]       \n",
            "__________________________________________________________________________________________________\n",
            "pool4_relu (Activation)         (None, 16, 16, 1792) 0           pool4_bn[0][0]                   \n",
            "__________________________________________________________________________________________________\n",
            "pool4_conv (Conv2D)             (None, 16, 16, 896)  1605632     pool4_relu[0][0]                 \n",
            "__________________________________________________________________________________________________\n",
            "pool4_pool (AveragePooling2D)   (None, 8, 8, 896)    0           pool4_conv[0][0]                 \n",
            "__________________________________________________________________________________________________\n",
            "conv5_block1_0_bn (BatchNormali (None, 8, 8, 896)    3584        pool4_pool[0][0]                 \n",
            "__________________________________________________________________________________________________\n",
            "conv5_block1_0_relu (Activation (None, 8, 8, 896)    0           conv5_block1_0_bn[0][0]          \n",
            "__________________________________________________________________________________________________\n",
            "conv5_block1_1_conv (Conv2D)    (None, 8, 8, 128)    114688      conv5_block1_0_relu[0][0]        \n",
            "__________________________________________________________________________________________________\n",
            "conv5_block1_1_bn (BatchNormali (None, 8, 8, 128)    512         conv5_block1_1_conv[0][0]        \n",
            "__________________________________________________________________________________________________\n",
            "conv5_block1_1_relu (Activation (None, 8, 8, 128)    0           conv5_block1_1_bn[0][0]          \n",
            "__________________________________________________________________________________________________\n",
            "conv5_block1_2_conv (Conv2D)    (None, 8, 8, 32)     36864       conv5_block1_1_relu[0][0]        \n",
            "__________________________________________________________________________________________________\n",
            "conv5_block1_concat (Concatenat (None, 8, 8, 928)    0           pool4_pool[0][0]                 \n",
            "                                                                 conv5_block1_2_conv[0][0]        \n",
            "__________________________________________________________________________________________________\n",
            "conv5_block2_0_bn (BatchNormali (None, 8, 8, 928)    3712        conv5_block1_concat[0][0]        \n",
            "__________________________________________________________________________________________________\n",
            "conv5_block2_0_relu (Activation (None, 8, 8, 928)    0           conv5_block2_0_bn[0][0]          \n",
            "__________________________________________________________________________________________________\n",
            "conv5_block2_1_conv (Conv2D)    (None, 8, 8, 128)    118784      conv5_block2_0_relu[0][0]        \n",
            "__________________________________________________________________________________________________\n",
            "conv5_block2_1_bn (BatchNormali (None, 8, 8, 128)    512         conv5_block2_1_conv[0][0]        \n",
            "__________________________________________________________________________________________________\n",
            "conv5_block2_1_relu (Activation (None, 8, 8, 128)    0           conv5_block2_1_bn[0][0]          \n",
            "__________________________________________________________________________________________________\n",
            "conv5_block2_2_conv (Conv2D)    (None, 8, 8, 32)     36864       conv5_block2_1_relu[0][0]        \n",
            "__________________________________________________________________________________________________\n",
            "conv5_block2_concat (Concatenat (None, 8, 8, 960)    0           conv5_block1_concat[0][0]        \n",
            "                                                                 conv5_block2_2_conv[0][0]        \n",
            "__________________________________________________________________________________________________\n",
            "conv5_block3_0_bn (BatchNormali (None, 8, 8, 960)    3840        conv5_block2_concat[0][0]        \n",
            "__________________________________________________________________________________________________\n",
            "conv5_block3_0_relu (Activation (None, 8, 8, 960)    0           conv5_block3_0_bn[0][0]          \n",
            "__________________________________________________________________________________________________\n",
            "conv5_block3_1_conv (Conv2D)    (None, 8, 8, 128)    122880      conv5_block3_0_relu[0][0]        \n",
            "__________________________________________________________________________________________________\n",
            "conv5_block3_1_bn (BatchNormali (None, 8, 8, 128)    512         conv5_block3_1_conv[0][0]        \n",
            "__________________________________________________________________________________________________\n",
            "conv5_block3_1_relu (Activation (None, 8, 8, 128)    0           conv5_block3_1_bn[0][0]          \n",
            "__________________________________________________________________________________________________\n",
            "conv5_block3_2_conv (Conv2D)    (None, 8, 8, 32)     36864       conv5_block3_1_relu[0][0]        \n",
            "__________________________________________________________________________________________________\n",
            "conv5_block3_concat (Concatenat (None, 8, 8, 992)    0           conv5_block2_concat[0][0]        \n",
            "                                                                 conv5_block3_2_conv[0][0]        \n",
            "__________________________________________________________________________________________________\n",
            "conv5_block4_0_bn (BatchNormali (None, 8, 8, 992)    3968        conv5_block3_concat[0][0]        \n",
            "__________________________________________________________________________________________________\n",
            "conv5_block4_0_relu (Activation (None, 8, 8, 992)    0           conv5_block4_0_bn[0][0]          \n",
            "__________________________________________________________________________________________________\n",
            "conv5_block4_1_conv (Conv2D)    (None, 8, 8, 128)    126976      conv5_block4_0_relu[0][0]        \n",
            "__________________________________________________________________________________________________\n",
            "conv5_block4_1_bn (BatchNormali (None, 8, 8, 128)    512         conv5_block4_1_conv[0][0]        \n",
            "__________________________________________________________________________________________________\n",
            "conv5_block4_1_relu (Activation (None, 8, 8, 128)    0           conv5_block4_1_bn[0][0]          \n",
            "__________________________________________________________________________________________________\n",
            "conv5_block4_2_conv (Conv2D)    (None, 8, 8, 32)     36864       conv5_block4_1_relu[0][0]        \n",
            "__________________________________________________________________________________________________\n",
            "conv5_block4_concat (Concatenat (None, 8, 8, 1024)   0           conv5_block3_concat[0][0]        \n",
            "                                                                 conv5_block4_2_conv[0][0]        \n",
            "__________________________________________________________________________________________________\n",
            "conv5_block5_0_bn (BatchNormali (None, 8, 8, 1024)   4096        conv5_block4_concat[0][0]        \n",
            "__________________________________________________________________________________________________\n",
            "conv5_block5_0_relu (Activation (None, 8, 8, 1024)   0           conv5_block5_0_bn[0][0]          \n",
            "__________________________________________________________________________________________________\n",
            "conv5_block5_1_conv (Conv2D)    (None, 8, 8, 128)    131072      conv5_block5_0_relu[0][0]        \n",
            "__________________________________________________________________________________________________\n",
            "conv5_block5_1_bn (BatchNormali (None, 8, 8, 128)    512         conv5_block5_1_conv[0][0]        \n",
            "__________________________________________________________________________________________________\n",
            "conv5_block5_1_relu (Activation (None, 8, 8, 128)    0           conv5_block5_1_bn[0][0]          \n",
            "__________________________________________________________________________________________________\n",
            "conv5_block5_2_conv (Conv2D)    (None, 8, 8, 32)     36864       conv5_block5_1_relu[0][0]        \n",
            "__________________________________________________________________________________________________\n",
            "conv5_block5_concat (Concatenat (None, 8, 8, 1056)   0           conv5_block4_concat[0][0]        \n",
            "                                                                 conv5_block5_2_conv[0][0]        \n",
            "__________________________________________________________________________________________________\n",
            "conv5_block6_0_bn (BatchNormali (None, 8, 8, 1056)   4224        conv5_block5_concat[0][0]        \n",
            "__________________________________________________________________________________________________\n",
            "conv5_block6_0_relu (Activation (None, 8, 8, 1056)   0           conv5_block6_0_bn[0][0]          \n",
            "__________________________________________________________________________________________________\n",
            "conv5_block6_1_conv (Conv2D)    (None, 8, 8, 128)    135168      conv5_block6_0_relu[0][0]        \n",
            "__________________________________________________________________________________________________\n",
            "conv5_block6_1_bn (BatchNormali (None, 8, 8, 128)    512         conv5_block6_1_conv[0][0]        \n",
            "__________________________________________________________________________________________________\n",
            "conv5_block6_1_relu (Activation (None, 8, 8, 128)    0           conv5_block6_1_bn[0][0]          \n",
            "__________________________________________________________________________________________________\n",
            "conv5_block6_2_conv (Conv2D)    (None, 8, 8, 32)     36864       conv5_block6_1_relu[0][0]        \n",
            "__________________________________________________________________________________________________\n",
            "conv5_block6_concat (Concatenat (None, 8, 8, 1088)   0           conv5_block5_concat[0][0]        \n",
            "                                                                 conv5_block6_2_conv[0][0]        \n",
            "__________________________________________________________________________________________________\n",
            "conv5_block7_0_bn (BatchNormali (None, 8, 8, 1088)   4352        conv5_block6_concat[0][0]        \n",
            "__________________________________________________________________________________________________\n",
            "conv5_block7_0_relu (Activation (None, 8, 8, 1088)   0           conv5_block7_0_bn[0][0]          \n",
            "__________________________________________________________________________________________________\n",
            "conv5_block7_1_conv (Conv2D)    (None, 8, 8, 128)    139264      conv5_block7_0_relu[0][0]        \n",
            "__________________________________________________________________________________________________\n",
            "conv5_block7_1_bn (BatchNormali (None, 8, 8, 128)    512         conv5_block7_1_conv[0][0]        \n",
            "__________________________________________________________________________________________________\n",
            "conv5_block7_1_relu (Activation (None, 8, 8, 128)    0           conv5_block7_1_bn[0][0]          \n",
            "__________________________________________________________________________________________________\n",
            "conv5_block7_2_conv (Conv2D)    (None, 8, 8, 32)     36864       conv5_block7_1_relu[0][0]        \n",
            "__________________________________________________________________________________________________\n",
            "conv5_block7_concat (Concatenat (None, 8, 8, 1120)   0           conv5_block6_concat[0][0]        \n",
            "                                                                 conv5_block7_2_conv[0][0]        \n",
            "__________________________________________________________________________________________________\n",
            "conv5_block8_0_bn (BatchNormali (None, 8, 8, 1120)   4480        conv5_block7_concat[0][0]        \n",
            "__________________________________________________________________________________________________\n",
            "conv5_block8_0_relu (Activation (None, 8, 8, 1120)   0           conv5_block8_0_bn[0][0]          \n",
            "__________________________________________________________________________________________________\n",
            "conv5_block8_1_conv (Conv2D)    (None, 8, 8, 128)    143360      conv5_block8_0_relu[0][0]        \n",
            "__________________________________________________________________________________________________\n",
            "conv5_block8_1_bn (BatchNormali (None, 8, 8, 128)    512         conv5_block8_1_conv[0][0]        \n",
            "__________________________________________________________________________________________________\n",
            "conv5_block8_1_relu (Activation (None, 8, 8, 128)    0           conv5_block8_1_bn[0][0]          \n",
            "__________________________________________________________________________________________________\n",
            "conv5_block8_2_conv (Conv2D)    (None, 8, 8, 32)     36864       conv5_block8_1_relu[0][0]        \n",
            "__________________________________________________________________________________________________\n",
            "conv5_block8_concat (Concatenat (None, 8, 8, 1152)   0           conv5_block7_concat[0][0]        \n",
            "                                                                 conv5_block8_2_conv[0][0]        \n",
            "__________________________________________________________________________________________________\n",
            "conv5_block9_0_bn (BatchNormali (None, 8, 8, 1152)   4608        conv5_block8_concat[0][0]        \n",
            "__________________________________________________________________________________________________\n",
            "conv5_block9_0_relu (Activation (None, 8, 8, 1152)   0           conv5_block9_0_bn[0][0]          \n",
            "__________________________________________________________________________________________________\n",
            "conv5_block9_1_conv (Conv2D)    (None, 8, 8, 128)    147456      conv5_block9_0_relu[0][0]        \n",
            "__________________________________________________________________________________________________\n",
            "conv5_block9_1_bn (BatchNormali (None, 8, 8, 128)    512         conv5_block9_1_conv[0][0]        \n",
            "__________________________________________________________________________________________________\n",
            "conv5_block9_1_relu (Activation (None, 8, 8, 128)    0           conv5_block9_1_bn[0][0]          \n",
            "__________________________________________________________________________________________________\n",
            "conv5_block9_2_conv (Conv2D)    (None, 8, 8, 32)     36864       conv5_block9_1_relu[0][0]        \n",
            "__________________________________________________________________________________________________\n",
            "conv5_block9_concat (Concatenat (None, 8, 8, 1184)   0           conv5_block8_concat[0][0]        \n",
            "                                                                 conv5_block9_2_conv[0][0]        \n",
            "__________________________________________________________________________________________________\n",
            "conv5_block10_0_bn (BatchNormal (None, 8, 8, 1184)   4736        conv5_block9_concat[0][0]        \n",
            "__________________________________________________________________________________________________\n",
            "conv5_block10_0_relu (Activatio (None, 8, 8, 1184)   0           conv5_block10_0_bn[0][0]         \n",
            "__________________________________________________________________________________________________\n",
            "conv5_block10_1_conv (Conv2D)   (None, 8, 8, 128)    151552      conv5_block10_0_relu[0][0]       \n",
            "__________________________________________________________________________________________________\n",
            "conv5_block10_1_bn (BatchNormal (None, 8, 8, 128)    512         conv5_block10_1_conv[0][0]       \n",
            "__________________________________________________________________________________________________\n",
            "conv5_block10_1_relu (Activatio (None, 8, 8, 128)    0           conv5_block10_1_bn[0][0]         \n",
            "__________________________________________________________________________________________________\n",
            "conv5_block10_2_conv (Conv2D)   (None, 8, 8, 32)     36864       conv5_block10_1_relu[0][0]       \n",
            "__________________________________________________________________________________________________\n",
            "conv5_block10_concat (Concatena (None, 8, 8, 1216)   0           conv5_block9_concat[0][0]        \n",
            "                                                                 conv5_block10_2_conv[0][0]       \n",
            "__________________________________________________________________________________________________\n",
            "conv5_block11_0_bn (BatchNormal (None, 8, 8, 1216)   4864        conv5_block10_concat[0][0]       \n",
            "__________________________________________________________________________________________________\n",
            "conv5_block11_0_relu (Activatio (None, 8, 8, 1216)   0           conv5_block11_0_bn[0][0]         \n",
            "__________________________________________________________________________________________________\n",
            "conv5_block11_1_conv (Conv2D)   (None, 8, 8, 128)    155648      conv5_block11_0_relu[0][0]       \n",
            "__________________________________________________________________________________________________\n",
            "conv5_block11_1_bn (BatchNormal (None, 8, 8, 128)    512         conv5_block11_1_conv[0][0]       \n",
            "__________________________________________________________________________________________________\n",
            "conv5_block11_1_relu (Activatio (None, 8, 8, 128)    0           conv5_block11_1_bn[0][0]         \n",
            "__________________________________________________________________________________________________\n",
            "conv5_block11_2_conv (Conv2D)   (None, 8, 8, 32)     36864       conv5_block11_1_relu[0][0]       \n",
            "__________________________________________________________________________________________________\n",
            "conv5_block11_concat (Concatena (None, 8, 8, 1248)   0           conv5_block10_concat[0][0]       \n",
            "                                                                 conv5_block11_2_conv[0][0]       \n",
            "__________________________________________________________________________________________________\n",
            "conv5_block12_0_bn (BatchNormal (None, 8, 8, 1248)   4992        conv5_block11_concat[0][0]       \n",
            "__________________________________________________________________________________________________\n",
            "conv5_block12_0_relu (Activatio (None, 8, 8, 1248)   0           conv5_block12_0_bn[0][0]         \n",
            "__________________________________________________________________________________________________\n",
            "conv5_block12_1_conv (Conv2D)   (None, 8, 8, 128)    159744      conv5_block12_0_relu[0][0]       \n",
            "__________________________________________________________________________________________________\n",
            "conv5_block12_1_bn (BatchNormal (None, 8, 8, 128)    512         conv5_block12_1_conv[0][0]       \n",
            "__________________________________________________________________________________________________\n",
            "conv5_block12_1_relu (Activatio (None, 8, 8, 128)    0           conv5_block12_1_bn[0][0]         \n",
            "__________________________________________________________________________________________________\n",
            "conv5_block12_2_conv (Conv2D)   (None, 8, 8, 32)     36864       conv5_block12_1_relu[0][0]       \n",
            "__________________________________________________________________________________________________\n",
            "conv5_block12_concat (Concatena (None, 8, 8, 1280)   0           conv5_block11_concat[0][0]       \n",
            "                                                                 conv5_block12_2_conv[0][0]       \n",
            "__________________________________________________________________________________________________\n",
            "conv5_block13_0_bn (BatchNormal (None, 8, 8, 1280)   5120        conv5_block12_concat[0][0]       \n",
            "__________________________________________________________________________________________________\n",
            "conv5_block13_0_relu (Activatio (None, 8, 8, 1280)   0           conv5_block13_0_bn[0][0]         \n",
            "__________________________________________________________________________________________________\n",
            "conv5_block13_1_conv (Conv2D)   (None, 8, 8, 128)    163840      conv5_block13_0_relu[0][0]       \n",
            "__________________________________________________________________________________________________\n",
            "conv5_block13_1_bn (BatchNormal (None, 8, 8, 128)    512         conv5_block13_1_conv[0][0]       \n",
            "__________________________________________________________________________________________________\n",
            "conv5_block13_1_relu (Activatio (None, 8, 8, 128)    0           conv5_block13_1_bn[0][0]         \n",
            "__________________________________________________________________________________________________\n",
            "conv5_block13_2_conv (Conv2D)   (None, 8, 8, 32)     36864       conv5_block13_1_relu[0][0]       \n",
            "__________________________________________________________________________________________________\n",
            "conv5_block13_concat (Concatena (None, 8, 8, 1312)   0           conv5_block12_concat[0][0]       \n",
            "                                                                 conv5_block13_2_conv[0][0]       \n",
            "__________________________________________________________________________________________________\n",
            "conv5_block14_0_bn (BatchNormal (None, 8, 8, 1312)   5248        conv5_block13_concat[0][0]       \n",
            "__________________________________________________________________________________________________\n",
            "conv5_block14_0_relu (Activatio (None, 8, 8, 1312)   0           conv5_block14_0_bn[0][0]         \n",
            "__________________________________________________________________________________________________\n",
            "conv5_block14_1_conv (Conv2D)   (None, 8, 8, 128)    167936      conv5_block14_0_relu[0][0]       \n",
            "__________________________________________________________________________________________________\n",
            "conv5_block14_1_bn (BatchNormal (None, 8, 8, 128)    512         conv5_block14_1_conv[0][0]       \n",
            "__________________________________________________________________________________________________\n",
            "conv5_block14_1_relu (Activatio (None, 8, 8, 128)    0           conv5_block14_1_bn[0][0]         \n",
            "__________________________________________________________________________________________________\n",
            "conv5_block14_2_conv (Conv2D)   (None, 8, 8, 32)     36864       conv5_block14_1_relu[0][0]       \n",
            "__________________________________________________________________________________________________\n",
            "conv5_block14_concat (Concatena (None, 8, 8, 1344)   0           conv5_block13_concat[0][0]       \n",
            "                                                                 conv5_block14_2_conv[0][0]       \n",
            "__________________________________________________________________________________________________\n",
            "conv5_block15_0_bn (BatchNormal (None, 8, 8, 1344)   5376        conv5_block14_concat[0][0]       \n",
            "__________________________________________________________________________________________________\n",
            "conv5_block15_0_relu (Activatio (None, 8, 8, 1344)   0           conv5_block15_0_bn[0][0]         \n",
            "__________________________________________________________________________________________________\n",
            "conv5_block15_1_conv (Conv2D)   (None, 8, 8, 128)    172032      conv5_block15_0_relu[0][0]       \n",
            "__________________________________________________________________________________________________\n",
            "conv5_block15_1_bn (BatchNormal (None, 8, 8, 128)    512         conv5_block15_1_conv[0][0]       \n",
            "__________________________________________________________________________________________________\n",
            "conv5_block15_1_relu (Activatio (None, 8, 8, 128)    0           conv5_block15_1_bn[0][0]         \n",
            "__________________________________________________________________________________________________\n",
            "conv5_block15_2_conv (Conv2D)   (None, 8, 8, 32)     36864       conv5_block15_1_relu[0][0]       \n",
            "__________________________________________________________________________________________________\n",
            "conv5_block15_concat (Concatena (None, 8, 8, 1376)   0           conv5_block14_concat[0][0]       \n",
            "                                                                 conv5_block15_2_conv[0][0]       \n",
            "__________________________________________________________________________________________________\n",
            "conv5_block16_0_bn (BatchNormal (None, 8, 8, 1376)   5504        conv5_block15_concat[0][0]       \n",
            "__________________________________________________________________________________________________\n",
            "conv5_block16_0_relu (Activatio (None, 8, 8, 1376)   0           conv5_block16_0_bn[0][0]         \n",
            "__________________________________________________________________________________________________\n",
            "conv5_block16_1_conv (Conv2D)   (None, 8, 8, 128)    176128      conv5_block16_0_relu[0][0]       \n",
            "__________________________________________________________________________________________________\n",
            "conv5_block16_1_bn (BatchNormal (None, 8, 8, 128)    512         conv5_block16_1_conv[0][0]       \n",
            "__________________________________________________________________________________________________\n",
            "conv5_block16_1_relu (Activatio (None, 8, 8, 128)    0           conv5_block16_1_bn[0][0]         \n",
            "__________________________________________________________________________________________________\n",
            "conv5_block16_2_conv (Conv2D)   (None, 8, 8, 32)     36864       conv5_block16_1_relu[0][0]       \n",
            "__________________________________________________________________________________________________\n",
            "conv5_block16_concat (Concatena (None, 8, 8, 1408)   0           conv5_block15_concat[0][0]       \n",
            "                                                                 conv5_block16_2_conv[0][0]       \n",
            "__________________________________________________________________________________________________\n",
            "conv5_block17_0_bn (BatchNormal (None, 8, 8, 1408)   5632        conv5_block16_concat[0][0]       \n",
            "__________________________________________________________________________________________________\n",
            "conv5_block17_0_relu (Activatio (None, 8, 8, 1408)   0           conv5_block17_0_bn[0][0]         \n",
            "__________________________________________________________________________________________________\n",
            "conv5_block17_1_conv (Conv2D)   (None, 8, 8, 128)    180224      conv5_block17_0_relu[0][0]       \n",
            "__________________________________________________________________________________________________\n",
            "conv5_block17_1_bn (BatchNormal (None, 8, 8, 128)    512         conv5_block17_1_conv[0][0]       \n",
            "__________________________________________________________________________________________________\n",
            "conv5_block17_1_relu (Activatio (None, 8, 8, 128)    0           conv5_block17_1_bn[0][0]         \n",
            "__________________________________________________________________________________________________\n",
            "conv5_block17_2_conv (Conv2D)   (None, 8, 8, 32)     36864       conv5_block17_1_relu[0][0]       \n",
            "__________________________________________________________________________________________________\n",
            "conv5_block17_concat (Concatena (None, 8, 8, 1440)   0           conv5_block16_concat[0][0]       \n",
            "                                                                 conv5_block17_2_conv[0][0]       \n",
            "__________________________________________________________________________________________________\n",
            "conv5_block18_0_bn (BatchNormal (None, 8, 8, 1440)   5760        conv5_block17_concat[0][0]       \n",
            "__________________________________________________________________________________________________\n",
            "conv5_block18_0_relu (Activatio (None, 8, 8, 1440)   0           conv5_block18_0_bn[0][0]         \n",
            "__________________________________________________________________________________________________\n",
            "conv5_block18_1_conv (Conv2D)   (None, 8, 8, 128)    184320      conv5_block18_0_relu[0][0]       \n",
            "__________________________________________________________________________________________________\n",
            "conv5_block18_1_bn (BatchNormal (None, 8, 8, 128)    512         conv5_block18_1_conv[0][0]       \n",
            "__________________________________________________________________________________________________\n",
            "conv5_block18_1_relu (Activatio (None, 8, 8, 128)    0           conv5_block18_1_bn[0][0]         \n",
            "__________________________________________________________________________________________________\n",
            "conv5_block18_2_conv (Conv2D)   (None, 8, 8, 32)     36864       conv5_block18_1_relu[0][0]       \n",
            "__________________________________________________________________________________________________\n",
            "conv5_block18_concat (Concatena (None, 8, 8, 1472)   0           conv5_block17_concat[0][0]       \n",
            "                                                                 conv5_block18_2_conv[0][0]       \n",
            "__________________________________________________________________________________________________\n",
            "conv5_block19_0_bn (BatchNormal (None, 8, 8, 1472)   5888        conv5_block18_concat[0][0]       \n",
            "__________________________________________________________________________________________________\n",
            "conv5_block19_0_relu (Activatio (None, 8, 8, 1472)   0           conv5_block19_0_bn[0][0]         \n",
            "__________________________________________________________________________________________________\n",
            "conv5_block19_1_conv (Conv2D)   (None, 8, 8, 128)    188416      conv5_block19_0_relu[0][0]       \n",
            "__________________________________________________________________________________________________\n",
            "conv5_block19_1_bn (BatchNormal (None, 8, 8, 128)    512         conv5_block19_1_conv[0][0]       \n",
            "__________________________________________________________________________________________________\n",
            "conv5_block19_1_relu (Activatio (None, 8, 8, 128)    0           conv5_block19_1_bn[0][0]         \n",
            "__________________________________________________________________________________________________\n",
            "conv5_block19_2_conv (Conv2D)   (None, 8, 8, 32)     36864       conv5_block19_1_relu[0][0]       \n",
            "__________________________________________________________________________________________________\n",
            "conv5_block19_concat (Concatena (None, 8, 8, 1504)   0           conv5_block18_concat[0][0]       \n",
            "                                                                 conv5_block19_2_conv[0][0]       \n",
            "__________________________________________________________________________________________________\n",
            "conv5_block20_0_bn (BatchNormal (None, 8, 8, 1504)   6016        conv5_block19_concat[0][0]       \n",
            "__________________________________________________________________________________________________\n",
            "conv5_block20_0_relu (Activatio (None, 8, 8, 1504)   0           conv5_block20_0_bn[0][0]         \n",
            "__________________________________________________________________________________________________\n",
            "conv5_block20_1_conv (Conv2D)   (None, 8, 8, 128)    192512      conv5_block20_0_relu[0][0]       \n",
            "__________________________________________________________________________________________________\n",
            "conv5_block20_1_bn (BatchNormal (None, 8, 8, 128)    512         conv5_block20_1_conv[0][0]       \n",
            "__________________________________________________________________________________________________\n",
            "conv5_block20_1_relu (Activatio (None, 8, 8, 128)    0           conv5_block20_1_bn[0][0]         \n",
            "__________________________________________________________________________________________________\n",
            "conv5_block20_2_conv (Conv2D)   (None, 8, 8, 32)     36864       conv5_block20_1_relu[0][0]       \n",
            "__________________________________________________________________________________________________\n",
            "conv5_block20_concat (Concatena (None, 8, 8, 1536)   0           conv5_block19_concat[0][0]       \n",
            "                                                                 conv5_block20_2_conv[0][0]       \n",
            "__________________________________________________________________________________________________\n",
            "conv5_block21_0_bn (BatchNormal (None, 8, 8, 1536)   6144        conv5_block20_concat[0][0]       \n",
            "__________________________________________________________________________________________________\n",
            "conv5_block21_0_relu (Activatio (None, 8, 8, 1536)   0           conv5_block21_0_bn[0][0]         \n",
            "__________________________________________________________________________________________________\n",
            "conv5_block21_1_conv (Conv2D)   (None, 8, 8, 128)    196608      conv5_block21_0_relu[0][0]       \n",
            "__________________________________________________________________________________________________\n",
            "conv5_block21_1_bn (BatchNormal (None, 8, 8, 128)    512         conv5_block21_1_conv[0][0]       \n",
            "__________________________________________________________________________________________________\n",
            "conv5_block21_1_relu (Activatio (None, 8, 8, 128)    0           conv5_block21_1_bn[0][0]         \n",
            "__________________________________________________________________________________________________\n",
            "conv5_block21_2_conv (Conv2D)   (None, 8, 8, 32)     36864       conv5_block21_1_relu[0][0]       \n",
            "__________________________________________________________________________________________________\n",
            "conv5_block21_concat (Concatena (None, 8, 8, 1568)   0           conv5_block20_concat[0][0]       \n",
            "                                                                 conv5_block21_2_conv[0][0]       \n",
            "__________________________________________________________________________________________________\n",
            "conv5_block22_0_bn (BatchNormal (None, 8, 8, 1568)   6272        conv5_block21_concat[0][0]       \n",
            "__________________________________________________________________________________________________\n",
            "conv5_block22_0_relu (Activatio (None, 8, 8, 1568)   0           conv5_block22_0_bn[0][0]         \n",
            "__________________________________________________________________________________________________\n",
            "conv5_block22_1_conv (Conv2D)   (None, 8, 8, 128)    200704      conv5_block22_0_relu[0][0]       \n",
            "__________________________________________________________________________________________________\n",
            "conv5_block22_1_bn (BatchNormal (None, 8, 8, 128)    512         conv5_block22_1_conv[0][0]       \n",
            "__________________________________________________________________________________________________\n",
            "conv5_block22_1_relu (Activatio (None, 8, 8, 128)    0           conv5_block22_1_bn[0][0]         \n",
            "__________________________________________________________________________________________________\n",
            "conv5_block22_2_conv (Conv2D)   (None, 8, 8, 32)     36864       conv5_block22_1_relu[0][0]       \n",
            "__________________________________________________________________________________________________\n",
            "conv5_block22_concat (Concatena (None, 8, 8, 1600)   0           conv5_block21_concat[0][0]       \n",
            "                                                                 conv5_block22_2_conv[0][0]       \n",
            "__________________________________________________________________________________________________\n",
            "conv5_block23_0_bn (BatchNormal (None, 8, 8, 1600)   6400        conv5_block22_concat[0][0]       \n",
            "__________________________________________________________________________________________________\n",
            "conv5_block23_0_relu (Activatio (None, 8, 8, 1600)   0           conv5_block23_0_bn[0][0]         \n",
            "__________________________________________________________________________________________________\n",
            "conv5_block23_1_conv (Conv2D)   (None, 8, 8, 128)    204800      conv5_block23_0_relu[0][0]       \n",
            "__________________________________________________________________________________________________\n",
            "conv5_block23_1_bn (BatchNormal (None, 8, 8, 128)    512         conv5_block23_1_conv[0][0]       \n",
            "__________________________________________________________________________________________________\n",
            "conv5_block23_1_relu (Activatio (None, 8, 8, 128)    0           conv5_block23_1_bn[0][0]         \n",
            "__________________________________________________________________________________________________\n",
            "conv5_block23_2_conv (Conv2D)   (None, 8, 8, 32)     36864       conv5_block23_1_relu[0][0]       \n",
            "__________________________________________________________________________________________________\n",
            "conv5_block23_concat (Concatena (None, 8, 8, 1632)   0           conv5_block22_concat[0][0]       \n",
            "                                                                 conv5_block23_2_conv[0][0]       \n",
            "__________________________________________________________________________________________________\n",
            "conv5_block24_0_bn (BatchNormal (None, 8, 8, 1632)   6528        conv5_block23_concat[0][0]       \n",
            "__________________________________________________________________________________________________\n",
            "conv5_block24_0_relu (Activatio (None, 8, 8, 1632)   0           conv5_block24_0_bn[0][0]         \n",
            "__________________________________________________________________________________________________\n",
            "conv5_block24_1_conv (Conv2D)   (None, 8, 8, 128)    208896      conv5_block24_0_relu[0][0]       \n",
            "__________________________________________________________________________________________________\n",
            "conv5_block24_1_bn (BatchNormal (None, 8, 8, 128)    512         conv5_block24_1_conv[0][0]       \n",
            "__________________________________________________________________________________________________\n",
            "conv5_block24_1_relu (Activatio (None, 8, 8, 128)    0           conv5_block24_1_bn[0][0]         \n",
            "__________________________________________________________________________________________________\n",
            "conv5_block24_2_conv (Conv2D)   (None, 8, 8, 32)     36864       conv5_block24_1_relu[0][0]       \n",
            "__________________________________________________________________________________________________\n",
            "conv5_block24_concat (Concatena (None, 8, 8, 1664)   0           conv5_block23_concat[0][0]       \n",
            "                                                                 conv5_block24_2_conv[0][0]       \n",
            "__________________________________________________________________________________________________\n",
            "conv5_block25_0_bn (BatchNormal (None, 8, 8, 1664)   6656        conv5_block24_concat[0][0]       \n",
            "__________________________________________________________________________________________________\n",
            "conv5_block25_0_relu (Activatio (None, 8, 8, 1664)   0           conv5_block25_0_bn[0][0]         \n",
            "__________________________________________________________________________________________________\n",
            "conv5_block25_1_conv (Conv2D)   (None, 8, 8, 128)    212992      conv5_block25_0_relu[0][0]       \n",
            "__________________________________________________________________________________________________\n",
            "conv5_block25_1_bn (BatchNormal (None, 8, 8, 128)    512         conv5_block25_1_conv[0][0]       \n",
            "__________________________________________________________________________________________________\n",
            "conv5_block25_1_relu (Activatio (None, 8, 8, 128)    0           conv5_block25_1_bn[0][0]         \n",
            "__________________________________________________________________________________________________\n",
            "conv5_block25_2_conv (Conv2D)   (None, 8, 8, 32)     36864       conv5_block25_1_relu[0][0]       \n",
            "__________________________________________________________________________________________________\n",
            "conv5_block25_concat (Concatena (None, 8, 8, 1696)   0           conv5_block24_concat[0][0]       \n",
            "                                                                 conv5_block25_2_conv[0][0]       \n",
            "__________________________________________________________________________________________________\n",
            "conv5_block26_0_bn (BatchNormal (None, 8, 8, 1696)   6784        conv5_block25_concat[0][0]       \n",
            "__________________________________________________________________________________________________\n",
            "conv5_block26_0_relu (Activatio (None, 8, 8, 1696)   0           conv5_block26_0_bn[0][0]         \n",
            "__________________________________________________________________________________________________\n",
            "conv5_block26_1_conv (Conv2D)   (None, 8, 8, 128)    217088      conv5_block26_0_relu[0][0]       \n",
            "__________________________________________________________________________________________________\n",
            "conv5_block26_1_bn (BatchNormal (None, 8, 8, 128)    512         conv5_block26_1_conv[0][0]       \n",
            "__________________________________________________________________________________________________\n",
            "conv5_block26_1_relu (Activatio (None, 8, 8, 128)    0           conv5_block26_1_bn[0][0]         \n",
            "__________________________________________________________________________________________________\n",
            "conv5_block26_2_conv (Conv2D)   (None, 8, 8, 32)     36864       conv5_block26_1_relu[0][0]       \n",
            "__________________________________________________________________________________________________\n",
            "conv5_block26_concat (Concatena (None, 8, 8, 1728)   0           conv5_block25_concat[0][0]       \n",
            "                                                                 conv5_block26_2_conv[0][0]       \n",
            "__________________________________________________________________________________________________\n",
            "conv5_block27_0_bn (BatchNormal (None, 8, 8, 1728)   6912        conv5_block26_concat[0][0]       \n",
            "__________________________________________________________________________________________________\n",
            "conv5_block27_0_relu (Activatio (None, 8, 8, 1728)   0           conv5_block27_0_bn[0][0]         \n",
            "__________________________________________________________________________________________________\n",
            "conv5_block27_1_conv (Conv2D)   (None, 8, 8, 128)    221184      conv5_block27_0_relu[0][0]       \n",
            "__________________________________________________________________________________________________\n",
            "conv5_block27_1_bn (BatchNormal (None, 8, 8, 128)    512         conv5_block27_1_conv[0][0]       \n",
            "__________________________________________________________________________________________________\n",
            "conv5_block27_1_relu (Activatio (None, 8, 8, 128)    0           conv5_block27_1_bn[0][0]         \n",
            "__________________________________________________________________________________________________\n",
            "conv5_block27_2_conv (Conv2D)   (None, 8, 8, 32)     36864       conv5_block27_1_relu[0][0]       \n",
            "__________________________________________________________________________________________________\n",
            "conv5_block27_concat (Concatena (None, 8, 8, 1760)   0           conv5_block26_concat[0][0]       \n",
            "                                                                 conv5_block27_2_conv[0][0]       \n",
            "__________________________________________________________________________________________________\n",
            "conv5_block28_0_bn (BatchNormal (None, 8, 8, 1760)   7040        conv5_block27_concat[0][0]       \n",
            "__________________________________________________________________________________________________\n",
            "conv5_block28_0_relu (Activatio (None, 8, 8, 1760)   0           conv5_block28_0_bn[0][0]         \n",
            "__________________________________________________________________________________________________\n",
            "conv5_block28_1_conv (Conv2D)   (None, 8, 8, 128)    225280      conv5_block28_0_relu[0][0]       \n",
            "__________________________________________________________________________________________________\n",
            "conv5_block28_1_bn (BatchNormal (None, 8, 8, 128)    512         conv5_block28_1_conv[0][0]       \n",
            "__________________________________________________________________________________________________\n",
            "conv5_block28_1_relu (Activatio (None, 8, 8, 128)    0           conv5_block28_1_bn[0][0]         \n",
            "__________________________________________________________________________________________________\n",
            "conv5_block28_2_conv (Conv2D)   (None, 8, 8, 32)     36864       conv5_block28_1_relu[0][0]       \n",
            "__________________________________________________________________________________________________\n",
            "conv5_block28_concat (Concatena (None, 8, 8, 1792)   0           conv5_block27_concat[0][0]       \n",
            "                                                                 conv5_block28_2_conv[0][0]       \n",
            "__________________________________________________________________________________________________\n",
            "conv5_block29_0_bn (BatchNormal (None, 8, 8, 1792)   7168        conv5_block28_concat[0][0]       \n",
            "__________________________________________________________________________________________________\n",
            "conv5_block29_0_relu (Activatio (None, 8, 8, 1792)   0           conv5_block29_0_bn[0][0]         \n",
            "__________________________________________________________________________________________________\n",
            "conv5_block29_1_conv (Conv2D)   (None, 8, 8, 128)    229376      conv5_block29_0_relu[0][0]       \n",
            "__________________________________________________________________________________________________\n",
            "conv5_block29_1_bn (BatchNormal (None, 8, 8, 128)    512         conv5_block29_1_conv[0][0]       \n",
            "__________________________________________________________________________________________________\n",
            "conv5_block29_1_relu (Activatio (None, 8, 8, 128)    0           conv5_block29_1_bn[0][0]         \n",
            "__________________________________________________________________________________________________\n",
            "conv5_block29_2_conv (Conv2D)   (None, 8, 8, 32)     36864       conv5_block29_1_relu[0][0]       \n",
            "__________________________________________________________________________________________________\n",
            "conv5_block29_concat (Concatena (None, 8, 8, 1824)   0           conv5_block28_concat[0][0]       \n",
            "                                                                 conv5_block29_2_conv[0][0]       \n",
            "__________________________________________________________________________________________________\n",
            "conv5_block30_0_bn (BatchNormal (None, 8, 8, 1824)   7296        conv5_block29_concat[0][0]       \n",
            "__________________________________________________________________________________________________\n",
            "conv5_block30_0_relu (Activatio (None, 8, 8, 1824)   0           conv5_block30_0_bn[0][0]         \n",
            "__________________________________________________________________________________________________\n",
            "conv5_block30_1_conv (Conv2D)   (None, 8, 8, 128)    233472      conv5_block30_0_relu[0][0]       \n",
            "__________________________________________________________________________________________________\n",
            "conv5_block30_1_bn (BatchNormal (None, 8, 8, 128)    512         conv5_block30_1_conv[0][0]       \n",
            "__________________________________________________________________________________________________\n",
            "conv5_block30_1_relu (Activatio (None, 8, 8, 128)    0           conv5_block30_1_bn[0][0]         \n",
            "__________________________________________________________________________________________________\n",
            "conv5_block30_2_conv (Conv2D)   (None, 8, 8, 32)     36864       conv5_block30_1_relu[0][0]       \n",
            "__________________________________________________________________________________________________\n",
            "conv5_block30_concat (Concatena (None, 8, 8, 1856)   0           conv5_block29_concat[0][0]       \n",
            "                                                                 conv5_block30_2_conv[0][0]       \n",
            "__________________________________________________________________________________________________\n",
            "conv5_block31_0_bn (BatchNormal (None, 8, 8, 1856)   7424        conv5_block30_concat[0][0]       \n",
            "__________________________________________________________________________________________________\n",
            "conv5_block31_0_relu (Activatio (None, 8, 8, 1856)   0           conv5_block31_0_bn[0][0]         \n",
            "__________________________________________________________________________________________________\n",
            "conv5_block31_1_conv (Conv2D)   (None, 8, 8, 128)    237568      conv5_block31_0_relu[0][0]       \n",
            "__________________________________________________________________________________________________\n",
            "conv5_block31_1_bn (BatchNormal (None, 8, 8, 128)    512         conv5_block31_1_conv[0][0]       \n",
            "__________________________________________________________________________________________________\n",
            "conv5_block31_1_relu (Activatio (None, 8, 8, 128)    0           conv5_block31_1_bn[0][0]         \n",
            "__________________________________________________________________________________________________\n",
            "conv5_block31_2_conv (Conv2D)   (None, 8, 8, 32)     36864       conv5_block31_1_relu[0][0]       \n",
            "__________________________________________________________________________________________________\n",
            "conv5_block31_concat (Concatena (None, 8, 8, 1888)   0           conv5_block30_concat[0][0]       \n",
            "                                                                 conv5_block31_2_conv[0][0]       \n",
            "__________________________________________________________________________________________________\n",
            "conv5_block32_0_bn (BatchNormal (None, 8, 8, 1888)   7552        conv5_block31_concat[0][0]       \n",
            "__________________________________________________________________________________________________\n",
            "conv5_block32_0_relu (Activatio (None, 8, 8, 1888)   0           conv5_block32_0_bn[0][0]         \n",
            "__________________________________________________________________________________________________\n",
            "conv5_block32_1_conv (Conv2D)   (None, 8, 8, 128)    241664      conv5_block32_0_relu[0][0]       \n",
            "__________________________________________________________________________________________________\n",
            "conv5_block32_1_bn (BatchNormal (None, 8, 8, 128)    512         conv5_block32_1_conv[0][0]       \n",
            "__________________________________________________________________________________________________\n",
            "conv5_block32_1_relu (Activatio (None, 8, 8, 128)    0           conv5_block32_1_bn[0][0]         \n",
            "__________________________________________________________________________________________________\n",
            "conv5_block32_2_conv (Conv2D)   (None, 8, 8, 32)     36864       conv5_block32_1_relu[0][0]       \n",
            "__________________________________________________________________________________________________\n",
            "conv5_block32_concat (Concatena (None, 8, 8, 1920)   0           conv5_block31_concat[0][0]       \n",
            "                                                                 conv5_block32_2_conv[0][0]       \n",
            "__________________________________________________________________________________________________\n",
            "bn (BatchNormalization)         (None, 8, 8, 1920)   7680        conv5_block32_concat[0][0]       \n",
            "__________________________________________________________________________________________________\n",
            "relu (Activation)               (None, 8, 8, 1920)   0           bn[0][0]                         \n",
            "__________________________________________________________________________________________________\n",
            "flatten (Flatten)               (None, 122880)       0           relu[0][0]                       \n",
            "__________________________________________________________________________________________________\n",
            "dense (Dense)                   (None, 1024)         125830144   flatten[0][0]                    \n",
            "__________________________________________________________________________________________________\n",
            "dropout (Dropout)               (None, 1024)         0           dense[0][0]                      \n",
            "__________________________________________________________________________________________________\n",
            "dense_1 (Dense)                 (None, 1024)         1049600     dropout[0][0]                    \n",
            "__________________________________________________________________________________________________\n",
            "dropout_1 (Dropout)             (None, 1024)         0           dense_1[0][0]                    \n",
            "__________________________________________________________________________________________________\n",
            "dense_2 (Dense)                 (None, 2048)         2099200     dropout_1[0][0]                  \n",
            "__________________________________________________________________________________________________\n",
            "dropout_2 (Dropout)             (None, 2048)         0           dense_2[0][0]                    \n",
            "__________________________________________________________________________________________________\n",
            "dense_3 (Dense)                 (None, 101)          206949      dropout_2[0][0]                  \n",
            "==================================================================================================\n",
            "Total params: 147,507,877\n",
            "Trainable params: 147,278,821\n",
            "Non-trainable params: 229,056\n",
            "__________________________________________________________________________________________________\n"
          ],
          "name": "stdout"
        }
      ]
    },
    {
      "cell_type": "code",
      "metadata": {
        "colab": {
          "base_uri": "https://localhost:8080/",
          "height": 36
        },
        "id": "WgomlDGDqn6-",
        "outputId": "a5d51202-1f68-4dd5-e5f5-f5f0ed465fea"
      },
      "source": [
        "'''\n",
        "tf.keras.utils.plot_model(\n",
        "    model, to_file='model.png', show_shapes=True, show_dtype=False,\n",
        "    show_layer_names=True, rankdir='TB', expand_nested=True, dpi=64\n",
        ")\n",
        "#'''"
      ],
      "execution_count": 18,
      "outputs": [
        {
          "output_type": "execute_result",
          "data": {
            "application/vnd.google.colaboratory.intrinsic+json": {
              "type": "string"
            },
            "text/plain": [
              "\"\\ntf.keras.utils.plot_model(\\n    model, to_file='model.png', show_shapes=True, show_dtype=False,\\n    show_layer_names=True, rankdir='TB', expand_nested=True, dpi=64\\n)\\n#\""
            ]
          },
          "metadata": {
            "tags": []
          },
          "execution_count": 18
        }
      ]
    },
    {
      "cell_type": "code",
      "metadata": {
        "colab": {
          "base_uri": "https://localhost:8080/"
        },
        "id": "ozx7Z-ZiUE-2",
        "outputId": "3a476281-afeb-4c67-afab-e77ab1ae02fc"
      },
      "source": [
        "count_trainable = 0\n",
        "count_non_trainable = 0\n",
        "\n",
        "#'''\n",
        "if pointTrainableAfter == \"allDefault\":\n",
        "    for layer in model.layers:\n",
        "        layer.trainable=True\n",
        "        count_trainable += 1\n",
        "elif pointTrainableAfter > 0:\n",
        "    for layer in model.layers[:pointTrainableAfter]: # [:-pointTrainableAfter]\n",
        "        layer.trainable=False\n",
        "        count_non_trainable += 1\n",
        "    for layer in model.layers[pointTrainableAfter:]: # [-pointTrainableAfter:]\n",
        "        layer.trainable=True\n",
        "        count_trainable += 1\n",
        "#'''\n",
        "\n",
        "'''\n",
        "for layer in model.layers:\n",
        "    layer.trainable=True\n",
        "    count_trainable += 1\n",
        "#'''\n",
        "\n",
        "print(\"count_non_trainable =\", count_non_trainable)\n",
        "print(\"count_trainable =\", count_trainable)\n",
        "print(\"Total number of layers =\", count_non_trainable+count_trainable)"
      ],
      "execution_count": 19,
      "outputs": [
        {
          "output_type": "stream",
          "text": [
            "count_non_trainable = 0\n",
            "count_trainable = 715\n",
            "Total number of layers = 715\n"
          ],
          "name": "stdout"
        }
      ]
    },
    {
      "cell_type": "code",
      "metadata": {
        "colab": {
          "base_uri": "https://localhost:8080/",
          "height": 72
        },
        "id": "aqwYD5TGPxyV",
        "outputId": "d294028a-c05e-42f1-edf6-6afb83bab355"
      },
      "source": [
        "'''\n",
        "checkpointer_name  = \"weights.\"+dataset+\".pad\"+str(pad)+\".\"+impl_type+\".wInit.\"+str(init_weights)+\".TrainableAfter.\"+str(pointTrainableAfter)+\\\n",
        "                     modelExt+\".opt.\"+OPTIMIZER+\".drop.\"+str(DROPOUT)+\".batch\"+str(BATCH_SIZE)+ext+\".hdf5\"\n",
        "log_name = \"log.\"+checkpointer_name[8:-5]+\".log\"\n",
        "\n",
        "print('checkpointer_name =', checkpointer_name)\n",
        "print('log_name =', log_name)\n",
        "#'''"
      ],
      "execution_count": 20,
      "outputs": [
        {
          "output_type": "execute_result",
          "data": {
            "application/vnd.google.colaboratory.intrinsic+json": {
              "type": "string"
            },
            "text/plain": [
              "'\\ncheckpointer_name  = \"weights.\"+dataset+\".pad\"+str(pad)+\".\"+impl_type+\".wInit.\"+str(init_weights)+\".TrainableAfter.\"+str(pointTrainableAfter)+                     modelExt+\".opt.\"+OPTIMIZER+\".drop.\"+str(DROPOUT)+\".batch\"+str(BATCH_SIZE)+ext+\".hdf5\"\\nlog_name = \"log.\"+checkpointer_name[8:-5]+\".log\"\\n\\nprint(\\'checkpointer_name =\\', checkpointer_name)\\nprint(\\'log_name =\\', log_name)\\n#'"
            ]
          },
          "metadata": {
            "tags": []
          },
          "execution_count": 20
        }
      ]
    },
    {
      "cell_type": "code",
      "metadata": {
        "colab": {
          "base_uri": "https://localhost:8080/"
        },
        "id": "3T7w_lC1QCPh",
        "outputId": "9860f45a-c08b-406b-c3a2-95d4232dd57a"
      },
      "source": [
        "# \"RMSProp\" \"SGD\" \"Adam\" \"Adamax\" \"Adadelta\" \"Adagrad\" \"SGD\"\n",
        "#optimizer = tf.keras.optimizers.RMSprop(lr = LEARNING_RATE, epsilon=EPSILON)\n",
        "\n",
        "if OPTIMIZER == \"RMSProp\":\n",
        "    optimizer = tf.keras.optimizers.RMSprop(lr = LEARNING_RATE, epsilon=EPSILON)\n",
        "elif OPTIMIZER == \"Adam\":\n",
        "    optimizer = tf.keras.optimizers.Adam(lr = LEARNING_RATE, epsilon=EPSILON, beta_1=0.9, beta_2=0.999)\n",
        "elif OPTIMIZER == \"Adamax\":\n",
        "    optimizer = tf.keras.optimizers.Adamax(lr = LEARNING_RATE, epsilon=EPSILON, beta_1=0.9, beta_2=0.999)\n",
        "elif OPTIMIZER == \"Adadelta\":\n",
        "    optimizer = tf.keras.optimizers.Adadelta(lr = LEARNING_RATE, epsilon=EPSILON, rho=0.95)\n",
        "elif OPTIMIZER == \"Adagrad\":\n",
        "    optimizer = tf.keras.optimizers.Adagrad(lr = LEARNING_RATE, epsilon=EPSILON, initial_accumulator_value=0.1)\n",
        "elif OPTIMIZER == \"SGD\":\n",
        "    optimizer = tf.keras.optimizers.SGD(lr = LEARNING_RATE, momentum=0.9)\n",
        "\n",
        "model.compile(\n",
        "    #optimizer=OPTIMIZER,\n",
        "    optimizer=optimizer,\n",
        "    loss=LOSS,\n",
        "    metrics=['accuracy']\n",
        ")\n",
        "\n",
        "print(\"OPTIMIZER =\", OPTIMIZER)"
      ],
      "execution_count": 21,
      "outputs": [
        {
          "output_type": "stream",
          "text": [
            "OPTIMIZER = Adam\n"
          ],
          "name": "stdout"
        },
        {
          "output_type": "stream",
          "text": [
            "/usr/local/lib/python3.7/dist-packages/tensorflow/python/keras/optimizer_v2/optimizer_v2.py:375: UserWarning: The `lr` argument is deprecated, use `learning_rate` instead.\n",
            "  \"The `lr` argument is deprecated, use `learning_rate` instead.\")\n"
          ],
          "name": "stderr"
        }
      ]
    },
    {
      "cell_type": "code",
      "metadata": {
        "id": "OdySVEG3QCpv"
      },
      "source": [
        "# save the best model with least validation loss\n",
        "checkpointer = ModelCheckpoint(filepath = work_dir+checkpointer_name, \n",
        "                               #monitor='val_accuracy',\n",
        "                               monitor='val_loss',\n",
        "                               save_weights_only=False,  \n",
        "                               mode='auto', \n",
        "                               verbose = 1, # 0 = silent, 1 = progress bar, 2 = one line per epoch\n",
        "                               save_best_only =False\n",
        "                               )\n",
        "checkpointer_best = ModelCheckpoint(filepath = work_dir+\"best_\"+checkpointer_name, \n",
        "                                    monitor='val_loss', \n",
        "                                    save_weights_only=False,\n",
        "                                    mode='auto',  \n",
        "                                    verbose = 1, \n",
        "                                    save_best_only = True\n",
        "                                    )\n",
        "early_stopping = EarlyStopping(monitor='loss', patience=early_stop_after_epochs)"
      ],
      "execution_count": 22,
      "outputs": []
    },
    {
      "cell_type": "code",
      "metadata": {
        "colab": {
          "base_uri": "https://localhost:8080/"
        },
        "id": "Fq3iXmYXQHNL",
        "outputId": "6d3b1c10-051b-4fbb-8c75-dab4cefb2dcf"
      },
      "source": [
        "'''\n",
        "if 'count_no_improvement' not in globals():\n",
        "    count_no_improvement = 0\n",
        "    print(\"count_no_improvement =\", count_no_improvement)\n",
        "#'''\n",
        "'''\n",
        "count_no_improvement = 0\n",
        "epoch_initial = False\n",
        "#'''\n",
        "min_delta = 0.0009\n",
        "print(\"count_no_improvement =\", count_no_improvement)\n",
        "\n",
        "def checkBestPerformance(epoch, logs):\n",
        "    save_filepath = work_dir+\"best_\"+checkpointer_name\n",
        "\n",
        "    global epoch_initial\n",
        "    if epoch_initial == True:\n",
        "        epoch_initial = False\n",
        "        model.save(filepath = save_filepath)\n",
        "        print(\". Model saved!\")\n",
        "\n",
        "    elif epoch_initial == False:\n",
        "        global count_no_improvement\n",
        "\n",
        "        log_data = pd.read_csv(work_dir+log_name, sep=',', usecols=['val_loss', 'val_accuracy'], engine='python')\n",
        "        min_val_loss = float(str(min(log_data.val_loss.values))[:6])\n",
        "        max_val_acc = float(str(max(log_data.val_accuracy.values))[:6])\n",
        "\n",
        "        current_val_acc = float(str(logs['val_accuracy'])[:6])\n",
        "        current_val_loss = float(str(logs['val_loss'])[:6])\n",
        "\n",
        "        if (current_val_loss < min_val_loss) and (abs(current_val_loss-min_val_loss) >= min_delta):\n",
        "            count_no_improvement = 0\n",
        "            model.save(filepath = save_filepath)\n",
        "            print(\"\\nval_loss decreased from\",min_val_loss,\" to\",current_val_loss,\"( val_accuracy =\",current_val_acc,\").\")\n",
        "\n",
        "        elif (current_val_loss==min_val_loss) and (current_val_acc>max_val_acc):\n",
        "            count_no_improvement = 0\n",
        "            model.save(filepath = save_filepath)\n",
        "            print(\"\\nval_accuracy increased to\", current_val_acc, \".\")\n",
        "\n",
        "        else:\n",
        "            count_no_improvement += 1\n",
        "            print(\". count_no_improvement =\", count_no_improvement)\n",
        "\n",
        "        if count_no_improvement >= early_stop_after_epochs:\n",
        "            global list_callbacks\n",
        "            del list_callbacks, count_no_improvement\n",
        "            #print(\"count_no_improvement =\", count_no_improvement, \"... list_callbacks =\", list_callbacks)"
      ],
      "execution_count": 23,
      "outputs": [
        {
          "output_type": "stream",
          "text": [
            "count_no_improvement = 0\n"
          ],
          "name": "stdout"
        }
      ]
    },
    {
      "cell_type": "code",
      "metadata": {
        "colab": {
          "base_uri": "https://localhost:8080/"
        },
        "id": "YYewyuDiREFZ",
        "outputId": "71978a7a-0248-4868-83ed-bd30896ffde6"
      },
      "source": [
        "epochs_completed = 0\n",
        "list_callbacks = []\n",
        "csv_logger = CSVLogger(work_dir+log_name, separator=',', append=True)\n",
        "\n",
        "#if 'list_callbacks' in globals():\n",
        "#    del list_callbacks\n",
        "\n",
        "try:\n",
        "    log_data = pd.read_csv(work_dir+log_name, sep=',', usecols=['epoch'], engine='python')\n",
        "    epochs_completed = log_data.shape[0]\n",
        "\n",
        "    #if epochs_completed > 0:\n",
        "    model = load_model(work_dir+checkpointer_name)\n",
        "    list_callbacks = [checkpointer, LambdaCallback(on_epoch_end=checkBestPerformance), csv_logger]\n",
        "    print(\"epochs_completed =\", epochs_completed)\n",
        "\n",
        "except Exception as error:\n",
        "    if epochs_completed == 0:\n",
        "        # list_callbacks = [checkpointer, checkpointer_best, csv_logger, early_stopping] \n",
        "        list_callbacks = [checkpointer, LambdaCallback(on_epoch_end=checkBestPerformance), csv_logger]\n",
        "        print(\"epochs_completed =\", epochs_completed)\n",
        "    elif epochs_completed > 0:\n",
        "        print(error)\n",
        "\n",
        "print('checkpointer_name =', checkpointer_name)"
      ],
      "execution_count": 24,
      "outputs": [
        {
          "output_type": "stream",
          "text": [
            "epochs_completed = 29\n",
            "checkpointer_name = weights.Bark_101.DataAug.rgb.256p.TTV.DataFlow.pad0.TL.3D.DenseNet201.wInit.imagenet.TrainableAfter.allDefault.Dense.1024.1024.2048.actF.elu.opt.Adam.drop.0.5.batch8.Flatten.l2.0.001.run_2.hdf5\n"
          ],
          "name": "stdout"
        }
      ]
    },
    {
      "cell_type": "code",
      "metadata": {
        "colab": {
          "base_uri": "https://localhost:8080/"
        },
        "id": "6JKqrHnwRGGz",
        "outputId": "468e905d-af3e-47c3-9399-8415e9055dc0"
      },
      "source": [
        "print('checkpointer_name =', checkpointer_name)\n",
        "print(\"Previously completed epochs =\", epochs_completed)\n",
        "print(\"count_no_improvement =\", count_no_improvement, \"\\n\")\n",
        "\n",
        "#'''\n",
        "try:\n",
        "    start_time = time.time()\n",
        "    history = model.fit(train_generator, \n",
        "                        steps_per_epoch=total_train_data // BATCH_SIZE,\n",
        "                        shuffle=True, \n",
        "                        epochs = NUM_EPOCHS - epochs_completed, \n",
        "                        validation_data=val_generator,\n",
        "                        validation_steps=total_val_data // BATCH_SIZE,\n",
        "                        callbacks=list_callbacks\n",
        "                        )\n",
        "    elapsed_time = time.time() - start_time \n",
        "    print(\"\\nTime elapsed: \", elapsed_time)\n",
        "\n",
        "except Exception as error:\n",
        "    print(\"\\nError:\", error)\n",
        "#'''"
      ],
      "execution_count": 25,
      "outputs": [
        {
          "output_type": "stream",
          "text": [
            "checkpointer_name = weights.Bark_101.DataAug.rgb.256p.TTV.DataFlow.pad0.TL.3D.DenseNet201.wInit.imagenet.TrainableAfter.allDefault.Dense.1024.1024.2048.actF.elu.opt.Adam.drop.0.5.batch8.Flatten.l2.0.001.run_2.hdf5\n",
            "Previously completed epochs = 29\n",
            "count_no_improvement = 0 \n",
            "\n",
            "Epoch 1/271\n",
            "150/150 [==============================] - 94s 322ms/step - loss: 6.0066 - accuracy: 0.4418 - val_loss: 4.6203 - val_accuracy: 0.7407\n",
            "\n",
            "Epoch 00001: saving model to drive/My Drive/Texture/Bark-101-anonymized/Records/weights.Bark_101.DataAug.rgb.256p.TTV.DataFlow.pad0.TL.3D.DenseNet201.wInit.imagenet.TrainableAfter.allDefault.Dense.1024.1024.2048.actF.elu.opt.Adam.drop.0.5.batch8.Flatten.l2.0.001.run_2.hdf5\n",
            ". Model saved!\n",
            "Epoch 2/271\n",
            "150/150 [==============================] - 91s 596ms/step - loss: 5.9823 - accuracy: 0.4318 - val_loss: 4.6213 - val_accuracy: 0.7222\n",
            "\n",
            "Epoch 00002: saving model to drive/My Drive/Texture/Bark-101-anonymized/Records/weights.Bark_101.DataAug.rgb.256p.TTV.DataFlow.pad0.TL.3D.DenseNet201.wInit.imagenet.TrainableAfter.allDefault.Dense.1024.1024.2048.actF.elu.opt.Adam.drop.0.5.batch8.Flatten.l2.0.001.run_2.hdf5\n",
            ". count_no_improvement = 1\n",
            "Epoch 3/271\n",
            "150/150 [==============================] - 50s 333ms/step - loss: 5.8248 - accuracy: 0.4745 - val_loss: 4.5065 - val_accuracy: 0.7546\n",
            "\n",
            "Epoch 00003: saving model to drive/My Drive/Texture/Bark-101-anonymized/Records/weights.Bark_101.DataAug.rgb.256p.TTV.DataFlow.pad0.TL.3D.DenseNet201.wInit.imagenet.TrainableAfter.allDefault.Dense.1024.1024.2048.actF.elu.opt.Adam.drop.0.5.batch8.Flatten.l2.0.001.run_2.hdf5\n",
            "\n",
            "val_loss decreased from 4.6202  to 4.5064 ( val_accuracy = 0.7546 ).\n",
            "Epoch 4/271\n",
            "150/150 [==============================] - 42s 278ms/step - loss: 5.6890 - accuracy: 0.4870 - val_loss: 4.4469 - val_accuracy: 0.7639\n",
            "\n",
            "Epoch 00004: saving model to drive/My Drive/Texture/Bark-101-anonymized/Records/weights.Bark_101.DataAug.rgb.256p.TTV.DataFlow.pad0.TL.3D.DenseNet201.wInit.imagenet.TrainableAfter.allDefault.Dense.1024.1024.2048.actF.elu.opt.Adam.drop.0.5.batch8.Flatten.l2.0.001.run_2.hdf5\n",
            "\n",
            "val_loss decreased from 4.5064  to 4.4468 ( val_accuracy = 0.7638 ).\n",
            "Epoch 5/271\n",
            "150/150 [==============================] - 41s 273ms/step - loss: 5.6338 - accuracy: 0.4937 - val_loss: 4.4100 - val_accuracy: 0.7917\n",
            "\n",
            "Epoch 00005: saving model to drive/My Drive/Texture/Bark-101-anonymized/Records/weights.Bark_101.DataAug.rgb.256p.TTV.DataFlow.pad0.TL.3D.DenseNet201.wInit.imagenet.TrainableAfter.allDefault.Dense.1024.1024.2048.actF.elu.opt.Adam.drop.0.5.batch8.Flatten.l2.0.001.run_2.hdf5\n",
            "\n",
            "val_loss decreased from 4.4468  to 4.41 ( val_accuracy = 0.7916 ).\n",
            "Epoch 6/271\n",
            "150/150 [==============================] - 57s 378ms/step - loss: 5.5473 - accuracy: 0.5096 - val_loss: 4.3834 - val_accuracy: 0.7917\n",
            "\n",
            "Epoch 00006: saving model to drive/My Drive/Texture/Bark-101-anonymized/Records/weights.Bark_101.DataAug.rgb.256p.TTV.DataFlow.pad0.TL.3D.DenseNet201.wInit.imagenet.TrainableAfter.allDefault.Dense.1024.1024.2048.actF.elu.opt.Adam.drop.0.5.batch8.Flatten.l2.0.001.run_2.hdf5\n",
            "\n",
            "val_loss decreased from 4.41  to 4.3833 ( val_accuracy = 0.7916 ).\n",
            "Epoch 7/271\n",
            "150/150 [==============================] - 59s 391ms/step - loss: 5.4588 - accuracy: 0.5222 - val_loss: 4.4315 - val_accuracy: 0.7731\n",
            "\n",
            "Epoch 00007: saving model to drive/My Drive/Texture/Bark-101-anonymized/Records/weights.Bark_101.DataAug.rgb.256p.TTV.DataFlow.pad0.TL.3D.DenseNet201.wInit.imagenet.TrainableAfter.allDefault.Dense.1024.1024.2048.actF.elu.opt.Adam.drop.0.5.batch8.Flatten.l2.0.001.run_2.hdf5\n",
            ". count_no_improvement = 1\n",
            "Epoch 8/271\n",
            "150/150 [==============================] - 45s 297ms/step - loss: 5.4917 - accuracy: 0.5096 - val_loss: 4.3138 - val_accuracy: 0.8102\n",
            "\n",
            "Epoch 00008: saving model to drive/My Drive/Texture/Bark-101-anonymized/Records/weights.Bark_101.DataAug.rgb.256p.TTV.DataFlow.pad0.TL.3D.DenseNet201.wInit.imagenet.TrainableAfter.allDefault.Dense.1024.1024.2048.actF.elu.opt.Adam.drop.0.5.batch8.Flatten.l2.0.001.run_2.hdf5\n",
            "\n",
            "val_loss decreased from 4.3833  to 4.3137 ( val_accuracy = 0.8101 ).\n",
            "Epoch 9/271\n",
            "150/150 [==============================] - 53s 352ms/step - loss: 5.3845 - accuracy: 0.5247 - val_loss: 4.3147 - val_accuracy: 0.8102\n",
            "\n",
            "Epoch 00009: saving model to drive/My Drive/Texture/Bark-101-anonymized/Records/weights.Bark_101.DataAug.rgb.256p.TTV.DataFlow.pad0.TL.3D.DenseNet201.wInit.imagenet.TrainableAfter.allDefault.Dense.1024.1024.2048.actF.elu.opt.Adam.drop.0.5.batch8.Flatten.l2.0.001.run_2.hdf5\n",
            ". count_no_improvement = 1\n",
            "Epoch 10/271\n",
            "150/150 [==============================] - 44s 295ms/step - loss: 5.3046 - accuracy: 0.5456 - val_loss: 4.2268 - val_accuracy: 0.8194\n",
            "\n",
            "Epoch 00010: saving model to drive/My Drive/Texture/Bark-101-anonymized/Records/weights.Bark_101.DataAug.rgb.256p.TTV.DataFlow.pad0.TL.3D.DenseNet201.wInit.imagenet.TrainableAfter.allDefault.Dense.1024.1024.2048.actF.elu.opt.Adam.drop.0.5.batch8.Flatten.l2.0.001.run_2.hdf5\n",
            "\n",
            "val_loss decreased from 4.3137  to 4.2267 ( val_accuracy = 0.8194 ).\n",
            "Epoch 11/271\n",
            "150/150 [==============================] - 41s 273ms/step - loss: 5.2716 - accuracy: 0.5540 - val_loss: 4.3215 - val_accuracy: 0.7870\n",
            "\n",
            "Epoch 00011: saving model to drive/My Drive/Texture/Bark-101-anonymized/Records/weights.Bark_101.DataAug.rgb.256p.TTV.DataFlow.pad0.TL.3D.DenseNet201.wInit.imagenet.TrainableAfter.allDefault.Dense.1024.1024.2048.actF.elu.opt.Adam.drop.0.5.batch8.Flatten.l2.0.001.run_2.hdf5\n",
            ". count_no_improvement = 1\n",
            "Epoch 12/271\n",
            "150/150 [==============================] - 45s 298ms/step - loss: 5.1978 - accuracy: 0.5682 - val_loss: 4.2234 - val_accuracy: 0.8148\n",
            "\n",
            "Epoch 00012: saving model to drive/My Drive/Texture/Bark-101-anonymized/Records/weights.Bark_101.DataAug.rgb.256p.TTV.DataFlow.pad0.TL.3D.DenseNet201.wInit.imagenet.TrainableAfter.allDefault.Dense.1024.1024.2048.actF.elu.opt.Adam.drop.0.5.batch8.Flatten.l2.0.001.run_2.hdf5\n",
            "\n",
            "val_loss decreased from 4.2267  to 4.2233 ( val_accuracy = 0.8148 ).\n",
            "Epoch 13/271\n",
            "150/150 [==============================] - 41s 274ms/step - loss: 5.1722 - accuracy: 0.5590 - val_loss: 4.1921 - val_accuracy: 0.8102\n",
            "\n",
            "Epoch 00013: saving model to drive/My Drive/Texture/Bark-101-anonymized/Records/weights.Bark_101.DataAug.rgb.256p.TTV.DataFlow.pad0.TL.3D.DenseNet201.wInit.imagenet.TrainableAfter.allDefault.Dense.1024.1024.2048.actF.elu.opt.Adam.drop.0.5.batch8.Flatten.l2.0.001.run_2.hdf5\n",
            "\n",
            "val_loss decreased from 4.2233  to 4.1921 ( val_accuracy = 0.8101 ).\n",
            "Epoch 14/271\n",
            "150/150 [==============================] - 51s 340ms/step - loss: 4.9909 - accuracy: 0.5958 - val_loss: 4.2594 - val_accuracy: 0.8148\n",
            "\n",
            "Epoch 00014: saving model to drive/My Drive/Texture/Bark-101-anonymized/Records/weights.Bark_101.DataAug.rgb.256p.TTV.DataFlow.pad0.TL.3D.DenseNet201.wInit.imagenet.TrainableAfter.allDefault.Dense.1024.1024.2048.actF.elu.opt.Adam.drop.0.5.batch8.Flatten.l2.0.001.run_2.hdf5\n",
            ". count_no_improvement = 1\n",
            "Epoch 15/271\n",
            "150/150 [==============================] - 45s 302ms/step - loss: 4.9505 - accuracy: 0.6075 - val_loss: 4.1810 - val_accuracy: 0.8009\n",
            "\n",
            "Epoch 00015: saving model to drive/My Drive/Texture/Bark-101-anonymized/Records/weights.Bark_101.DataAug.rgb.256p.TTV.DataFlow.pad0.TL.3D.DenseNet201.wInit.imagenet.TrainableAfter.allDefault.Dense.1024.1024.2048.actF.elu.opt.Adam.drop.0.5.batch8.Flatten.l2.0.001.run_2.hdf5\n",
            "\n",
            "val_loss decreased from 4.1921  to 4.181 ( val_accuracy = 0.8009 ).\n",
            "Epoch 16/271\n",
            "150/150 [==============================] - 41s 274ms/step - loss: 4.9193 - accuracy: 0.5975 - val_loss: 4.1333 - val_accuracy: 0.8241\n",
            "\n",
            "Epoch 00016: saving model to drive/My Drive/Texture/Bark-101-anonymized/Records/weights.Bark_101.DataAug.rgb.256p.TTV.DataFlow.pad0.TL.3D.DenseNet201.wInit.imagenet.TrainableAfter.allDefault.Dense.1024.1024.2048.actF.elu.opt.Adam.drop.0.5.batch8.Flatten.l2.0.001.run_2.hdf5\n",
            "\n",
            "val_loss decreased from 4.181  to 4.1332 ( val_accuracy = 0.824 ).\n",
            "Epoch 17/271\n",
            "150/150 [==============================] - 60s 399ms/step - loss: 4.8412 - accuracy: 0.6360 - val_loss: 4.1848 - val_accuracy: 0.8194\n",
            "\n",
            "Epoch 00017: saving model to drive/My Drive/Texture/Bark-101-anonymized/Records/weights.Bark_101.DataAug.rgb.256p.TTV.DataFlow.pad0.TL.3D.DenseNet201.wInit.imagenet.TrainableAfter.allDefault.Dense.1024.1024.2048.actF.elu.opt.Adam.drop.0.5.batch8.Flatten.l2.0.001.run_2.hdf5\n",
            ". count_no_improvement = 1\n",
            "Epoch 18/271\n",
            "150/150 [==============================] - 41s 273ms/step - loss: 4.7922 - accuracy: 0.6259 - val_loss: 4.1108 - val_accuracy: 0.8241\n",
            "\n",
            "Epoch 00018: saving model to drive/My Drive/Texture/Bark-101-anonymized/Records/weights.Bark_101.DataAug.rgb.256p.TTV.DataFlow.pad0.TL.3D.DenseNet201.wInit.imagenet.TrainableAfter.allDefault.Dense.1024.1024.2048.actF.elu.opt.Adam.drop.0.5.batch8.Flatten.l2.0.001.run_2.hdf5\n",
            "\n",
            "val_loss decreased from 4.1332  to 4.1108 ( val_accuracy = 0.824 ).\n",
            "Epoch 19/271\n",
            "150/150 [==============================] - 41s 272ms/step - loss: 4.8054 - accuracy: 0.6134 - val_loss: 4.0698 - val_accuracy: 0.8380\n",
            "\n",
            "Epoch 00019: saving model to drive/My Drive/Texture/Bark-101-anonymized/Records/weights.Bark_101.DataAug.rgb.256p.TTV.DataFlow.pad0.TL.3D.DenseNet201.wInit.imagenet.TrainableAfter.allDefault.Dense.1024.1024.2048.actF.elu.opt.Adam.drop.0.5.batch8.Flatten.l2.0.001.run_2.hdf5\n",
            "\n",
            "val_loss decreased from 4.1108  to 4.0697 ( val_accuracy = 0.8379 ).\n",
            "Epoch 20/271\n",
            "150/150 [==============================] - 41s 272ms/step - loss: 4.6944 - accuracy: 0.6636 - val_loss: 4.0762 - val_accuracy: 0.8426\n",
            "\n",
            "Epoch 00020: saving model to drive/My Drive/Texture/Bark-101-anonymized/Records/weights.Bark_101.DataAug.rgb.256p.TTV.DataFlow.pad0.TL.3D.DenseNet201.wInit.imagenet.TrainableAfter.allDefault.Dense.1024.1024.2048.actF.elu.opt.Adam.drop.0.5.batch8.Flatten.l2.0.001.run_2.hdf5\n",
            ". count_no_improvement = 1\n",
            "Epoch 21/271\n",
            "150/150 [==============================] - 46s 303ms/step - loss: 4.5819 - accuracy: 0.6921 - val_loss: 4.0837 - val_accuracy: 0.8426\n",
            "\n",
            "Epoch 00021: saving model to drive/My Drive/Texture/Bark-101-anonymized/Records/weights.Bark_101.DataAug.rgb.256p.TTV.DataFlow.pad0.TL.3D.DenseNet201.wInit.imagenet.TrainableAfter.allDefault.Dense.1024.1024.2048.actF.elu.opt.Adam.drop.0.5.batch8.Flatten.l2.0.001.run_2.hdf5\n",
            ". count_no_improvement = 2\n",
            "Epoch 22/271\n",
            "150/150 [==============================] - 46s 308ms/step - loss: 4.5696 - accuracy: 0.6820 - val_loss: 4.0196 - val_accuracy: 0.8565\n",
            "\n",
            "Epoch 00022: saving model to drive/My Drive/Texture/Bark-101-anonymized/Records/weights.Bark_101.DataAug.rgb.256p.TTV.DataFlow.pad0.TL.3D.DenseNet201.wInit.imagenet.TrainableAfter.allDefault.Dense.1024.1024.2048.actF.elu.opt.Adam.drop.0.5.batch8.Flatten.l2.0.001.run_2.hdf5\n",
            "\n",
            "val_loss decreased from 4.0697  to 4.0196 ( val_accuracy = 0.8564 ).\n",
            "Epoch 23/271\n",
            "150/150 [==============================] - 54s 358ms/step - loss: 4.5091 - accuracy: 0.6803 - val_loss: 3.9747 - val_accuracy: 0.8519\n",
            "\n",
            "Epoch 00023: saving model to drive/My Drive/Texture/Bark-101-anonymized/Records/weights.Bark_101.DataAug.rgb.256p.TTV.DataFlow.pad0.TL.3D.DenseNet201.wInit.imagenet.TrainableAfter.allDefault.Dense.1024.1024.2048.actF.elu.opt.Adam.drop.0.5.batch8.Flatten.l2.0.001.run_2.hdf5\n",
            "\n",
            "val_loss decreased from 4.0196  to 3.9746 ( val_accuracy = 0.8518 ).\n",
            "Epoch 24/271\n",
            "150/150 [==============================] - 59s 393ms/step - loss: 4.4497 - accuracy: 0.7021 - val_loss: 4.1136 - val_accuracy: 0.8241\n",
            "\n",
            "Epoch 00024: saving model to drive/My Drive/Texture/Bark-101-anonymized/Records/weights.Bark_101.DataAug.rgb.256p.TTV.DataFlow.pad0.TL.3D.DenseNet201.wInit.imagenet.TrainableAfter.allDefault.Dense.1024.1024.2048.actF.elu.opt.Adam.drop.0.5.batch8.Flatten.l2.0.001.run_2.hdf5\n",
            ". count_no_improvement = 1\n",
            "Epoch 25/271\n",
            "150/150 [==============================] - 47s 311ms/step - loss: 4.4148 - accuracy: 0.7038 - val_loss: 4.0493 - val_accuracy: 0.8426\n",
            "\n",
            "Epoch 00025: saving model to drive/My Drive/Texture/Bark-101-anonymized/Records/weights.Bark_101.DataAug.rgb.256p.TTV.DataFlow.pad0.TL.3D.DenseNet201.wInit.imagenet.TrainableAfter.allDefault.Dense.1024.1024.2048.actF.elu.opt.Adam.drop.0.5.batch8.Flatten.l2.0.001.run_2.hdf5\n",
            ". count_no_improvement = 2\n",
            "Epoch 26/271\n",
            "150/150 [==============================] - 51s 340ms/step - loss: 4.4200 - accuracy: 0.7297 - val_loss: 4.0712 - val_accuracy: 0.8287\n",
            "\n",
            "Epoch 00026: saving model to drive/My Drive/Texture/Bark-101-anonymized/Records/weights.Bark_101.DataAug.rgb.256p.TTV.DataFlow.pad0.TL.3D.DenseNet201.wInit.imagenet.TrainableAfter.allDefault.Dense.1024.1024.2048.actF.elu.opt.Adam.drop.0.5.batch8.Flatten.l2.0.001.run_2.hdf5\n",
            ". count_no_improvement = 3\n",
            "Epoch 27/271\n",
            "150/150 [==============================] - 41s 272ms/step - loss: 4.3870 - accuracy: 0.7247 - val_loss: 4.0515 - val_accuracy: 0.8472\n",
            "\n",
            "Epoch 00027: saving model to drive/My Drive/Texture/Bark-101-anonymized/Records/weights.Bark_101.DataAug.rgb.256p.TTV.DataFlow.pad0.TL.3D.DenseNet201.wInit.imagenet.TrainableAfter.allDefault.Dense.1024.1024.2048.actF.elu.opt.Adam.drop.0.5.batch8.Flatten.l2.0.001.run_2.hdf5\n",
            ". count_no_improvement = 4\n",
            "Epoch 28/271\n",
            "150/150 [==============================] - 49s 327ms/step - loss: 4.2530 - accuracy: 0.7556 - val_loss: 4.0180 - val_accuracy: 0.8519\n",
            "\n",
            "Epoch 00028: saving model to drive/My Drive/Texture/Bark-101-anonymized/Records/weights.Bark_101.DataAug.rgb.256p.TTV.DataFlow.pad0.TL.3D.DenseNet201.wInit.imagenet.TrainableAfter.allDefault.Dense.1024.1024.2048.actF.elu.opt.Adam.drop.0.5.batch8.Flatten.l2.0.001.run_2.hdf5\n",
            ". count_no_improvement = 5\n",
            "Epoch 29/271\n",
            "150/150 [==============================] - 46s 303ms/step - loss: 4.2905 - accuracy: 0.7331 - val_loss: 4.0165 - val_accuracy: 0.8565\n",
            "\n",
            "Epoch 00029: saving model to drive/My Drive/Texture/Bark-101-anonymized/Records/weights.Bark_101.DataAug.rgb.256p.TTV.DataFlow.pad0.TL.3D.DenseNet201.wInit.imagenet.TrainableAfter.allDefault.Dense.1024.1024.2048.actF.elu.opt.Adam.drop.0.5.batch8.Flatten.l2.0.001.run_2.hdf5\n",
            ". count_no_improvement = 6\n",
            "Epoch 30/271\n",
            "150/150 [==============================] - 49s 325ms/step - loss: 4.2088 - accuracy: 0.7556 - val_loss: 3.9883 - val_accuracy: 0.8565\n",
            "\n",
            "Epoch 00030: saving model to drive/My Drive/Texture/Bark-101-anonymized/Records/weights.Bark_101.DataAug.rgb.256p.TTV.DataFlow.pad0.TL.3D.DenseNet201.wInit.imagenet.TrainableAfter.allDefault.Dense.1024.1024.2048.actF.elu.opt.Adam.drop.0.5.batch8.Flatten.l2.0.001.run_2.hdf5\n",
            ". count_no_improvement = 7\n",
            "Epoch 31/271\n",
            "150/150 [==============================] - 49s 323ms/step - loss: 4.1845 - accuracy: 0.7573 - val_loss: 4.0298 - val_accuracy: 0.8657\n",
            "\n",
            "Epoch 00031: saving model to drive/My Drive/Texture/Bark-101-anonymized/Records/weights.Bark_101.DataAug.rgb.256p.TTV.DataFlow.pad0.TL.3D.DenseNet201.wInit.imagenet.TrainableAfter.allDefault.Dense.1024.1024.2048.actF.elu.opt.Adam.drop.0.5.batch8.Flatten.l2.0.001.run_2.hdf5\n",
            ". count_no_improvement = 8\n",
            "Epoch 32/271\n",
            "150/150 [==============================] - 41s 273ms/step - loss: 4.1795 - accuracy: 0.7490 - val_loss: 4.0356 - val_accuracy: 0.8519\n",
            "\n",
            "Epoch 00032: saving model to drive/My Drive/Texture/Bark-101-anonymized/Records/weights.Bark_101.DataAug.rgb.256p.TTV.DataFlow.pad0.TL.3D.DenseNet201.wInit.imagenet.TrainableAfter.allDefault.Dense.1024.1024.2048.actF.elu.opt.Adam.drop.0.5.batch8.Flatten.l2.0.001.run_2.hdf5\n",
            ". count_no_improvement = 9\n",
            "Epoch 33/271\n",
            "150/150 [==============================] - 49s 325ms/step - loss: 4.2051 - accuracy: 0.7498 - val_loss: 3.9841 - val_accuracy: 0.8472\n",
            "\n",
            "Epoch 00033: saving model to drive/My Drive/Texture/Bark-101-anonymized/Records/weights.Bark_101.DataAug.rgb.256p.TTV.DataFlow.pad0.TL.3D.DenseNet201.wInit.imagenet.TrainableAfter.allDefault.Dense.1024.1024.2048.actF.elu.opt.Adam.drop.0.5.batch8.Flatten.l2.0.001.run_2.hdf5\n",
            ". count_no_improvement = 10\n",
            "Epoch 34/271\n",
            "150/150 [==============================] - 49s 325ms/step - loss: 4.1369 - accuracy: 0.7766 - val_loss: 3.9855 - val_accuracy: 0.8704\n",
            "\n",
            "Epoch 00034: saving model to drive/My Drive/Texture/Bark-101-anonymized/Records/weights.Bark_101.DataAug.rgb.256p.TTV.DataFlow.pad0.TL.3D.DenseNet201.wInit.imagenet.TrainableAfter.allDefault.Dense.1024.1024.2048.actF.elu.opt.Adam.drop.0.5.batch8.Flatten.l2.0.001.run_2.hdf5\n",
            ". count_no_improvement = 11\n",
            "Epoch 35/271\n",
            "150/150 [==============================] - 41s 274ms/step - loss: 4.0314 - accuracy: 0.7900 - val_loss: 3.9755 - val_accuracy: 0.8472\n",
            "\n",
            "Epoch 00035: saving model to drive/My Drive/Texture/Bark-101-anonymized/Records/weights.Bark_101.DataAug.rgb.256p.TTV.DataFlow.pad0.TL.3D.DenseNet201.wInit.imagenet.TrainableAfter.allDefault.Dense.1024.1024.2048.actF.elu.opt.Adam.drop.0.5.batch8.Flatten.l2.0.001.run_2.hdf5\n",
            ". count_no_improvement = 12\n",
            "Epoch 36/271\n",
            "150/150 [==============================] - 49s 326ms/step - loss: 4.0561 - accuracy: 0.7967 - val_loss: 3.9797 - val_accuracy: 0.8657\n",
            "\n",
            "Epoch 00036: saving model to drive/My Drive/Texture/Bark-101-anonymized/Records/weights.Bark_101.DataAug.rgb.256p.TTV.DataFlow.pad0.TL.3D.DenseNet201.wInit.imagenet.TrainableAfter.allDefault.Dense.1024.1024.2048.actF.elu.opt.Adam.drop.0.5.batch8.Flatten.l2.0.001.run_2.hdf5\n",
            ". count_no_improvement = 13\n",
            "Epoch 37/271\n",
            "150/150 [==============================] - 41s 273ms/step - loss: 4.0284 - accuracy: 0.7925 - val_loss: 3.9722 - val_accuracy: 0.8704\n",
            "\n",
            "Epoch 00037: saving model to drive/My Drive/Texture/Bark-101-anonymized/Records/weights.Bark_101.DataAug.rgb.256p.TTV.DataFlow.pad0.TL.3D.DenseNet201.wInit.imagenet.TrainableAfter.allDefault.Dense.1024.1024.2048.actF.elu.opt.Adam.drop.0.5.batch8.Flatten.l2.0.001.run_2.hdf5\n",
            "\n",
            "val_loss decreased from 3.9746  to 3.9722 ( val_accuracy = 0.8703 ).\n",
            "Epoch 38/271\n",
            "150/150 [==============================] - 54s 358ms/step - loss: 3.9906 - accuracy: 0.7941 - val_loss: 4.0140 - val_accuracy: 0.8796\n",
            "\n",
            "Epoch 00038: saving model to drive/My Drive/Texture/Bark-101-anonymized/Records/weights.Bark_101.DataAug.rgb.256p.TTV.DataFlow.pad0.TL.3D.DenseNet201.wInit.imagenet.TrainableAfter.allDefault.Dense.1024.1024.2048.actF.elu.opt.Adam.drop.0.5.batch8.Flatten.l2.0.001.run_2.hdf5\n",
            ". count_no_improvement = 1\n",
            "Epoch 39/271\n",
            "150/150 [==============================] - 46s 303ms/step - loss: 3.9407 - accuracy: 0.8159 - val_loss: 4.0187 - val_accuracy: 0.8565\n",
            "\n",
            "Epoch 00039: saving model to drive/My Drive/Texture/Bark-101-anonymized/Records/weights.Bark_101.DataAug.rgb.256p.TTV.DataFlow.pad0.TL.3D.DenseNet201.wInit.imagenet.TrainableAfter.allDefault.Dense.1024.1024.2048.actF.elu.opt.Adam.drop.0.5.batch8.Flatten.l2.0.001.run_2.hdf5\n",
            ". count_no_improvement = 2\n",
            "Epoch 40/271\n",
            "150/150 [==============================] - 47s 314ms/step - loss: 3.9601 - accuracy: 0.7983 - val_loss: 3.9308 - val_accuracy: 0.8565\n",
            "\n",
            "Epoch 00040: saving model to drive/My Drive/Texture/Bark-101-anonymized/Records/weights.Bark_101.DataAug.rgb.256p.TTV.DataFlow.pad0.TL.3D.DenseNet201.wInit.imagenet.TrainableAfter.allDefault.Dense.1024.1024.2048.actF.elu.opt.Adam.drop.0.5.batch8.Flatten.l2.0.001.run_2.hdf5\n",
            "\n",
            "val_loss decreased from 3.9722  to 3.9308 ( val_accuracy = 0.8564 ).\n",
            "Epoch 41/271\n",
            "150/150 [==============================] - 41s 274ms/step - loss: 3.8857 - accuracy: 0.8343 - val_loss: 4.0188 - val_accuracy: 0.8426\n",
            "\n",
            "Epoch 00041: saving model to drive/My Drive/Texture/Bark-101-anonymized/Records/weights.Bark_101.DataAug.rgb.256p.TTV.DataFlow.pad0.TL.3D.DenseNet201.wInit.imagenet.TrainableAfter.allDefault.Dense.1024.1024.2048.actF.elu.opt.Adam.drop.0.5.batch8.Flatten.l2.0.001.run_2.hdf5\n",
            ". count_no_improvement = 1\n",
            "Epoch 42/271\n",
            "150/150 [==============================] - 45s 297ms/step - loss: 3.8821 - accuracy: 0.8368 - val_loss: 3.9894 - val_accuracy: 0.8472\n",
            "\n",
            "Epoch 00042: saving model to drive/My Drive/Texture/Bark-101-anonymized/Records/weights.Bark_101.DataAug.rgb.256p.TTV.DataFlow.pad0.TL.3D.DenseNet201.wInit.imagenet.TrainableAfter.allDefault.Dense.1024.1024.2048.actF.elu.opt.Adam.drop.0.5.batch8.Flatten.l2.0.001.run_2.hdf5\n",
            ". count_no_improvement = 2\n",
            "Epoch 43/271\n",
            "150/150 [==============================] - 46s 308ms/step - loss: 3.8291 - accuracy: 0.8301 - val_loss: 3.9594 - val_accuracy: 0.8565\n",
            "\n",
            "Epoch 00043: saving model to drive/My Drive/Texture/Bark-101-anonymized/Records/weights.Bark_101.DataAug.rgb.256p.TTV.DataFlow.pad0.TL.3D.DenseNet201.wInit.imagenet.TrainableAfter.allDefault.Dense.1024.1024.2048.actF.elu.opt.Adam.drop.0.5.batch8.Flatten.l2.0.001.run_2.hdf5\n",
            ". count_no_improvement = 3\n",
            "Epoch 44/271\n",
            "150/150 [==============================] - 47s 313ms/step - loss: 3.7723 - accuracy: 0.8552 - val_loss: 3.9970 - val_accuracy: 0.8611\n",
            "\n",
            "Epoch 00044: saving model to drive/My Drive/Texture/Bark-101-anonymized/Records/weights.Bark_101.DataAug.rgb.256p.TTV.DataFlow.pad0.TL.3D.DenseNet201.wInit.imagenet.TrainableAfter.allDefault.Dense.1024.1024.2048.actF.elu.opt.Adam.drop.0.5.batch8.Flatten.l2.0.001.run_2.hdf5\n",
            ". count_no_improvement = 4\n",
            "Epoch 45/271\n",
            "150/150 [==============================] - 48s 320ms/step - loss: 3.7388 - accuracy: 0.8619 - val_loss: 4.0578 - val_accuracy: 0.8565\n",
            "\n",
            "Epoch 00045: saving model to drive/My Drive/Texture/Bark-101-anonymized/Records/weights.Bark_101.DataAug.rgb.256p.TTV.DataFlow.pad0.TL.3D.DenseNet201.wInit.imagenet.TrainableAfter.allDefault.Dense.1024.1024.2048.actF.elu.opt.Adam.drop.0.5.batch8.Flatten.l2.0.001.run_2.hdf5\n",
            ". count_no_improvement = 5\n",
            "Epoch 46/271\n",
            "150/150 [==============================] - 41s 272ms/step - loss: 3.7770 - accuracy: 0.8544 - val_loss: 3.9867 - val_accuracy: 0.8565\n",
            "\n",
            "Epoch 00046: saving model to drive/My Drive/Texture/Bark-101-anonymized/Records/weights.Bark_101.DataAug.rgb.256p.TTV.DataFlow.pad0.TL.3D.DenseNet201.wInit.imagenet.TrainableAfter.allDefault.Dense.1024.1024.2048.actF.elu.opt.Adam.drop.0.5.batch8.Flatten.l2.0.001.run_2.hdf5\n",
            ". count_no_improvement = 6\n",
            "Epoch 47/271\n",
            "150/150 [==============================] - 46s 306ms/step - loss: 3.7888 - accuracy: 0.8402 - val_loss: 3.9824 - val_accuracy: 0.8657\n",
            "\n",
            "Epoch 00047: saving model to drive/My Drive/Texture/Bark-101-anonymized/Records/weights.Bark_101.DataAug.rgb.256p.TTV.DataFlow.pad0.TL.3D.DenseNet201.wInit.imagenet.TrainableAfter.allDefault.Dense.1024.1024.2048.actF.elu.opt.Adam.drop.0.5.batch8.Flatten.l2.0.001.run_2.hdf5\n",
            ". count_no_improvement = 7\n",
            "Epoch 48/271\n",
            "150/150 [==============================] - 48s 318ms/step - loss: 3.7435 - accuracy: 0.8552 - val_loss: 3.9420 - val_accuracy: 0.8750\n",
            "\n",
            "Epoch 00048: saving model to drive/My Drive/Texture/Bark-101-anonymized/Records/weights.Bark_101.DataAug.rgb.256p.TTV.DataFlow.pad0.TL.3D.DenseNet201.wInit.imagenet.TrainableAfter.allDefault.Dense.1024.1024.2048.actF.elu.opt.Adam.drop.0.5.batch8.Flatten.l2.0.001.run_2.hdf5\n",
            ". count_no_improvement = 8\n",
            "Epoch 49/271\n",
            "150/150 [==============================] - 41s 273ms/step - loss: 3.7341 - accuracy: 0.8569 - val_loss: 4.0066 - val_accuracy: 0.8704\n",
            "\n",
            "Epoch 00049: saving model to drive/My Drive/Texture/Bark-101-anonymized/Records/weights.Bark_101.DataAug.rgb.256p.TTV.DataFlow.pad0.TL.3D.DenseNet201.wInit.imagenet.TrainableAfter.allDefault.Dense.1024.1024.2048.actF.elu.opt.Adam.drop.0.5.batch8.Flatten.l2.0.001.run_2.hdf5\n",
            ". count_no_improvement = 9\n",
            "Epoch 50/271\n",
            "150/150 [==============================] - 48s 322ms/step - loss: 3.6475 - accuracy: 0.8778 - val_loss: 3.9540 - val_accuracy: 0.8704\n",
            "\n",
            "Epoch 00050: saving model to drive/My Drive/Texture/Bark-101-anonymized/Records/weights.Bark_101.DataAug.rgb.256p.TTV.DataFlow.pad0.TL.3D.DenseNet201.wInit.imagenet.TrainableAfter.allDefault.Dense.1024.1024.2048.actF.elu.opt.Adam.drop.0.5.batch8.Flatten.l2.0.001.run_2.hdf5\n",
            ". count_no_improvement = 10\n",
            "Epoch 51/271\n",
            "150/150 [==============================] - 41s 274ms/step - loss: 3.6670 - accuracy: 0.8728 - val_loss: 3.9728 - val_accuracy: 0.8657\n",
            "\n",
            "Epoch 00051: saving model to drive/My Drive/Texture/Bark-101-anonymized/Records/weights.Bark_101.DataAug.rgb.256p.TTV.DataFlow.pad0.TL.3D.DenseNet201.wInit.imagenet.TrainableAfter.allDefault.Dense.1024.1024.2048.actF.elu.opt.Adam.drop.0.5.batch8.Flatten.l2.0.001.run_2.hdf5\n",
            ". count_no_improvement = 11\n",
            "Epoch 52/271\n",
            "150/150 [==============================] - 49s 325ms/step - loss: 3.6746 - accuracy: 0.8711 - val_loss: 4.0231 - val_accuracy: 0.8611\n",
            "\n",
            "Epoch 00052: saving model to drive/My Drive/Texture/Bark-101-anonymized/Records/weights.Bark_101.DataAug.rgb.256p.TTV.DataFlow.pad0.TL.3D.DenseNet201.wInit.imagenet.TrainableAfter.allDefault.Dense.1024.1024.2048.actF.elu.opt.Adam.drop.0.5.batch8.Flatten.l2.0.001.run_2.hdf5\n",
            ". count_no_improvement = 12\n",
            "Epoch 53/271\n",
            "150/150 [==============================] - 49s 322ms/step - loss: 3.6582 - accuracy: 0.8812 - val_loss: 4.0113 - val_accuracy: 0.8843\n",
            "\n",
            "Epoch 00053: saving model to drive/My Drive/Texture/Bark-101-anonymized/Records/weights.Bark_101.DataAug.rgb.256p.TTV.DataFlow.pad0.TL.3D.DenseNet201.wInit.imagenet.TrainableAfter.allDefault.Dense.1024.1024.2048.actF.elu.opt.Adam.drop.0.5.batch8.Flatten.l2.0.001.run_2.hdf5\n",
            ". count_no_improvement = 13\n",
            "Epoch 54/271\n",
            "150/150 [==============================] - 41s 273ms/step - loss: 3.7084 - accuracy: 0.8728 - val_loss: 3.9896 - val_accuracy: 0.8704\n",
            "\n",
            "Epoch 00054: saving model to drive/My Drive/Texture/Bark-101-anonymized/Records/weights.Bark_101.DataAug.rgb.256p.TTV.DataFlow.pad0.TL.3D.DenseNet201.wInit.imagenet.TrainableAfter.allDefault.Dense.1024.1024.2048.actF.elu.opt.Adam.drop.0.5.batch8.Flatten.l2.0.001.run_2.hdf5\n",
            ". count_no_improvement = 14\n",
            "Epoch 55/271\n",
            "150/150 [==============================] - 49s 324ms/step - loss: 3.6748 - accuracy: 0.8661 - val_loss: 4.0511 - val_accuracy: 0.8426\n",
            "\n",
            "Epoch 00055: saving model to drive/My Drive/Texture/Bark-101-anonymized/Records/weights.Bark_101.DataAug.rgb.256p.TTV.DataFlow.pad0.TL.3D.DenseNet201.wInit.imagenet.TrainableAfter.allDefault.Dense.1024.1024.2048.actF.elu.opt.Adam.drop.0.5.batch8.Flatten.l2.0.001.run_2.hdf5\n",
            ". count_no_improvement = 15\n",
            "Epoch 56/271\n",
            "150/150 [==============================] - 41s 275ms/step - loss: 3.5981 - accuracy: 0.8912 - val_loss: 4.0826 - val_accuracy: 0.8565\n",
            "\n",
            "Epoch 00056: saving model to drive/My Drive/Texture/Bark-101-anonymized/Records/weights.Bark_101.DataAug.rgb.256p.TTV.DataFlow.pad0.TL.3D.DenseNet201.wInit.imagenet.TrainableAfter.allDefault.Dense.1024.1024.2048.actF.elu.opt.Adam.drop.0.5.batch8.Flatten.l2.0.001.run_2.hdf5\n",
            ". count_no_improvement = 16\n",
            "Epoch 57/271\n",
            "150/150 [==============================] - 46s 307ms/step - loss: 3.5644 - accuracy: 0.8954 - val_loss: 3.9963 - val_accuracy: 0.8657\n",
            "\n",
            "Epoch 00057: saving model to drive/My Drive/Texture/Bark-101-anonymized/Records/weights.Bark_101.DataAug.rgb.256p.TTV.DataFlow.pad0.TL.3D.DenseNet201.wInit.imagenet.TrainableAfter.allDefault.Dense.1024.1024.2048.actF.elu.opt.Adam.drop.0.5.batch8.Flatten.l2.0.001.run_2.hdf5\n",
            ". count_no_improvement = 17\n",
            "Epoch 58/271\n",
            "150/150 [==============================] - 48s 319ms/step - loss: 3.6003 - accuracy: 0.8937 - val_loss: 4.0942 - val_accuracy: 0.8472\n",
            "\n",
            "Epoch 00058: saving model to drive/My Drive/Texture/Bark-101-anonymized/Records/weights.Bark_101.DataAug.rgb.256p.TTV.DataFlow.pad0.TL.3D.DenseNet201.wInit.imagenet.TrainableAfter.allDefault.Dense.1024.1024.2048.actF.elu.opt.Adam.drop.0.5.batch8.Flatten.l2.0.001.run_2.hdf5\n",
            ". count_no_improvement = 18\n",
            "Epoch 59/271\n",
            "150/150 [==============================] - 48s 321ms/step - loss: 3.5610 - accuracy: 0.8987 - val_loss: 4.0014 - val_accuracy: 0.8611\n",
            "\n",
            "Epoch 00059: saving model to drive/My Drive/Texture/Bark-101-anonymized/Records/weights.Bark_101.DataAug.rgb.256p.TTV.DataFlow.pad0.TL.3D.DenseNet201.wInit.imagenet.TrainableAfter.allDefault.Dense.1024.1024.2048.actF.elu.opt.Adam.drop.0.5.batch8.Flatten.l2.0.001.run_2.hdf5\n",
            ". count_no_improvement = 19\n",
            "Epoch 60/271\n",
            "150/150 [==============================] - 48s 320ms/step - loss: 3.5478 - accuracy: 0.9004 - val_loss: 3.9613 - val_accuracy: 0.8704\n",
            "\n",
            "Epoch 00060: saving model to drive/My Drive/Texture/Bark-101-anonymized/Records/weights.Bark_101.DataAug.rgb.256p.TTV.DataFlow.pad0.TL.3D.DenseNet201.wInit.imagenet.TrainableAfter.allDefault.Dense.1024.1024.2048.actF.elu.opt.Adam.drop.0.5.batch8.Flatten.l2.0.001.run_2.hdf5\n",
            ". count_no_improvement = 20\n",
            "Epoch 61/271\n",
            "150/150 [==============================] - 41s 273ms/step - loss: 3.5628 - accuracy: 0.8971 - val_loss: 3.9328 - val_accuracy: 0.8611\n",
            "\n",
            "Epoch 00061: saving model to drive/My Drive/Texture/Bark-101-anonymized/Records/weights.Bark_101.DataAug.rgb.256p.TTV.DataFlow.pad0.TL.3D.DenseNet201.wInit.imagenet.TrainableAfter.allDefault.Dense.1024.1024.2048.actF.elu.opt.Adam.drop.0.5.batch8.Flatten.l2.0.001.run_2.hdf5\n",
            ". count_no_improvement = 21\n",
            "Epoch 62/271\n",
            "150/150 [==============================] - 48s 318ms/step - loss: 3.5216 - accuracy: 0.9046 - val_loss: 4.0413 - val_accuracy: 0.8565\n",
            "\n",
            "Epoch 00062: saving model to drive/My Drive/Texture/Bark-101-anonymized/Records/weights.Bark_101.DataAug.rgb.256p.TTV.DataFlow.pad0.TL.3D.DenseNet201.wInit.imagenet.TrainableAfter.allDefault.Dense.1024.1024.2048.actF.elu.opt.Adam.drop.0.5.batch8.Flatten.l2.0.001.run_2.hdf5\n",
            ". count_no_improvement = 22\n",
            "Epoch 63/271\n",
            "150/150 [==============================] - 41s 274ms/step - loss: 3.5176 - accuracy: 0.9138 - val_loss: 3.9624 - val_accuracy: 0.8565\n",
            "\n",
            "Epoch 00063: saving model to drive/My Drive/Texture/Bark-101-anonymized/Records/weights.Bark_101.DataAug.rgb.256p.TTV.DataFlow.pad0.TL.3D.DenseNet201.wInit.imagenet.TrainableAfter.allDefault.Dense.1024.1024.2048.actF.elu.opt.Adam.drop.0.5.batch8.Flatten.l2.0.001.run_2.hdf5\n",
            ". count_no_improvement = 23\n",
            "Epoch 64/271\n",
            "150/150 [==============================] - 49s 323ms/step - loss: 3.5439 - accuracy: 0.9088 - val_loss: 3.9488 - val_accuracy: 0.8519\n",
            "\n",
            "Epoch 00064: saving model to drive/My Drive/Texture/Bark-101-anonymized/Records/weights.Bark_101.DataAug.rgb.256p.TTV.DataFlow.pad0.TL.3D.DenseNet201.wInit.imagenet.TrainableAfter.allDefault.Dense.1024.1024.2048.actF.elu.opt.Adam.drop.0.5.batch8.Flatten.l2.0.001.run_2.hdf5\n",
            ". count_no_improvement = 24\n",
            "Epoch 65/271\n",
            "150/150 [==============================] - 49s 323ms/step - loss: 3.5525 - accuracy: 0.9029 - val_loss: 3.9830 - val_accuracy: 0.8611\n",
            "\n",
            "Epoch 00065: saving model to drive/My Drive/Texture/Bark-101-anonymized/Records/weights.Bark_101.DataAug.rgb.256p.TTV.DataFlow.pad0.TL.3D.DenseNet201.wInit.imagenet.TrainableAfter.allDefault.Dense.1024.1024.2048.actF.elu.opt.Adam.drop.0.5.batch8.Flatten.l2.0.001.run_2.hdf5\n",
            ". count_no_improvement = 25\n",
            "Epoch 66/271\n",
            "150/150 [==============================] - 41s 273ms/step - loss: 3.5658 - accuracy: 0.9038 - val_loss: 3.9890 - val_accuracy: 0.8611\n",
            "\n",
            "Epoch 00066: saving model to drive/My Drive/Texture/Bark-101-anonymized/Records/weights.Bark_101.DataAug.rgb.256p.TTV.DataFlow.pad0.TL.3D.DenseNet201.wInit.imagenet.TrainableAfter.allDefault.Dense.1024.1024.2048.actF.elu.opt.Adam.drop.0.5.batch8.Flatten.l2.0.001.run_2.hdf5\n",
            "\n",
            "Error: name 'count_no_improvement' is not defined\n"
          ],
          "name": "stdout"
        }
      ]
    },
    {
      "cell_type": "code",
      "metadata": {
        "id": "UJsgsZFzQCs2"
      },
      "source": [
        "# weights.Bark_101.DataAug.rgb.256p.TTV.DataFlow.pad0.TL.3D.DenseNet201.wInit.imagenet.TrainableAfter.allDefault.Dense.1024.1024.2048.actF.elu.opt.Adam.drop.0.5.batch16.Flatten.l2.0.001.run_1.hdf5\n"
      ],
      "execution_count": 26,
      "outputs": []
    },
    {
      "cell_type": "code",
      "metadata": {
        "id": "l_xKnoFvFQ4F",
        "colab": {
          "base_uri": "https://localhost:8080/",
          "height": 72
        },
        "outputId": "34238902-fda6-47fb-b8c6-0e011f7cf47a"
      },
      "source": [
        "'''\n",
        "Record: : (41.9%)\n",
        ";\n",
        "---\n",
        "\n",
        "#'''\n",
        "'''\n",
        "csv_logger = CSVLogger(work_dir+log_name, separator=',', append=True)\n",
        "log_data = pd.read_csv(work_dir+log_name, sep=',', usecols=['epoch'], engine='python')\n",
        "epochs_completed = log_data.shape[0]\n",
        "\n",
        "result = model.evaluate(test_generator, steps=total_test_data // BATCH_SIZE)\n",
        "print(\"Test Acc: {}, Test Loss: {}: ep{}, {}\\n\".format(round(result[1],4), round(result[0],4), epochs_completed, checkpointer_name))\n",
        "#'''"
      ],
      "execution_count": 27,
      "outputs": [
        {
          "output_type": "execute_result",
          "data": {
            "application/vnd.google.colaboratory.intrinsic+json": {
              "type": "string"
            },
            "text/plain": [
              "'\\ncsv_logger = CSVLogger(work_dir+log_name, separator=\\',\\', append=True)\\nlog_data = pd.read_csv(work_dir+log_name, sep=\\',\\', usecols=[\\'epoch\\'], engine=\\'python\\')\\nepochs_completed = log_data.shape[0]\\n\\nresult = model.evaluate(test_generator, steps=total_test_data // BATCH_SIZE)\\nprint(\"Test Acc: {}, Test Loss: {}: ep{}, {}\\n\".format(round(result[1],4), round(result[0],4), epochs_completed, checkpointer_name))\\n#'"
            ]
          },
          "metadata": {
            "tags": []
          },
          "execution_count": 27
        }
      ]
    },
    {
      "cell_type": "code",
      "metadata": {
        "id": "IQM7JieEFQ1G",
        "colab": {
          "base_uri": "https://localhost:8080/"
        },
        "outputId": "8af1629e-c6b8-4072-eb3d-b8bc4a9c6bf1"
      },
      "source": [
        "#checkpointer_name = \"weights.Fashion.DenseNet121.wInit.None.TrainableAfterallDefault.opt.SGD.drop.0.0.batch32.Flatten.run_1.hdf5\"\n",
        "model_loaded = load_model(work_dir+\"best_\"+checkpointer_name)\n",
        "print(\"Loaded \"+work_dir+\"best_\"+checkpointer_name+\".\")"
      ],
      "execution_count": 28,
      "outputs": [
        {
          "output_type": "stream",
          "text": [
            "Loaded drive/My Drive/Texture/Bark-101-anonymized/Records/best_weights.Bark_101.DataAug.rgb.256p.TTV.DataFlow.pad0.TL.3D.DenseNet201.wInit.imagenet.TrainableAfter.allDefault.Dense.1024.1024.2048.actF.elu.opt.Adam.drop.0.5.batch8.Flatten.l2.0.001.run_2.hdf5.\n"
          ],
          "name": "stdout"
        }
      ]
    },
    {
      "cell_type": "code",
      "metadata": {
        "id": "chvVsOEgRfsO",
        "colab": {
          "base_uri": "https://localhost:8080/"
        },
        "outputId": "9ade1038-495b-4804-ff9b-9c23fac3dc11"
      },
      "source": [
        "'''\n",
        "Record: Bark_101_impl_3_RGB_DataAug_TrainTestVal_Dense201_Custom_withImageNet_DataFlow: (41.9%)\n",
        ";\n",
        "---\n",
        "Test Acc: 0.5606, Test Loss: 5.7634: ep29, best_weights.Bark_101.DataAug.rgb.256p.TTV.DataFlow.pad0.TL.3D.DenseNet201.wInit.imagenet.TrainableAfter.allDefault.Dense.1024.1024.2048.actF.elu.opt.Adam.drop.0.5.batch8.Flatten.l2.0.001.run_2.hdf5\n",
        "\n",
        "#'''\n",
        "'''\n",
        "csv_logger = CSVLogger(work_dir+log_name, separator=',', append=True)\n",
        "log_data = pd.read_csv(work_dir+log_name, sep=',', usecols=['epoch'], engine='python')\n",
        "epochs_completed = log_data.shape[0]\n",
        "#'''\n",
        "\n",
        "result2 = model_loaded.evaluate(test_generator, steps=total_test_data // BATCH_SIZE)\n",
        "#print(\"nLayers: {}, nNeurons: {}, DROPOUT: {}, Test Acc: {}, Test Loss: {}\".format(NUM_LAYERS, NUM_NEURONS, DROPOUT, round(result2[1], 4), round(result2[0], 4)))\n",
        "print(\"Test Acc: {}, Test Loss: {}: ep{}, {}\\n\".format(round(result2[1],4), round(result2[0],4), epochs_completed, \"best_\"+checkpointer_name))\n"
      ],
      "execution_count": 29,
      "outputs": [
        {
          "output_type": "stream",
          "text": [
            "161/161 [==============================] - 17s 88ms/step - loss: 5.7634 - accuracy: 0.5606\n",
            "Test Acc: 0.5606, Test Loss: 5.7634: ep29, best_weights.Bark_101.DataAug.rgb.256p.TTV.DataFlow.pad0.TL.3D.DenseNet201.wInit.imagenet.TrainableAfter.allDefault.Dense.1024.1024.2048.actF.elu.opt.Adam.drop.0.5.batch8.Flatten.l2.0.001.run_2.hdf5\n",
            "\n"
          ],
          "name": "stdout"
        }
      ]
    },
    {
      "cell_type": "code",
      "metadata": {
        "id": "z1GzwpODRlRf",
        "colab": {
          "base_uri": "https://localhost:8080/"
        },
        "outputId": "ebb3224a-214d-4e37-dcac-4f1092cf80f8"
      },
      "source": [
        "import csv\n",
        "\n",
        "with open(work_dir+'Records.csv', \"a\") as fp:\n",
        "    wr = csv.writer(fp, dialect='excel')\n",
        "    try:\n",
        "        wr.writerow([checkpointer_name[8:-5], round(result2[1], 4), round(result2[0], 4), elapsed_time])\n",
        "    except:\n",
        "        wr.writerow([checkpointer_name[8:-5], round(result2[1], 4), round(result2[0], 4)])\n",
        "print(\"Saved results.\")"
      ],
      "execution_count": 30,
      "outputs": [
        {
          "output_type": "stream",
          "text": [
            "Saved results.\n"
          ],
          "name": "stdout"
        }
      ]
    },
    {
      "cell_type": "code",
      "metadata": {
        "id": "Dv35-hm1Rfv5"
      },
      "source": [
        ""
      ],
      "execution_count": 30,
      "outputs": []
    },
    {
      "cell_type": "code",
      "metadata": {
        "id": "r41Tx24EuA8A",
        "colab": {
          "base_uri": "https://localhost:8080/"
        },
        "outputId": "1ae893a6-efdc-4d97-b9dc-f3d9c8e46f3f"
      },
      "source": [
        "#Confution Matrix and Classification Report\n",
        "#'''\n",
        "Y_pred = model_loaded.predict_generator(test_generator, verbose=1)\n",
        "#'''\n",
        "#'''\n",
        "save_predictions_filename = f\"Y_pred.{checkpointer_name[8:-5]}\"\n",
        "np.save(f\"{work_dir}{save_predictions_filename}\", Y_pred, allow_pickle=True)\n",
        "print(f\"Saved: {work_dir}{save_predictions_filename}\")\n",
        "#'''"
      ],
      "execution_count": 31,
      "outputs": [
        {
          "output_type": "stream",
          "text": [
            "/usr/local/lib/python3.7/dist-packages/tensorflow/python/keras/engine/training.py:2001: UserWarning: `Model.predict_generator` is deprecated and will be removed in a future version. Please use `Model.predict`, which supports generators.\n",
            "  warnings.warn('`Model.predict_generator` is deprecated and '\n"
          ],
          "name": "stderr"
        },
        {
          "output_type": "stream",
          "text": [
            "162/162 [==============================] - 18s 98ms/step\n",
            "Saved: drive/My Drive/Texture/Bark-101-anonymized/Records/Y_pred.Bark_101.DataAug.rgb.256p.TTV.DataFlow.pad0.TL.3D.DenseNet201.wInit.imagenet.TrainableAfter.allDefault.Dense.1024.1024.2048.actF.elu.opt.Adam.drop.0.5.batch8.Flatten.l2.0.001.run_2\n"
          ],
          "name": "stdout"
        }
      ]
    },
    {
      "cell_type": "code",
      "metadata": {
        "id": "RCOqGtOtSVG5",
        "colab": {
          "base_uri": "https://localhost:8080/",
          "height": 54
        },
        "outputId": "0db265a4-7b8e-4b41-b056-538dac0c6841"
      },
      "source": [
        "'''\n",
        "save_predictions_filename = f\"Y_pred.{checkpointer_name[8:-5]}\"\n",
        "np.save(f\"{work_dir}{save_predictions_filename}\", Y_pred, allow_pickle=True)\n",
        "print(f\"Saved: {work_dir}{save_predictions_filename}\")\n",
        "#'''"
      ],
      "execution_count": 32,
      "outputs": [
        {
          "output_type": "execute_result",
          "data": {
            "application/vnd.google.colaboratory.intrinsic+json": {
              "type": "string"
            },
            "text/plain": [
              "'\\nsave_predictions_filename = f\"Y_pred.{checkpointer_name[8:-5]}\"\\nnp.save(f\"{work_dir}{save_predictions_filename}\", Y_pred, allow_pickle=True)\\nprint(f\"Saved: {work_dir}{save_predictions_filename}\")\\n#'"
            ]
          },
          "metadata": {
            "tags": []
          },
          "execution_count": 32
        }
      ]
    },
    {
      "cell_type": "code",
      "metadata": {
        "id": "f5DLKM2YTGiR",
        "colab": {
          "base_uri": "https://localhost:8080/"
        },
        "outputId": "51b82716-cfbb-4f3e-c8d4-ec0acd6a18f2"
      },
      "source": [
        "#Y_pred_loaded = np.load(f\"{work_dir}{save_predictions_filename_2}.npy\", allow_pickle=True)\n",
        "Y_pred_loaded = np.load(f\"{work_dir}{save_predictions_filename}.npy\", allow_pickle=True)\n",
        "print(f\"Y_pred_loaded.shape = {Y_pred_loaded.shape}\")"
      ],
      "execution_count": 33,
      "outputs": [
        {
          "output_type": "stream",
          "text": [
            "Y_pred_loaded.shape = (1295, 101)\n"
          ],
          "name": "stdout"
        }
      ]
    },
    {
      "cell_type": "code",
      "metadata": {
        "id": "sKVblYYLTR8O"
      },
      "source": [
        ""
      ],
      "execution_count": 33,
      "outputs": []
    },
    {
      "cell_type": "code",
      "metadata": {
        "id": "vPVcI8W8uVxT"
      },
      "source": [
        "y_pred = np.argmax(Y_pred_loaded, axis=1)"
      ],
      "execution_count": 34,
      "outputs": []
    },
    {
      "cell_type": "code",
      "metadata": {
        "id": "EWjMUxOC_idw"
      },
      "source": [
        "y_true = test_generator.classes"
      ],
      "execution_count": 35,
      "outputs": []
    },
    {
      "cell_type": "code",
      "metadata": {
        "id": "9AnENPzD_XCi",
        "colab": {
          "base_uri": "https://localhost:8080/"
        },
        "outputId": "f5bee82a-e542-45c5-d9a8-5eb41783996f"
      },
      "source": [
        "list_class_names_in_generator = list(test_generator.class_indices.keys())\n",
        "list_class_names_in_generator[:5]"
      ],
      "execution_count": 36,
      "outputs": [
        {
          "output_type": "execute_result",
          "data": {
            "text/plain": [
              "['0', '1', '10', '100', '11']"
            ]
          },
          "metadata": {
            "tags": []
          },
          "execution_count": 36
        }
      ]
    },
    {
      "cell_type": "code",
      "metadata": {
        "id": "g9ECGTlXdLEY",
        "colab": {
          "base_uri": "https://localhost:8080/"
        },
        "outputId": "972f05c7-75a2-4a72-b5f6-60be489e3e30"
      },
      "source": [
        "len(list_class_names_in_generator)"
      ],
      "execution_count": 37,
      "outputs": [
        {
          "output_type": "execute_result",
          "data": {
            "text/plain": [
              "101"
            ]
          },
          "metadata": {
            "tags": []
          },
          "execution_count": 37
        }
      ]
    },
    {
      "cell_type": "code",
      "metadata": {
        "id": "7c1QqkvSB4rw"
      },
      "source": [
        "list_y_true_rearranged = []\n",
        "list_y_pred_rearranged = []\n",
        "\n",
        "for true_class,pred_class in zip(y_true,y_pred):\n",
        "    #print(f\"true_class = {true_class}; pred_class = {pred_class}\")\n",
        "    #y_true_rearranged = int(list_class_names_in_generator[true_class][5:])\n",
        "    #y_pred_rearranged = int(list_class_names_in_generator[pred_class][5:])\n",
        "\n",
        "    y_true_rearranged = int(list_class_names_in_generator[true_class])\n",
        "    y_pred_rearranged = int(list_class_names_in_generator[pred_class])\n",
        "\n",
        "    list_y_true_rearranged.append(y_true_rearranged)\n",
        "    list_y_pred_rearranged.append(y_pred_rearranged)"
      ],
      "execution_count": 38,
      "outputs": []
    },
    {
      "cell_type": "code",
      "metadata": {
        "id": "twUaOkzO_lYu",
        "colab": {
          "base_uri": "https://localhost:8080/"
        },
        "outputId": "5287472f-c84a-454f-ea09-0c852dcdf09c"
      },
      "source": [
        "np_y_true_rearranged = np.array(list_y_true_rearranged)\n",
        "np_y_pred_rearranged = np.array(list_y_pred_rearranged)\n",
        "\n",
        "print(f\"np_y_true_rearranged.shape = {np_y_true_rearranged.shape}\")\n",
        "print(f\"np_y_pred_rearranged.shape = {np_y_pred_rearranged.shape}\")\n",
        "print(f\"np_y_true_rearranged: {np_y_true_rearranged}\")\n",
        "print(f\"np_y_pred_rearranged: {np_y_pred_rearranged}\")"
      ],
      "execution_count": 39,
      "outputs": [
        {
          "output_type": "stream",
          "text": [
            "np_y_true_rearranged.shape = (1295,)\n",
            "np_y_pred_rearranged.shape = (1295,)\n",
            "np_y_true_rearranged: [ 0  0  0 ... 99 99 99]\n",
            "np_y_pred_rearranged: [ 2 12  4 ... 99 99 51]\n"
          ],
          "name": "stdout"
        }
      ]
    },
    {
      "cell_type": "code",
      "metadata": {
        "id": "LxgBOkM5Es08",
        "colab": {
          "base_uri": "https://localhost:8080/"
        },
        "outputId": "27d18bcf-1168-4c98-d86f-6c8602166599"
      },
      "source": [
        "print(f\"np_y_true_rearranged.shape = {np_y_true_rearranged.shape}\\n\")\n",
        "\n",
        "index = -5\n",
        "print(f\"y_true[{index}:] = {y_true[index:]}\")\n",
        "print(f\"y_pred[{index}:] = {y_pred[index:]}\\n\")\n",
        "print(f\"np_y_true_rearranged[{index}:] = {np_y_true_rearranged[index:]}\")\n",
        "print(f\"np_y_pred_rearranged[{index}:] = {np_y_pred_rearranged[index:]}\\n\")\n",
        "print(f\"np.unique(np_y_true_rearranged) = {np.unique(np_y_true_rearranged)}\")\n",
        "print(f\"np.unique(np_y_pred_rearranged) = {np.unique(np_y_pred_rearranged)}\")"
      ],
      "execution_count": 40,
      "outputs": [
        {
          "output_type": "stream",
          "text": [
            "np_y_true_rearranged.shape = (1295,)\n",
            "\n",
            "y_true[-5:] = [100 100 100 100 100]\n",
            "y_pred[-5:] = [  4 100 100 100  48]\n",
            "\n",
            "np_y_true_rearranged[-5:] = [99 99 99 99 99]\n",
            "np_y_pred_rearranged[-5:] = [11 99 99 99 51]\n",
            "\n",
            "np.unique(np_y_true_rearranged) = [  0   1   2   3   4   5   6   7   8   9  10  11  12  13  14  15  16  17\n",
            "  18  19  20  21  22  23  24  25  26  27  28  29  30  31  32  33  34  35\n",
            "  36  37  38  39  40  41  42  43  44  45  46  47  48  49  50  51  52  53\n",
            "  54  55  56  57  58  59  60  61  62  63  64  65  66  67  68  69  70  71\n",
            "  72  73  74  75  76  77  78  79  80  81  82  83  84  85  86  87  88  89\n",
            "  90  91  92  93  94  95  96  97  98  99 100]\n",
            "np.unique(np_y_pred_rearranged) = [  0   2   3   4   5   6   7   8   9  11  12  13  14  15  16  17  19  20\n",
            "  21  22  23  25  26  28  29  30  31  33  35  36  38  39  40  41  42  44\n",
            "  45  46  47  49  50  51  53  54  55  56  57  58  60  61  62  63  64  65\n",
            "  66  67  69  71  72  73  75  77  78  79  80  82  83  84  86  87  88  89\n",
            "  90  91  93  94  95  96  99 100]\n"
          ],
          "name": "stdout"
        }
      ]
    },
    {
      "cell_type": "code",
      "metadata": {
        "id": "yo2maYGREHa1"
      },
      "source": [
        ""
      ],
      "execution_count": 40,
      "outputs": []
    },
    {
      "cell_type": "code",
      "metadata": {
        "id": "ATQ8O5enuJcA",
        "colab": {
          "base_uri": "https://localhost:8080/"
        },
        "outputId": "f51e30cc-9ed1-42ab-b960-2d00c2b35227"
      },
      "source": [
        "conf_matrix = sklearn.metrics.confusion_matrix(np_y_true_rearranged, np_y_pred_rearranged)\n",
        "print(f\"Confusion Matrix:\\n{conf_matrix}\")"
      ],
      "execution_count": 41,
      "outputs": [
        {
          "output_type": "stream",
          "text": [
            "Confusion Matrix:\n",
            "[[ 8  0  1 ...  0  0  0]\n",
            " [ 0  0  0 ...  0  0  0]\n",
            " [ 1  0  6 ...  0  0  0]\n",
            " ...\n",
            " [ 0  0  0 ...  0  0  0]\n",
            " [ 0  0  0 ...  0 17  0]\n",
            " [ 0  0  0 ...  0  0  2]]\n"
          ],
          "name": "stdout"
        }
      ]
    },
    {
      "cell_type": "code",
      "metadata": {
        "id": "iWt92DPh8BIG",
        "colab": {
          "base_uri": "https://localhost:8080/",
          "height": 294
        },
        "outputId": "96046a4c-60cc-451d-d8bd-791af78a051b"
      },
      "source": [
        "#plt.figure(figsize = (30,30))\n",
        "plt.matshow(conf_matrix)"
      ],
      "execution_count": 42,
      "outputs": [
        {
          "output_type": "execute_result",
          "data": {
            "text/plain": [
              "<matplotlib.image.AxesImage at 0x7f2177f0b810>"
            ]
          },
          "metadata": {
            "tags": []
          },
          "execution_count": 42
        },
        {
          "output_type": "display_data",
          "data": {
            "image/png": "[encoded data removed]",
            "text/plain": [
              "<Figure size 288x288 with 1 Axes>"
            ]
          },
          "metadata": {
            "tags": [],
            "needs_background": "light"
          }
        }
      ]
    },
    {
      "cell_type": "code",
      "metadata": {
        "id": "qYbVekfx9Qk-"
      },
      "source": [
        "df_conf_matrix = pd.DataFrame(conf_matrix, index = [f\"Class {i+1}\" for i in range(num_classes)],\n",
        "                  columns = [f\"Class {i+1}\" for i in range(num_classes)])"
      ],
      "execution_count": 43,
      "outputs": []
    },
    {
      "cell_type": "code",
      "metadata": {
        "id": "bhhb_ykf7mGr",
        "colab": {
          "base_uri": "https://localhost:8080/",
          "height": 924
        },
        "outputId": "1fa2b7a4-f3e4-4ba1-c87d-e711bf8479aa"
      },
      "source": [
        "title = \"Confusion matrix for \"+dataset+\" \"+impl_type+\"\\n\"\n",
        "plt.figure(figsize = (30,15))\n",
        "plt.title(title)\n",
        "sn.heatmap(df_conf_matrix, annot=True)\n",
        "\n",
        "img_path = work_dir+'Images/conf_matrix_'+checkpointer_name[8:-5]+'.png'\n",
        "plt.savefig(img_path, dpi=600)\n",
        "print(f\"img_path = {img_path}\")"
      ],
      "execution_count": 44,
      "outputs": [
        {
          "output_type": "stream",
          "text": [
            "img_path = drive/My Drive/Texture/Bark-101-anonymized/Records/Images/conf_matrix_Bark_101.DataAug.rgb.256p.TTV.DataFlow.pad0.TL.3D.DenseNet201.wInit.imagenet.TrainableAfter.allDefault.Dense.1024.1024.2048.actF.elu.opt.Adam.drop.0.5.batch8.Flatten.l2.0.001.run_2.png\n"
          ],
          "name": "stdout"
        },
        {
          "output_type": "display_data",
          "data": {
            "image/png": "[encoded data removed]",
            "text/plain": [
              "<Figure size 2160x1080 with 2 Axes>"
            ]
          },
          "metadata": {
            "tags": [],
            "needs_background": "light"
          }
        }
      ]
    },
    {
      "cell_type": "code",
      "metadata": {
        "id": "OyvlKAMW-q4-"
      },
      "source": [
        ""
      ],
      "execution_count": 44,
      "outputs": []
    },
    {
      "cell_type": "code",
      "metadata": {
        "id": "hgY4v21DyQwL",
        "colab": {
          "base_uri": "https://localhost:8080/",
          "height": 54
        },
        "outputId": "34bf4164-1bd5-4415-8df7-d39147227b33"
      },
      "source": [
        "#Confution Matrix and Classification Report\n",
        "'''\n",
        "Y_pred = model_loaded.predict_generator(final_test_imageset, len(final_test_imageset))\n",
        "y_pred = np.argmax(Y_pred, axis=1)\n",
        "print('Confusion Matrix')\n",
        "print(sklearn.metrics.confusion_matrix(np_test_label, y_pred))\n",
        "#'''"
      ],
      "execution_count": 45,
      "outputs": [
        {
          "output_type": "execute_result",
          "data": {
            "application/vnd.google.colaboratory.intrinsic+json": {
              "type": "string"
            },
            "text/plain": [
              "\"\\nY_pred = model_loaded.predict_generator(final_test_imageset, len(final_test_imageset))\\ny_pred = np.argmax(Y_pred, axis=1)\\nprint('Confusion Matrix')\\nprint(sklearn.metrics.confusion_matrix(np_test_label, y_pred))\\n#\""
            ]
          },
          "metadata": {
            "tags": []
          },
          "execution_count": 45
        }
      ]
    },
    {
      "cell_type": "code",
      "metadata": {
        "id": "U5j7b3KcRvwj",
        "colab": {
          "base_uri": "https://localhost:8080/",
          "height": 36
        },
        "outputId": "b0bbc7ba-40fb-4330-e5bc-f7717e5655e9"
      },
      "source": [
        "# Precision [TP/TP+FP] = The ratio of correctly predicted positive observations to the total predicted positive observations.\n",
        "# Recall (Sensitivity) [TP/TP+FN] = The ratio of correctly predicted positive observations to the all observations in actual class - 'yes'.\n",
        "# F1 score [F1 Score = 2*(Recall * Precision) / (Recall + Precision)] = The weighted average of Precision and Recall.\n",
        "# Support = The number of samples of the true response that lie in that class.\n",
        "'''\n",
        "print('Classification Report:')\n",
        "print(sklearn.metrics.classification_report(test_generator.classes, y_pred))\n",
        "#'''"
      ],
      "execution_count": 46,
      "outputs": [
        {
          "output_type": "execute_result",
          "data": {
            "application/vnd.google.colaboratory.intrinsic+json": {
              "type": "string"
            },
            "text/plain": [
              "\"\\nprint('Classification Report:')\\nprint(sklearn.metrics.classification_report(test_generator.classes, y_pred))\\n#\""
            ]
          },
          "metadata": {
            "tags": []
          },
          "execution_count": 46
        }
      ]
    },
    {
      "cell_type": "code",
      "metadata": {
        "id": "jTwSA-kRYavk"
      },
      "source": [
        ""
      ],
      "execution_count": 46,
      "outputs": []
    },
    {
      "cell_type": "code",
      "metadata": {
        "id": "AaZZkLXW6Vb8",
        "colab": {
          "base_uri": "https://localhost:8080/"
        },
        "outputId": "1ea1e947-cbac-4026-80b2-7e9ce3fdf0a3"
      },
      "source": [
        "test_generator.class_indices.keys()"
      ],
      "execution_count": 47,
      "outputs": [
        {
          "output_type": "execute_result",
          "data": {
            "text/plain": [
              "dict_keys(['0', '1', '10', '100', '11', '12', '13', '14', '15', '16', '17', '18', '19', '2', '20', '21', '22', '23', '24', '25', '26', '27', '28', '29', '3', '30', '31', '32', '33', '34', '35', '36', '37', '38', '39', '4', '40', '41', '42', '43', '44', '45', '46', '47', '48', '49', '5', '50', '51', '52', '53', '54', '55', '56', '57', '58', '59', '6', '60', '61', '62', '63', '64', '65', '66', '67', '68', '69', '7', '70', '71', '72', '73', '74', '75', '76', '77', '78', '79', '8', '80', '81', '82', '83', '84', '85', '86', '87', '88', '89', '9', '90', '91', '92', '93', '94', '95', '96', '97', '98', '99'])"
            ]
          },
          "metadata": {
            "tags": []
          },
          "execution_count": 47
        }
      ]
    },
    {
      "cell_type": "code",
      "metadata": {
        "id": "ceGRitu9RvzV",
        "colab": {
          "base_uri": "https://localhost:8080/"
        },
        "outputId": "3c3fd32a-fe4e-42d3-b068-aa7ad2c6734f"
      },
      "source": [
        "#'''\n",
        "print('Classification Report')\n",
        "print(sklearn.metrics.classification_report(np_y_true_rearranged, np_y_pred_rearranged, target_names=test_generator.class_indices.keys()))\n",
        "#'''"
      ],
      "execution_count": 48,
      "outputs": [
        {
          "output_type": "stream",
          "text": [
            "Classification Report\n",
            "              precision    recall  f1-score   support\n",
            "\n",
            "           0       0.47      0.50      0.48        16\n",
            "           1       0.00      0.00      0.00         5\n",
            "          10       0.60      0.30      0.40        20\n",
            "         100       0.00      0.00      0.00         5\n",
            "          11       0.38      0.20      0.26        15\n",
            "          12       0.26      0.59      0.36        17\n",
            "          13       0.33      0.20      0.25         5\n",
            "          14       0.70      0.37      0.48        19\n",
            "          15       0.77      0.92      0.84        36\n",
            "          16       0.57      0.88      0.69        32\n",
            "          17       0.00      0.00      0.00         3\n",
            "          18       0.30      0.62      0.40        13\n",
            "          19       0.62      0.91      0.74        23\n",
            "           2       0.80      0.87      0.83        55\n",
            "          20       1.00      0.50      0.67         4\n",
            "          21       0.75      0.75      0.75        16\n",
            "          22       0.87      0.87      0.87        31\n",
            "          23       1.00      1.00      1.00         1\n",
            "          24       0.00      0.00      0.00         3\n",
            "          25       0.46      0.61      0.52        18\n",
            "          26       0.31      0.36      0.33        14\n",
            "          27       0.63      0.74      0.68        54\n",
            "          28       0.53      0.47      0.50        19\n",
            "          29       0.67      0.25      0.36         8\n",
            "           3       0.00      0.00      0.00         4\n",
            "          30       1.00      0.20      0.33         5\n",
            "          31       0.86      0.60      0.71        10\n",
            "          32       0.00      0.00      0.00         4\n",
            "          33       1.00      0.50      0.67         2\n",
            "          34       0.27      0.25      0.26        12\n",
            "          35       0.50      0.67      0.57         6\n",
            "          36       0.20      0.14      0.17         7\n",
            "          37       0.00      0.00      0.00         2\n",
            "          38       1.00      1.00      1.00         1\n",
            "          39       0.00      0.00      0.00         2\n",
            "           4       0.29      0.40      0.33        15\n",
            "          40       0.20      0.17      0.18        12\n",
            "          41       0.00      0.00      0.00         2\n",
            "          42       0.53      0.45      0.49        20\n",
            "          43       0.41      0.43      0.42        21\n",
            "          44       0.40      0.20      0.27        10\n",
            "          45       0.72      0.62      0.67        29\n",
            "          46       0.00      0.00      0.00         5\n",
            "          47       0.00      0.00      0.00         4\n",
            "          48       0.55      0.50      0.52        12\n",
            "          49       0.50      0.12      0.20         8\n",
            "           5       0.20      0.60      0.30         5\n",
            "          50       0.20      0.08      0.12        12\n",
            "          51       0.00      0.00      0.00         1\n",
            "          52       0.63      0.75      0.69        16\n",
            "          53       0.46      0.75      0.57        24\n",
            "          54       0.26      0.62      0.36        13\n",
            "          55       0.00      0.00      0.00         3\n",
            "          56       0.51      0.73      0.60        26\n",
            "          57       0.60      0.38      0.46         8\n",
            "          58       0.25      0.20      0.22        10\n",
            "          59       0.44      0.69      0.54        35\n",
            "           6       0.33      0.40      0.36        10\n",
            "          60       0.50      0.64      0.56        14\n",
            "          61       0.00      0.00      0.00         3\n",
            "          62       0.00      0.00      0.00         2\n",
            "          63       0.82      0.99      0.89        69\n",
            "          64       0.74      0.70      0.72        20\n",
            "          65       0.55      0.50      0.52        12\n",
            "          66       0.50      0.20      0.29         5\n",
            "          67       0.50      0.78      0.61        18\n",
            "          68       0.69      0.56      0.62        16\n",
            "          69       1.00      0.25      0.40         4\n",
            "           7       0.00      0.00      0.00         4\n",
            "          70       1.00      0.20      0.33         5\n",
            "          71       0.00      0.00      0.00         1\n",
            "          72       0.50      0.33      0.40         6\n",
            "          73       1.00      0.25      0.40         4\n",
            "          74       0.67      0.22      0.33         9\n",
            "          75       0.00      0.00      0.00         2\n",
            "          76       0.65      0.88      0.75        65\n",
            "          77       0.00      0.00      0.00         1\n",
            "          78       0.25      0.38      0.30         8\n",
            "          79       0.33      0.17      0.22        12\n",
            "           8       0.50      0.25      0.33        16\n",
            "          80       0.60      0.43      0.50        14\n",
            "          81       0.00      0.00      0.00         2\n",
            "          82       0.00      0.00      0.00         2\n",
            "          83       0.67      0.40      0.50         5\n",
            "          84       0.85      0.83      0.84        41\n",
            "          85       0.00      0.00      0.00        10\n",
            "          86       0.14      0.10      0.12        10\n",
            "          87       1.00      0.10      0.18        10\n",
            "          88       0.50      0.45      0.48        11\n",
            "          89       0.42      0.50      0.45        10\n",
            "           9       0.00      0.00      0.00         7\n",
            "          90       1.00      0.20      0.33         5\n",
            "          91       0.00      0.00      0.00         3\n",
            "          92       0.67      0.17      0.27        12\n",
            "          93       1.00      0.33      0.50         6\n",
            "          94       0.36      0.42      0.38        12\n",
            "          95       1.00      0.33      0.50        12\n",
            "          96       0.00      0.00      0.00         2\n",
            "          97       0.00      0.00      0.00         5\n",
            "          98       0.53      0.74      0.62        23\n",
            "          99       0.40      0.22      0.29         9\n",
            "\n",
            "    accuracy                           0.56      1295\n",
            "   macro avg       0.43      0.36      0.36      1295\n",
            "weighted avg       0.55      0.56      0.53      1295\n",
            "\n"
          ],
          "name": "stdout"
        },
        {
          "output_type": "stream",
          "text": [
            "/usr/local/lib/python3.7/dist-packages/sklearn/metrics/_classification.py:1272: UndefinedMetricWarning: Precision and F-score are ill-defined and being set to 0.0 in labels with no predicted samples. Use `zero_division` parameter to control this behavior.\n",
            "  _warn_prf(average, modifier, msg_start, len(result))\n"
          ],
          "name": "stderr"
        }
      ]
    },
    {
      "cell_type": "code",
      "metadata": {
        "id": "ujLQjTf2Rv11"
      },
      "source": [
        "log_data = pd.read_csv(work_dir+log_name, sep=',', engine='python') "
      ],
      "execution_count": 49,
      "outputs": []
    },
    {
      "cell_type": "code",
      "metadata": {
        "id": "To55jgGSRv4a",
        "colab": {
          "base_uri": "https://localhost:8080/",
          "height": 206
        },
        "outputId": "a21b9133-50d7-4787-b8d1-16679815b74d"
      },
      "source": [
        "# Getting the model history keys \n",
        "#history.history.keys()\n",
        "log_data.head()"
      ],
      "execution_count": 50,
      "outputs": [
        {
          "output_type": "execute_result",
          "data": {
            "text/html": [
              "<div>\n",
              "<style scoped>\n",
              "    .dataframe tbody tr th:only-of-type {\n",
              "        vertical-align: middle;\n",
              "    }\n",
              "\n",
              "    .dataframe tbody tr th {\n",
              "        vertical-align: top;\n",
              "    }\n",
              "\n",
              "    .dataframe thead th {\n",
              "        text-align: right;\n",
              "    }\n",
              "</style>\n",
              "<table border=\"1\" class=\"dataframe\">\n",
              "  <thead>\n",
              "    <tr style=\"text-align: right;\">\n",
              "      <th></th>\n",
              "      <th>epoch</th>\n",
              "      <th>accuracy</th>\n",
              "      <th>loss</th>\n",
              "      <th>val_accuracy</th>\n",
              "      <th>val_loss</th>\n",
              "    </tr>\n",
              "  </thead>\n",
              "  <tbody>\n",
              "    <tr>\n",
              "      <th>0</th>\n",
              "      <td>0</td>\n",
              "      <td>0.025105</td>\n",
              "      <td>10.308405</td>\n",
              "      <td>0.180556</td>\n",
              "      <td>8.369463</td>\n",
              "    </tr>\n",
              "    <tr>\n",
              "      <th>1</th>\n",
              "      <td>1</td>\n",
              "      <td>0.047699</td>\n",
              "      <td>9.875715</td>\n",
              "      <td>0.162037</td>\n",
              "      <td>8.165852</td>\n",
              "    </tr>\n",
              "    <tr>\n",
              "      <th>2</th>\n",
              "      <td>2</td>\n",
              "      <td>0.060251</td>\n",
              "      <td>9.495501</td>\n",
              "      <td>0.208333</td>\n",
              "      <td>7.878910</td>\n",
              "    </tr>\n",
              "    <tr>\n",
              "      <th>3</th>\n",
              "      <td>3</td>\n",
              "      <td>0.076151</td>\n",
              "      <td>9.340863</td>\n",
              "      <td>0.245370</td>\n",
              "      <td>7.728754</td>\n",
              "    </tr>\n",
              "    <tr>\n",
              "      <th>4</th>\n",
              "      <td>4</td>\n",
              "      <td>0.091213</td>\n",
              "      <td>9.082301</td>\n",
              "      <td>0.245370</td>\n",
              "      <td>7.538422</td>\n",
              "    </tr>\n",
              "  </tbody>\n",
              "</table>\n",
              "</div>"
            ],
            "text/plain": [
              "   epoch  accuracy       loss  val_accuracy  val_loss\n",
              "0      0  0.025105  10.308405      0.180556  8.369463\n",
              "1      1  0.047699   9.875715      0.162037  8.165852\n",
              "2      2  0.060251   9.495501      0.208333  7.878910\n",
              "3      3  0.076151   9.340863      0.245370  7.728754\n",
              "4      4  0.091213   9.082301      0.245370  7.538422"
            ]
          },
          "metadata": {
            "tags": []
          },
          "execution_count": 50
        }
      ]
    },
    {
      "cell_type": "code",
      "metadata": {
        "id": "aytAYSJ4Rv7T",
        "colab": {
          "base_uri": "https://localhost:8080/",
          "height": 348
        },
        "outputId": "d3c804d5-af35-4a70-c28b-408d7a8b256c"
      },
      "source": [
        "# plot the training artifacts\n",
        "title = \"Val loss for \"+dataset+\" \"+impl_type+\"\\n\"\n",
        "\n",
        "plt.plot(log_data['loss'])\n",
        "plt.plot(log_data['val_loss'])\n",
        "plt.title(title)\n",
        "plt.ylabel('loss')\n",
        "plt.xlabel('epoch')\n",
        "plt.legend(['train_loss','val_loss'], loc = 'best')\n",
        "plt.grid(b=True, which='major', axis='both')\n",
        "\n",
        "img_path = work_dir+'Images/vLoss_'+checkpointer_name[8:-5]+'.png'\n",
        "plt.savefig(img_path, dpi=600)\n",
        "plt.show()\n",
        "print('img_path =', img_path)"
      ],
      "execution_count": 51,
      "outputs": [
        {
          "output_type": "display_data",
          "data": {
            "image/png": "[encoded data removed]",
            "text/plain": [
              "<Figure size 432x288 with 1 Axes>"
            ]
          },
          "metadata": {
            "tags": [],
            "needs_background": "light"
          }
        },
        {
          "output_type": "stream",
          "text": [
            "img_path = drive/My Drive/Texture/Bark-101-anonymized/Records/Images/vLoss_Bark_101.DataAug.rgb.256p.TTV.DataFlow.pad0.TL.3D.DenseNet201.wInit.imagenet.TrainableAfter.allDefault.Dense.1024.1024.2048.actF.elu.opt.Adam.drop.0.5.batch8.Flatten.l2.0.001.run_2.png\n"
          ],
          "name": "stdout"
        }
      ]
    },
    {
      "cell_type": "code",
      "metadata": {
        "id": "yUq1WaElRv-M",
        "colab": {
          "base_uri": "https://localhost:8080/",
          "height": 348
        },
        "outputId": "ca26d770-ed83-474c-e46a-4ca1c431504b"
      },
      "source": [
        "title = \"Val acc for \"+dataset+\" \"+impl_type+\"\\n\"\n",
        "\n",
        "plt.plot(log_data['accuracy'])\n",
        "plt.plot(log_data['val_accuracy'])\n",
        "plt.title(title)\n",
        "plt.ylabel('accuracy')\n",
        "plt.xlabel('epoch')\n",
        "plt.legend(['train_accuracy','val_accuracy'], loc = 'best')\n",
        "plt.grid(b=True, which='major', axis='both')\n",
        "\n",
        "img_path = work_dir+'Images/vAcc_'+checkpointer_name[8:-5]+'.png'\n",
        "plt.savefig(img_path, dpi=600)\n",
        "plt.show()\n",
        "print('img_path =', img_path)"
      ],
      "execution_count": 52,
      "outputs": [
        {
          "output_type": "display_data",
          "data": {
            "image/png": "[encoded data removed]",
            "text/plain": [
              "<Figure size 432x288 with 1 Axes>"
            ]
          },
          "metadata": {
            "tags": [],
            "needs_background": "light"
          }
        },
        {
          "output_type": "stream",
          "text": [
            "img_path = drive/My Drive/Texture/Bark-101-anonymized/Records/Images/vAcc_Bark_101.DataAug.rgb.256p.TTV.DataFlow.pad0.TL.3D.DenseNet201.wInit.imagenet.TrainableAfter.allDefault.Dense.1024.1024.2048.actF.elu.opt.Adam.drop.0.5.batch8.Flatten.l2.0.001.run_2.png\n"
          ],
          "name": "stdout"
        }
      ]
    },
    {
      "cell_type": "code",
      "metadata": {
        "id": "w4msuVKMSk8E"
      },
      "source": [
        ""
      ],
      "execution_count": 52,
      "outputs": []
    }
  ]
}